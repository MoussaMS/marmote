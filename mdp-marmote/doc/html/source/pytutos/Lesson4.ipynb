{
 "cells": [
  {
   "cell_type": "markdown",
   "id": "6aa6aecc-a5a5-41ef-93b9-60b344d339d4",
   "metadata": {},
   "source": [
    "# Lesson 4: working with Distributions"
   ]
  },
  {
   "cell_type": "code",
   "execution_count": null,
   "id": "fd7c132f-2fed-40ae-9e33-1288b795818a",
   "metadata": {},
   "outputs": [],
   "source": [
    "import marmote.core as marmotecore\n",
    "import marmote.markovchain as mmc\n",
    "import numpy as np"
   ]
  },
  {
   "cell_type": "markdown",
   "id": "b90e338e-b8ca-4338-88dd-62d675f572d4",
   "metadata": {},
   "source": [
    "Distributions are everywhere in `Marmote`: as inputs and as outputs of many procedures.\n",
    "\n",
    "The complete hierarchy of distributions is currently:\n",
    "\n",
    "* `Distribution`\n",
    "  * `DiscreteDistribution`\n",
    "    * `DiracDistribution`\n",
    "    * `BernoulliDistribution`\n",
    "    * `UniformDiscreteDistribution`\n",
    "    * `PoissonDistribution`\n",
    "    * `ShiftedGeometricDistribution`\n",
    "      * `GeometricDistribtion`\n",
    "    * `PhaseTypeDiscreteDistribution`\n",
    "  * `GammaDistribution`\n",
    "    * `ErlangDistribution`\n",
    "      * `ExponentialDistribution`\n",
    "  * `GaussianDistribution`\n",
    "  * `UniformDistribution`\n",
    "  * `PhaseTypeDistribution`"
   ]
  },
  {
   "cell_type": "markdown",
   "id": "04e73df8-ecab-4149-ac14-252ab4e432f7",
   "metadata": {},
   "source": [
    "## Common Features"
   ]
  },
  {
   "cell_type": "markdown",
   "id": "276c6a90-cfab-495e-b059-d823d7319c18",
   "metadata": {},
   "source": [
    "### Statistical information"
   ]
  },
  {
   "cell_type": "markdown",
   "id": "346b7a99-6df3-496a-b3dc-eaf64fd7aedd",
   "metadata": {},
   "source": [
    "`Distribution` objects have all usual statistical methods, plus Laplace transform ones useful in some stochastic modeling.\n",
    "\n",
    "The following code is self-explanatory."
   ]
  },
  {
   "cell_type": "code",
   "execution_count": null,
   "id": "02336e93-ba38-47af-8db1-7c87df29eec4",
   "metadata": {},
   "outputs": [],
   "source": [
    "udis = marmotecore.UniformDistribution( 4, 10 )\n",
    "print( udis.className() )\n",
    "print( udis.Mean() )\n",
    "print( udis.Rate() )         ## Rate is the inverse of Mean\n",
    "print( udis.Variance() )\n",
    "print( udis.Cdf(6.0) )\n",
    "print( udis.Ccdf(6.0) )\n",
    "print( udis.Laplace(0.01) )  ## Laplace transform (only at real values)\n",
    "print( udis.DLaplace(0.01) ) ## DLaplace computes the derivative of the Laplace transform"
   ]
  },
  {
   "cell_type": "code",
   "execution_count": null,
   "id": "244ae83c-89e8-4129-8e03-ecf5ed62873f",
   "metadata": {},
   "outputs": [],
   "source": [
    "uddis = marmotecore.UniformDiscreteDistribution( 4, 10 )\n",
    "print( uddis.className() )\n",
    "print( uddis.Mean() )\n",
    "print( uddis.Rate() )\n",
    "print( uddis.Variance() )\n",
    "print( uddis.Cdf(6.0) )\n",
    "print( uddis.Ccdf(6.0) )\n",
    "print( uddis.Laplace(0.01) )\n",
    "print( uddis.DLaplace(0.01) )"
   ]
  },
  {
   "cell_type": "code",
   "execution_count": null,
   "id": "18a87a8e-5e66-49f1-992a-de11ac39bdbf",
   "metadata": {},
   "outputs": [],
   "source": [
    "edis = marmotecore.ExponentialDistribution( 4.0 )\n",
    "print( edis.Mean() )\n",
    "print( edis.Rate() )\n",
    "print( edis.Variance() )\n",
    "print( edis.Cdf(6.0) )\n",
    "print( edis.Ccdf(6.0) )\n",
    "print( edis.Laplace(0.0) )\n",
    "print( edis.DLaplace(0.0) )"
   ]
  },
  {
   "cell_type": "markdown",
   "id": "d0d24053-517d-4ae9-a309-84df11e3595a",
   "metadata": {},
   "source": [
    "### Some structural information"
   ]
  },
  {
   "cell_type": "markdown",
   "id": "cbc678f7-d066-4e78-b678-9aa0feefe8b9",
   "metadata": {},
   "source": [
    "Some properties can be tested (mostly useful for `Marmote` developpers)."
   ]
  },
  {
   "cell_type": "code",
   "execution_count": null,
   "id": "7df662fe-8d03-4879-96e4-0531ba7f5ed0",
   "metadata": {},
   "outputs": [],
   "source": [
    "print( edis.HasProperty(\"integerValued\") )\n",
    "print( edis.HasProperty(\"continuous\"))\n",
    "print( uddis.HasProperty(\"integerValued\") )\n",
    "print( uddis.HasProperty(\"compactSupport\") )"
   ]
  },
  {
   "cell_type": "markdown",
   "id": "06e56c7d-e5db-490c-a324-b3ebe6ea71b0",
   "metadata": {},
   "source": [
    "### Sampling"
   ]
  },
  {
   "cell_type": "markdown",
   "id": "7ff1d74e-8adf-4e81-9f92-8f53d541bb87",
   "metadata": {},
   "source": [
    "Distributions can be sampled."
   ]
  },
  {
   "cell_type": "code",
   "execution_count": null,
   "id": "47cf53d2-7e6e-4310-9ac2-4bbe1ae0ad49",
   "metadata": {},
   "outputs": [],
   "source": [
    "for i in range(4):\n",
    "    print( edis.Sample() )\n",
    "print()\n",
    "for i in range(4):\n",
    "    print( udis.Sample() )\n",
    "print()\n",
    "for i in range(4):\n",
    "    print( uddis.Sample() )"
   ]
  },
  {
   "cell_type": "markdown",
   "id": "81d5fd21-ce66-4d3f-81b3-1271a0c55484",
   "metadata": {},
   "source": [
    "## Some distributions can be manipulated"
   ]
  },
  {
   "cell_type": "markdown",
   "id": "20ae7368-b6b9-431a-8d41-349378986202",
   "metadata": {},
   "source": [
    "Rescaling is possible for some families of distributions."
   ]
  },
  {
   "cell_type": "code",
   "execution_count": null,
   "id": "78894d44-32e4-490a-a4c5-24a14b2cf9f8",
   "metadata": {},
   "outputs": [],
   "source": [
    "print( udis )\n",
    "print( udis.Rescale( 0.5 ) )"
   ]
  },
  {
   "cell_type": "code",
   "execution_count": null,
   "id": "772a1a18-9da5-4b33-879e-33ecf05ad363",
   "metadata": {},
   "outputs": [],
   "source": [
    "print( edis )\n",
    "print( edis.Rescale( 5.0 ) )"
   ]
  },
  {
   "cell_type": "code",
   "execution_count": null,
   "id": "c2369e61-9877-4b14-91d0-887b96010df7",
   "metadata": {},
   "outputs": [],
   "source": [
    "didis = marmotecore.DiscreteDistribution( [ 3.4, 4.5, 6.7, 8.9 ], [ 0.1, 0.2, 0.3, 0.4 ] )\n",
    "print( didis )\n",
    "print( didis.Rescale(10.0) )"
   ]
  },
  {
   "cell_type": "markdown",
   "id": "cc4646f2-b5f1-4446-a506-290c857edd68",
   "metadata": {},
   "source": [
    "But rescaling does not work for all distributions..."
   ]
  },
  {
   "cell_type": "code",
   "execution_count": null,
   "id": "702a1e7f-4018-419d-846d-c35d6f36af59",
   "metadata": {},
   "outputs": [],
   "source": [
    "print( uddis )\n",
    "try:\n",
    "    print( uddis.Rescale( 0.5 ) )\n",
    "except:\n",
    "    pass"
   ]
  },
  {
   "cell_type": "markdown",
   "id": "67bf3db1-82ef-4bd5-8a60-327d9cc5a2e7",
   "metadata": {},
   "source": [
    "## Comparison of distributions"
   ]
  },
  {
   "cell_type": "markdown",
   "id": "ce4eae23-ef45-4d95-a38d-8e6d7e49574b",
   "metadata": {},
   "source": [
    "The distance between some of the classes of distributions can be computed.\n",
    "Available distances are:\n",
    "\n",
    "* L1 distance\n",
    "* L2 distance\n",
    "* L-infinity distance\n",
    "* Total variation distance"
   ]
  },
  {
   "cell_type": "code",
   "execution_count": null,
   "id": "b1613af7-37a8-4e30-8d21-6fa5685d8472",
   "metadata": {},
   "outputs": [],
   "source": [
    "d1 = marmotecore.UniformDiscreteDistribution( 0, 19 )\n",
    "d2 = marmotecore.GeometricDistribution( 0.5 )\n",
    "d3 = marmotecore.UniformDiscreteDistribution( 0, 24 )\n",
    "d4 = marmotecore.GeometricDistribution( 0.55 )"
   ]
  },
  {
   "cell_type": "code",
   "execution_count": null,
   "id": "2fe4de73-d0ca-442d-94d7-4779506ad911",
   "metadata": {},
   "outputs": [],
   "source": [
    "print( \"L1 = \", marmotecore.Distribution.DistanceL1( d1, d2 ) )\n",
    "print( \"L2 = \", marmotecore.Distribution.DistanceL2( d1, d2 ) )\n",
    "print( \"Linf = \", marmotecore.Distribution.DistanceLInfinity( d1, d2 ) )\n",
    "print( \"TV = \", marmotecore.Distribution.DistanceTV( d1, d2 ) )"
   ]
  },
  {
   "cell_type": "code",
   "execution_count": null,
   "id": "6d7122d8-6af8-479e-bc93-11f287b62fde",
   "metadata": {},
   "outputs": [],
   "source": [
    "print( \"Computable L-infinity distance:\", marmotecore.Distribution.DistanceLInfinity( d1, d3 ) )\n",
    "try:\n",
    "    print( \"Not computable distance:\", marmotecore.Distribution.DistanceLInfinity( d2, d4 ) )\n",
    "except:\n",
    "    pass"
   ]
  },
  {
   "cell_type": "markdown",
   "id": "6066fd04-c5d7-45d9-a12a-01a2533bb01b",
   "metadata": {},
   "source": [
    "## Markov Chain operations which return distributions"
   ]
  },
  {
   "cell_type": "markdown",
   "id": "10355556-840c-4e73-a091-b8277cd5919f",
   "metadata": {},
   "source": [
    "### State distributions in Markov Chains"
   ]
  },
  {
   "cell_type": "markdown",
   "id": "9b804485-346c-4b46-84a2-f5d35309f251",
   "metadata": {},
   "source": [
    "Example: with a 4-state continuous birth-death Markov Chain"
   ]
  },
  {
   "cell_type": "code",
   "execution_count": null,
   "id": "aece287d-ad31-4b7a-af7d-ebda316fd297",
   "metadata": {},
   "outputs": [],
   "source": [
    "four = mmc.Homogeneous1DBirthDeath( 4, 3.0, 1.0 )"
   ]
  },
  {
   "cell_type": "markdown",
   "id": "8620f050-4a87-4e3c-8ea3-92edeba8b9a7",
   "metadata": {},
   "source": [
    "Distributions of one-step transitions"
   ]
  },
  {
   "cell_type": "code",
   "execution_count": null,
   "id": "1a7fc331-cbca-4436-933f-2b4c318d9ddb",
   "metadata": {},
   "outputs": [],
   "source": [
    "print( four.generator().TransDistrib(0) )\n",
    "print( four.generator().TransDistrib(1) )\n",
    "print( four.generator().TransDistrib(2) )\n",
    "print( four.generator().TransDistrib(3) )"
   ]
  },
  {
   "cell_type": "markdown",
   "id": "fb090da0-3b70-49f4-b392-552d33de4560",
   "metadata": {},
   "source": [
    "Transient and stationary distributions"
   ]
  },
  {
   "cell_type": "code",
   "execution_count": null,
   "id": "eab21707-1426-4427-a296-6966ba2e7208",
   "metadata": {},
   "outputs": [],
   "source": [
    "print( four.TransientDistribution(4) )\n",
    "print( four.StationaryDistribution() )"
   ]
  },
  {
   "cell_type": "markdown",
   "id": "3cf84d29-0f9f-4edb-b494-525f966ff2c9",
   "metadata": {},
   "source": [
    "Empirical state distributions through simulation"
   ]
  },
  {
   "cell_type": "code",
   "execution_count": null,
   "id": "ff816946-3457-4fa5-8812-26ceee24310e",
   "metadata": {},
   "outputs": [],
   "source": [
    "simres = four.SimulateChain( 20, True, False, False, False )\n",
    "print( simres.Distribution() )"
   ]
  },
  {
   "cell_type": "markdown",
   "id": "0aef46a1-e580-41f5-ae1d-e21a319dcc41",
   "metadata": {},
   "source": [
    "### Hitting time distributions"
   ]
  },
  {
   "cell_type": "markdown",
   "id": "692b6778-d191-452a-af3b-db25cb155023",
   "metadata": {},
   "source": [
    "For some Markov chains, hitting time distributions are avaliable.\n",
    "\n",
    "More on these special Markov chains in Lesson5."
   ]
  },
  {
   "cell_type": "code",
   "execution_count": null,
   "id": "d365bf37-5248-4674-a8df-01f803547516",
   "metadata": {},
   "outputs": [],
   "source": [
    "two = mmc.TwoStateContinuous( 5.0, 1.0 )"
   ]
  },
  {
   "cell_type": "code",
   "execution_count": null,
   "id": "0fceb174-323f-48f2-9741-7079aecf3ed9",
   "metadata": {},
   "outputs": [],
   "source": [
    "hitset = np.array( [ 0, 1 ], dtype=bool )\n",
    "hd = two.HittingTimeDistribution( hitset )"
   ]
  },
  {
   "cell_type": "code",
   "execution_count": null,
   "id": "6fb6093a-9b26-4f00-a9c7-dbb9eeb741e0",
   "metadata": {},
   "outputs": [],
   "source": [
    "print( hd[0] )\n",
    "print( hd[1] )"
   ]
  },
  {
   "cell_type": "code",
   "execution_count": null,
   "id": "1e4c1045-dd3e-4e88-9023-c518acc3bafe",
   "metadata": {},
   "outputs": [],
   "source": [
    "f81 = mmc.Felsenstein81( [ 0.1, 0.2, 0.3, 0.4 ], 1.0 )"
   ]
  },
  {
   "cell_type": "code",
   "execution_count": null,
   "id": "13cbf1df-ead6-410e-b4c0-fbe4337c8b9a",
   "metadata": {},
   "outputs": [],
   "source": [
    "hitset = np.array( [ False, False, True, False ], dtype=bool )\n",
    "hd = f81.HittingTimeDistribution( hitset )\n",
    "print( hd[0] )\n",
    "print( hd[1] )\n",
    "print( hd[2] )\n",
    "print( hd[3] )"
   ]
  }
 ],
 "metadata": {
  "kernelspec": {
   "display_name": "Python 3 (ipykernel)",
   "language": "python",
   "name": "python3"
  },
  "language_info": {
   "codemirror_mode": {
    "name": "ipython",
    "version": 3
   },
   "file_extension": ".py",
   "mimetype": "text/x-python",
   "name": "python",
   "nbconvert_exporter": "python",
   "pygments_lexer": "ipython3",
   "version": "3.10.14"
  }
 },
 "nbformat": 4,
 "nbformat_minor": 5
}
