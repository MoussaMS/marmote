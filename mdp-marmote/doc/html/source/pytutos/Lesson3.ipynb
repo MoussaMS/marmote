{
 "cells": [
  {
   "cell_type": "markdown",
   "id": "0dd1f4fc-58cd-42f3-a56d-2ad354ce343e",
   "metadata": {
    "editable": true,
    "slideshow": {
     "slide_type": ""
    },
    "tags": []
   },
   "source": [
    "# Lesson 3: working with state spaces"
   ]
  },
  {
   "cell_type": "code",
   "execution_count": null,
   "id": "0ba1ba04-c2a1-4e40-8a54-a5cdfea098d0",
   "metadata": {
    "editable": true,
    "slideshow": {
     "slide_type": ""
    },
    "tags": []
   },
   "outputs": [],
   "source": [
    "import marmote.core as marmotecore\n",
    "import marmote.markovchain as mmc\n",
    "import numpy as np"
   ]
  },
  {
   "cell_type": "markdown",
   "id": "8d5bd8b2-9e23-4c76-8653-33a92dbb5021",
   "metadata": {
    "editable": true,
    "slideshow": {
     "slide_type": ""
    },
    "tags": []
   },
   "source": [
    "The basic set in `Marmote` is an interval"
   ]
  },
  {
   "cell_type": "markdown",
   "id": "10d191ed-9eaa-4841-a5ea-fd1b11447206",
   "metadata": {
    "editable": true,
    "slideshow": {
     "slide_type": ""
    },
    "tags": []
   },
   "source": [
    "## Functionalities of MarmoteSet: example with intervals and boxes"
   ]
  },
  {
   "cell_type": "markdown",
   "id": "71fa5867-a274-4c98-890d-981f970cc03f",
   "metadata": {},
   "source": [
    "Basic sets in `Marmote` are intervals and \"boxes\": the object classes are\n",
    "`MarmoteInterval` and `MarmoteBox`."
   ]
  },
  {
   "cell_type": "markdown",
   "id": "0e03b649-ba2d-44e1-b496-33c90136d816",
   "metadata": {},
   "source": [
    "Creation of an (integer) interval between 0 and 6 included."
   ]
  },
  {
   "cell_type": "code",
   "execution_count": null,
   "id": "237b15e3-c717-4db6-9501-ff9303a79c57",
   "metadata": {
    "editable": true,
    "slideshow": {
     "slide_type": ""
    },
    "tags": []
   },
   "outputs": [],
   "source": [
    "itl = marmotecore.MarmoteInterval(0,6)"
   ]
  },
  {
   "cell_type": "code",
   "execution_count": null,
   "id": "863a0902-2d76-4744-bdd7-e923b9db2461",
   "metadata": {
    "editable": true,
    "slideshow": {
     "slide_type": ""
    },
    "tags": []
   },
   "outputs": [],
   "source": [
    "print( \"name = \", itl.className())\n",
    "print( \"cardinal = \", itl.Cardinal())\n",
    "print(itl)"
   ]
  },
  {
   "cell_type": "markdown",
   "id": "aec48f13-107a-47b9-9fc5-42e97ba19b1c",
   "metadata": {},
   "source": [
    "Creation of a 2-d box with size 2 in the first dimension and 3 in the second one.\n",
    "Note that ranges will be 0..1 and 0..2."
   ]
  },
  {
   "cell_type": "code",
   "execution_count": null,
   "id": "5fae7cb9-797a-457a-91f5-7c0bc8f612c1",
   "metadata": {
    "editable": true,
    "slideshow": {
     "slide_type": ""
    },
    "tags": []
   },
   "outputs": [],
   "source": [
    "box = marmotecore.MarmoteBox( [ 2, 3 ] )"
   ]
  },
  {
   "cell_type": "markdown",
   "id": "b451cc5d-6353-4eeb-9130-0f77f8a0180c",
   "metadata": {
    "editable": true,
    "slideshow": {
     "slide_type": ""
    },
    "tags": []
   },
   "source": [
    "Inspecting the propreties of the object"
   ]
  },
  {
   "cell_type": "code",
   "execution_count": null,
   "id": "61e6f464-ebf2-46e6-919d-738977d38023",
   "metadata": {
    "editable": true,
    "slideshow": {
     "slide_type": ""
    },
    "tags": []
   },
   "outputs": [],
   "source": [
    "print( \"name = \", box.className())\n",
    "print( \"cardinal = \", box.Cardinal())\n",
    "print(box)"
   ]
  },
  {
   "cell_type": "markdown",
   "id": "a13561f2-da61-4d29-8acc-e66e30ed8077",
   "metadata": {
    "editable": true,
    "slideshow": {
     "slide_type": ""
    },
    "tags": []
   },
   "source": [
    "Listing all the states"
   ]
  },
  {
   "cell_type": "code",
   "execution_count": null,
   "id": "8aefd702-06d7-44eb-bc53-d287457a4939",
   "metadata": {
    "editable": true,
    "slideshow": {
     "slide_type": ""
    },
    "tags": []
   },
   "outputs": [],
   "source": [
    "box.Enumerate()"
   ]
  },
  {
   "cell_type": "markdown",
   "id": "f0b848fc-5221-4a3d-a0d5-a3cf632d2093",
   "metadata": {
    "editable": true,
    "slideshow": {
     "slide_type": ""
    },
    "tags": []
   },
   "source": [
    "## States and their indices"
   ]
  },
  {
   "cell_type": "markdown",
   "id": "9f7855ba-6786-41c5-8117-273aa1d6f388",
   "metadata": {
    "editable": true,
    "slideshow": {
     "slide_type": ""
    },
    "tags": []
   },
   "source": [
    "Every state has an index and conversely. Indices range from 0 to Cardinal()-1.\n",
    "The relevant methods are:\n",
    "\n",
    "* `Index( state )` to get the index of some state\n",
    "* `DecodeState( idx )` to get the state corresponding to some index"
   ]
  },
  {
   "cell_type": "code",
   "execution_count": null,
   "id": "9ebd4e86-e886-4013-9dd6-45dbaf10f67a",
   "metadata": {
    "editable": true,
    "slideshow": {
     "slide_type": ""
    },
    "tags": []
   },
   "outputs": [],
   "source": [
    "box.Index( [1,0] )"
   ]
  },
  {
   "cell_type": "code",
   "execution_count": null,
   "id": "e8a6e4db-8621-49bc-8be4-aace5e332f3f",
   "metadata": {
    "editable": true,
    "slideshow": {
     "slide_type": ""
    },
    "tags": []
   },
   "outputs": [],
   "source": [
    "box.DecodeState( 4 )"
   ]
  },
  {
   "cell_type": "markdown",
   "id": "8cc4e99d-2218-4728-8abd-900ae86c6122",
   "metadata": {},
   "source": [
    "### Printing states"
   ]
  },
  {
   "cell_type": "markdown",
   "id": "10a2c866-74f4-4507-87a3-6a14ffa705dd",
   "metadata": {
    "editable": true,
    "slideshow": {
     "slide_type": ""
    },
    "tags": []
   },
   "source": [
    "When printing states, it is possible to get both its index information and its description.\n",
    "\n",
    "`Marmote` has a \"policy\" for writing states which is controlled as follows. First we save the current policy\n",
    "using the method `stateWritePolicy()`."
   ]
  },
  {
   "cell_type": "code",
   "execution_count": null,
   "id": "673b2d4a-dd16-465b-b910-5e305101a0e3",
   "metadata": {
    "editable": true,
    "slideshow": {
     "slide_type": ""
    },
    "tags": [
     "hide-input"
    ]
   },
   "outputs": [],
   "source": [
    "polsave = marmotecore.stateWritePolicy()"
   ]
  },
  {
   "cell_type": "markdown",
   "id": "cfd8a5f0-3a70-4336-8d1f-7561f28354a0",
   "metadata": {},
   "source": [
    "Next we manipulate the way states are printed with the method `setStateWritePolicy()`. We set in sequence the policy to its three possible values: `STATE_INDEX`, `STATE_BOTH` and `STATE_FULL`."
   ]
  },
  {
   "cell_type": "code",
   "execution_count": null,
   "id": "d18e5cdb-7938-4a7f-acfb-126623a08b3e",
   "metadata": {
    "editable": true,
    "slideshow": {
     "slide_type": ""
    },
    "tags": []
   },
   "outputs": [],
   "source": [
    "marmotecore.setStateWritePolicy( marmotecore.STATE_INDEX )\n",
    "print( \"Format with index: \", box.FormatState( 4 ) )\n",
    "marmotecore.setStateWritePolicy( marmotecore.STATE_BOTH )\n",
    "print( \"Format with both: \", box.FormatState( 4 ) )\n",
    "marmotecore.setStateWritePolicy( marmotecore.STATE_FULL )\n",
    "print( \"Format with full description: \", box.FormatState( 4 ) )"
   ]
  },
  {
   "cell_type": "markdown",
   "id": "65c03a9c-1be3-4ce8-a575-748c8c772457",
   "metadata": {},
   "source": [
    "Finally we restore the policy to what it was previously."
   ]
  },
  {
   "cell_type": "code",
   "execution_count": null,
   "id": "4447bf09-db3f-405a-89c4-05f0ebb8b44b",
   "metadata": {
    "editable": true,
    "slideshow": {
     "slide_type": ""
    },
    "tags": [
     "hide-input"
    ]
   },
   "outputs": [],
   "source": [
    "marmotecore.setStateWritePolicy(polsave)"
   ]
  },
  {
   "cell_type": "markdown",
   "id": "6b40fcad-06af-427d-82a6-c262e82e0722",
   "metadata": {
    "editable": true,
    "slideshow": {
     "slide_type": ""
    },
    "tags": []
   },
   "source": [
    "## Looping through the states"
   ]
  },
  {
   "cell_type": "markdown",
   "id": "61eec657-0ae4-4c62-bf9c-04b7f01df699",
   "metadata": {
    "editable": true,
    "slideshow": {
     "slide_type": ""
    },
    "tags": []
   },
   "source": [
    "There exist other ways to inspect `MarmoteSet` objects and make the correspondence between *states* and *indices*.\n",
    "The following one uses the standard way to walk through a set using methods:\n",
    "\n",
    "* `FirstState(state)` to initialize the state to the \"zero state\"\n",
    "* `Index(state)` to convert a state to its index\n",
    "* `NextState(state)` to move the state its follower in the set's order\n",
    "* `IsFirst(state)` to test if the state is the \"zero state\".\n",
    "  \n",
    "All use a `state` variable which is an array of integers. Some methods *modify* this array."
   ]
  },
  {
   "cell_type": "code",
   "execution_count": null,
   "id": "20126fd7-657a-40bb-b026-268c3a57a0cd",
   "metadata": {
    "editable": true,
    "slideshow": {
     "slide_type": ""
    },
    "tags": []
   },
   "outputs": [],
   "source": [
    "marmotecore.setStateWritePolicy( marmotecore.STATE_BOTH )\n",
    "bbuf = box.StateBuffer()\n",
    "box.FirstState(bbuf)           # the buffer is modified!\n",
    "isover = False\n",
    "while not isover:\n",
    "    idx = box.Index(bbuf)\n",
    "    print( box.FormatState( box.Index(bbuf) ) )\n",
    "    box.NextState(bbuf)        # the buffer is modified!\n",
    "    isover = box.IsFirst(bbuf)"
   ]
  },
  {
   "cell_type": "markdown",
   "id": "ca7cbe3d-6f94-4100-b017-462950c2e9d8",
   "metadata": {
    "editable": true,
    "slideshow": {
     "slide_type": ""
    },
    "tags": []
   },
   "source": [
    "## Other sets"
   ]
  },
  {
   "cell_type": "markdown",
   "id": "17514de7-ee8d-44e7-9d78-ea7ba453dfe1",
   "metadata": {
    "editable": true,
    "slideshow": {
     "slide_type": ""
    },
    "tags": []
   },
   "source": [
    "The complete hierarchy of `MarmoteSet` objects is currently:\n",
    "\n",
    "* `EmptySet`\n",
    "* `MarmoteInterval`\n",
    "  + `Integers`\n",
    "* `MarmoteBox`\n",
    "* `BinarySequence`\n",
    "* `BinarySimplex`\n",
    "* `Simplex`"
   ]
  },
  {
   "cell_type": "markdown",
   "id": "810121cf-2aed-4cb2-9a8e-410f2444be46",
   "metadata": {
    "editable": true,
    "slideshow": {
     "slide_type": ""
    },
    "tags": []
   },
   "source": [
    "### Binary sequences"
   ]
  },
  {
   "cell_type": "code",
   "execution_count": null,
   "id": "54e68557-eeaa-49a0-8af9-9669d4b3688b",
   "metadata": {
    "editable": true,
    "slideshow": {
     "slide_type": ""
    },
    "tags": []
   },
   "outputs": [],
   "source": [
    "biseq = marmotecore.BinarySequence( 6 )"
   ]
  },
  {
   "cell_type": "code",
   "execution_count": null,
   "id": "c80745bc-bb71-45f7-b964-1fad9970b223",
   "metadata": {
    "editable": true,
    "slideshow": {
     "slide_type": ""
    },
    "tags": []
   },
   "outputs": [],
   "source": [
    "print( \"name = \", biseq.className())\n",
    "print( \"cardinal = \", biseq.Cardinal())\n",
    "biseq.Enumerate()"
   ]
  },
  {
   "cell_type": "code",
   "execution_count": null,
   "id": "48a74dd6-467b-4bb0-9d30-039861b4db17",
   "metadata": {
    "editable": true,
    "slideshow": {
     "slide_type": ""
    },
    "tags": []
   },
   "outputs": [],
   "source": [
    "bbuf = biseq.StateBuffer()\n",
    "biseq.FirstState(bbuf)\n",
    "isover = False\n",
    "while not isover:\n",
    "    print( biseq.FormatState( biseq.Index(bbuf) ) )\n",
    "    biseq.NextState(bbuf)\n",
    "    isover = biseq.IsFirst(bbuf)"
   ]
  },
  {
   "cell_type": "markdown",
   "id": "aa81e29c-a918-47d0-96cd-7eadecf6b046",
   "metadata": {
    "editable": true,
    "slideshow": {
     "slide_type": ""
    },
    "tags": []
   },
   "source": [
    "Illustration of membership tests. When a state does not belong to the set, its index is 0 by convention and a warning is issued."
   ]
  },
  {
   "cell_type": "code",
   "execution_count": null,
   "id": "f689bb48-5d18-4b30-b68c-6fd70617da00",
   "metadata": {
    "editable": true,
    "slideshow": {
     "slide_type": ""
    },
    "tags": []
   },
   "outputs": [],
   "source": [
    "st1 = np.array( [1, 0, 1, 1, 0, 1], dtype=int )\n",
    "print( biseq.Belongs( st1 ) )\n",
    "print( biseq.Index( st1 ) )"
   ]
  },
  {
   "cell_type": "code",
   "execution_count": null,
   "id": "a29e96f0-bb66-4508-ba03-bcfd9e706b29",
   "metadata": {
    "editable": true,
    "slideshow": {
     "slide_type": ""
    },
    "tags": []
   },
   "outputs": [],
   "source": [
    "st2 = np.array( [2, 4, 1, 1, 0, 1], dtype=int )\n",
    "print( biseq.Belongs( st2 ) )\n",
    "print( biseq.Index( st2 ) )"
   ]
  },
  {
   "cell_type": "markdown",
   "id": "a433c67e-3999-4f7d-b176-bd3c878d3859",
   "metadata": {
    "editable": true,
    "slideshow": {
     "slide_type": ""
    },
    "tags": []
   },
   "source": [
    "### The set of integers"
   ]
  },
  {
   "cell_type": "markdown",
   "id": "06239be2-25c9-413e-b291-81c65b69bfea",
   "metadata": {
    "editable": true,
    "slideshow": {
     "slide_type": ""
    },
    "tags": []
   },
   "source": [
    "`Marmote` has also a set for all integers!"
   ]
  },
  {
   "cell_type": "code",
   "execution_count": null,
   "id": "53c1f898-e1b7-4c02-b09b-b4bfb9d434cd",
   "metadata": {
    "editable": true,
    "slideshow": {
     "slide_type": ""
    },
    "tags": []
   },
   "outputs": [],
   "source": [
    "itg = marmotecore.MarmoteIntegers()"
   ]
  },
  {
   "cell_type": "code",
   "execution_count": null,
   "id": "0c0a69e4-4146-4561-be9e-47b0a88a9f3e",
   "metadata": {
    "editable": true,
    "slideshow": {
     "slide_type": ""
    },
    "tags": []
   },
   "outputs": [],
   "source": [
    "print( \"name = \", itg.className())\n",
    "print( \"cardinal = \", itg.Cardinal()) ## -2 is the convention for 'infinite cardinal'\n",
    "print( itg.IsFinite() )"
   ]
  },
  {
   "cell_type": "markdown",
   "id": "0b298c4d-1777-46e4-a1fc-fefa05f209e7",
   "metadata": {
    "editable": true,
    "slideshow": {
     "slide_type": ""
    },
    "tags": []
   },
   "source": [
    "Membership tests"
   ]
  },
  {
   "cell_type": "code",
   "execution_count": null,
   "id": "bfc993bd-e9c9-4fa8-8cef-ef908ee883d1",
   "metadata": {
    "editable": true,
    "slideshow": {
     "slide_type": ""
    },
    "tags": []
   },
   "outputs": [],
   "source": [
    "print( itg.Belongs( [4] ) )\n",
    "print( itg.Belongs( [-3] ) )"
   ]
  },
  {
   "cell_type": "code",
   "execution_count": null,
   "id": "eaeae0c6-68d7-4228-9624-b0a8e2ca9734",
   "metadata": {
    "editable": true,
    "slideshow": {
     "slide_type": ""
    },
    "tags": []
   },
   "outputs": [],
   "source": [
    "print( itg.Index( [-3] ) )"
   ]
  },
  {
   "cell_type": "markdown",
   "id": "483d62b0-b174-496d-a4c6-6a971659e016",
   "metadata": {
    "editable": true,
    "slideshow": {
     "slide_type": ""
    },
    "tags": []
   },
   "source": [
    "### Simplices"
   ]
  },
  {
   "cell_type": "markdown",
   "id": "bc01bd9e-8cd9-4db1-8beb-5c843f1e7d90",
   "metadata": {
    "editable": true,
    "slideshow": {
     "slide_type": ""
    },
    "tags": []
   },
   "source": [
    "Simplex sets are sometimes difficult to enumerate. Not with `Marmote`!"
   ]
  },
  {
   "cell_type": "code",
   "execution_count": null,
   "id": "f101a959-5ddc-412d-ac6f-51fae6809b35",
   "metadata": {
    "editable": true,
    "slideshow": {
     "slide_type": ""
    },
    "tags": []
   },
   "outputs": [],
   "source": [
    "splx = marmotecore.Simplex( 7, 3 )"
   ]
  },
  {
   "cell_type": "code",
   "execution_count": null,
   "id": "a452b992-5f84-4a4b-b21e-c99b5071816b",
   "metadata": {
    "editable": true,
    "slideshow": {
     "slide_type": ""
    },
    "tags": []
   },
   "outputs": [],
   "source": [
    "splx.Enumerate()"
   ]
  },
  {
   "cell_type": "code",
   "execution_count": null,
   "id": "dc1002b2-177b-482c-a260-530b0691d907",
   "metadata": {
    "editable": true,
    "slideshow": {
     "slide_type": ""
    },
    "tags": []
   },
   "outputs": [],
   "source": [
    "print( splx.Belongs( [ 0, 0, 0, 0, 0, 0 ] ) )\n",
    "print( splx.Belongs( [ 0, 0, 0, 0, 0, 0, 3 ] ) )\n",
    "print( splx.Belongs( [ 0, -1, 1, 0, 0, 0, 3 ] ) )"
   ]
  },
  {
   "cell_type": "code",
   "execution_count": null,
   "id": "a7303344-7477-40a7-bd02-82ac3fcc8b87",
   "metadata": {
    "editable": true,
    "slideshow": {
     "slide_type": ""
    },
    "tags": []
   },
   "outputs": [],
   "source": [
    "bsplx = marmotecore.BinarySimplex( 7, 3 )"
   ]
  },
  {
   "cell_type": "code",
   "execution_count": null,
   "id": "7283c981-a7f3-4fb4-9d9e-81649220166b",
   "metadata": {
    "editable": true,
    "slideshow": {
     "slide_type": ""
    },
    "tags": []
   },
   "outputs": [],
   "source": [
    "bsplx.Enumerate()"
   ]
  },
  {
   "cell_type": "markdown",
   "id": "8769a56a-f3ed-49e5-be9e-ddeba8add417",
   "metadata": {
    "editable": true,
    "slideshow": {
     "slide_type": ""
    },
    "tags": []
   },
   "source": [
    "More set manipulations to be seen in App_Lesson1!"
   ]
  }
 ],
 "metadata": {
  "kernelspec": {
   "display_name": "Python 3 (ipykernel)",
   "language": "python",
   "name": "python3"
  },
  "language_info": {
   "codemirror_mode": {
    "name": "ipython",
    "version": 3
   },
   "file_extension": ".py",
   "mimetype": "text/x-python",
   "name": "python",
   "nbconvert_exporter": "python",
   "pygments_lexer": "ipython3",
   "version": "3.10.14"
  }
 },
 "nbformat": 4,
 "nbformat_minor": 5
}
