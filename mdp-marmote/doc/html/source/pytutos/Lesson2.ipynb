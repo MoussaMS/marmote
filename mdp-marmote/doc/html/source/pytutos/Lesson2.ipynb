{
 "cells": [
  {
   "cell_type": "markdown",
   "id": "8bcca824-dcd6-4638-a425-cd703944de86",
   "metadata": {},
   "source": [
    "# Lesson 2: solving Markov chains"
   ]
  },
  {
   "cell_type": "code",
   "execution_count": null,
   "id": "ad3c00f8-dc44-4bfb-8677-95bb5cfcb38c",
   "metadata": {
    "editable": true,
    "slideshow": {
     "slide_type": ""
    },
    "tags": []
   },
   "outputs": [],
   "source": [
    "import marmote.core as mc\n",
    "import marmote.markovchain as mmc\n",
    "import numpy as np"
   ]
  },
  {
   "cell_type": "markdown",
   "id": "e57eb194-a334-4634-9bc7-0814e74bdd5f",
   "metadata": {
    "editable": true,
    "slideshow": {
     "slide_type": ""
    },
    "tags": []
   },
   "source": [
    "In Lesson1, we have seen how to create and inspect Markov chains. We now illustrates the different metrics that can be computed on them\n",
    "(what is called \"the solution\")."
   ]
  },
  {
   "cell_type": "markdown",
   "id": "32cd92b0-afcf-4ce7-bd0c-908cd777698e",
   "metadata": {},
   "source": [
    "## First example: solving discrete-time Markov chains"
   ]
  },
  {
   "cell_type": "markdown",
   "id": "483fc25d-0809-473e-acf1-826a7978ef72",
   "metadata": {
    "editable": true,
    "slideshow": {
     "slide_type": ""
    },
    "tags": []
   },
   "source": [
    "We first (re)create the 3-state discrete-time Markov chain of Lesson 1"
   ]
  },
  {
   "cell_type": "code",
   "execution_count": null,
   "id": "516e49a9-82ff-420a-ace3-d3d6f403f0fc",
   "metadata": {
    "editable": true,
    "slideshow": {
     "slide_type": ""
    },
    "tags": []
   },
   "outputs": [],
   "source": [
    "states = np.array( [0, 1, 2] )\n",
    "n = states.shape[0]\n",
    "P = mc.FullMatrix(n)\n",
    "P.set_type(mc.DISCRETE)\n",
    "P.setEntry(0,0,0.25)\n",
    "P.setEntry(0,1,0.5)\n",
    "P.setEntry(0,2,0.25)\n",
    "P.setEntry(1,0,0.4)\n",
    "P.setEntry(1,1,0.2)\n",
    "P.setEntry(1,2,0.4)\n",
    "P.setEntry(2,0,0.4)\n",
    "P.setEntry(2,1,0.3)\n",
    "P.setEntry(2,2,0.3)\n",
    "initial_prob = np.array( [0.2, 0.2, 0.6] )\n",
    "initial = mc.DiscreteDistribution(states, initial_prob)"
   ]
  },
  {
   "cell_type": "code",
   "execution_count": null,
   "id": "41755ed1-d813-4747-acde-48da054c1591",
   "metadata": {
    "editable": true,
    "slideshow": {
     "slide_type": ""
    },
    "tags": []
   },
   "outputs": [],
   "source": [
    "c1 = mmc.MarkovChain( P )\n",
    "c1.set_init_distribution(initial)\n",
    "c1.set_model_name( \"Demo\" )"
   ]
  },
  {
   "cell_type": "markdown",
   "id": "a7c05384-0e09-4558-860b-8a5d33331181",
   "metadata": {},
   "source": [
    "### Transient distributions"
   ]
  },
  {
   "cell_type": "markdown",
   "id": "827a21e6-2600-43d2-a160-819357f6f7b1",
   "metadata": {},
   "source": [
    "To compute transient distributions, the method to be called is `TransientDistributionDT` with argument the 'time' or number of steps."
   ]
  },
  {
   "cell_type": "code",
   "execution_count": null,
   "id": "5a4d67a5-000f-4ea0-afa5-f2f32dfce67d",
   "metadata": {},
   "outputs": [],
   "source": [
    "pi1 = c1.TransientDistributionDT( 1 )\n",
    "pi2 = c1.TransientDistributionDT( 2 )\n",
    "pi3 = c1.TransientDistributionDT( 3 )"
   ]
  },
  {
   "cell_type": "code",
   "execution_count": null,
   "id": "2cb5ee18-1005-43a4-b1a3-a6f4a3cca5cd",
   "metadata": {},
   "outputs": [],
   "source": [
    "print( pi1 )\n",
    "print( pi2 )\n",
    "print( pi3 )"
   ]
  },
  {
   "cell_type": "markdown",
   "id": "ebbb9b1b-a913-4343-aa26-a2a63c9fdac3",
   "metadata": {},
   "source": [
    "It is of course possible to change the initial distribution. Other distributions of the `DiscreteDistribution` family can be used.<br>\n",
    "A typical one is `DiracDistribution`."
   ]
  },
  {
   "cell_type": "code",
   "execution_count": null,
   "id": "a3e7435c-dc55-4170-865e-e64cbeb69f01",
   "metadata": {},
   "outputs": [],
   "source": [
    "pi0 = mc.DiracDistribution(0)\n",
    "c1.set_init_distribution(pi0)\n",
    "pi1 = c1.TransientDistributionDT( 1 )\n",
    "pi2 = c1.TransientDistributionDT( 2 )\n",
    "pi3 = c1.TransientDistributionDT( 3 )\n",
    "print( pi0 )\n",
    "print( pi1 )\n",
    "print( pi2 )\n",
    "print( pi3 )"
   ]
  },
  {
   "cell_type": "markdown",
   "id": "91c3a8f0-637e-4c65-854b-4ef382629b04",
   "metadata": {},
   "source": [
    "Another possibility is `UniformDiscreteDistribution`."
   ]
  },
  {
   "cell_type": "code",
   "execution_count": null,
   "id": "1e548819-5250-4228-90c9-6019f2bcfd9a",
   "metadata": {},
   "outputs": [],
   "source": [
    "pi0 = mc.UniformDiscreteDistribution(0,2)\n",
    "c1.set_init_distribution(pi0)\n",
    "pi1 = c1.TransientDistributionDT( 1 )\n",
    "pi2 = c1.TransientDistributionDT( 2 )\n",
    "pi3 = c1.TransientDistributionDT( 3 )\n",
    "print( pi0 )\n",
    "print( pi1 )\n",
    "print( pi2 )\n",
    "print( pi3 )"
   ]
  },
  {
   "cell_type": "markdown",
   "id": "1dcfacf8-1d3d-4d02-8ee3-17c505c7bb75",
   "metadata": {},
   "source": [
    "### Stationary distribution"
   ]
  },
  {
   "cell_type": "markdown",
   "id": "745ebd48-622a-4337-8538-058a3d01220c",
   "metadata": {},
   "source": [
    "Computing the stationary distribution of a Markov chain is a typical activity of the Markov modeler.\n",
    "`Marmote` provides several ways to perform this task."
   ]
  },
  {
   "cell_type": "markdown",
   "id": "1bace7b7-fe96-42d8-adc8-0ccfb33853f9",
   "metadata": {},
   "source": [
    "There exists a default method `StationaryDistribution()` for users who don't want to bother about details."
   ]
  },
  {
   "cell_type": "code",
   "execution_count": null,
   "id": "d767b84f-ea5d-4b8d-95e7-9d0ca39ca637",
   "metadata": {},
   "outputs": [],
   "source": [
    "pista = c1.StationaryDistribution()"
   ]
  },
  {
   "cell_type": "code",
   "execution_count": null,
   "id": "51dc5aeb-f88c-4308-89e9-eec68b595e52",
   "metadata": {},
   "outputs": [],
   "source": [
    "print(pista)"
   ]
  },
  {
   "cell_type": "markdown",
   "id": "14832146-70c3-4ffe-a0ab-eb3c8a2d91bd",
   "metadata": {},
   "source": [
    "This is an iterative and approximate method. To see that the result is not exact, use the `TransientDistribution()` method to perform one step of the transition matrix. Then compute the distance between the two distributions."
   ]
  },
  {
   "cell_type": "code",
   "execution_count": null,
   "id": "cfb6f951-0170-4946-bd56-fda80a224484",
   "metadata": {},
   "outputs": [],
   "source": [
    "c1.set_init_distribution( pista )\n",
    "dis = c1.TransientDistributionDT(1)\n",
    "print( \"Distance between pi and pi.P:\", mc.DiscreteDistribution.DistanceL1( pista, dis ) )"
   ]
  },
  {
   "cell_type": "markdown",
   "id": "e1a41059-b95e-4609-975d-9d49896290bc",
   "metadata": {},
   "source": [
    "`Marmote` provides an improved iterative method, the **red light green light** algorithm recently published by Brown, Avrachenkov and Nitvak."
   ]
  },
  {
   "cell_type": "code",
   "execution_count": null,
   "id": "31bf9e7e-2ab0-4503-9037-a6dc78e00340",
   "metadata": {},
   "outputs": [],
   "source": [
    "pista2 = c1.StationaryDistributionRLGL( 100, 1e-10, mc.UniformDiscreteDistribution(0,2), False )"
   ]
  },
  {
   "cell_type": "code",
   "execution_count": null,
   "id": "62cb31a2-d611-481e-8bf3-7d688702bed2",
   "metadata": {},
   "outputs": [],
   "source": [
    "mc.DiscreteDistribution.DistanceL1( pista, pista2 )"
   ]
  },
  {
   "cell_type": "markdown",
   "id": "dfa9f465-4116-4023-967e-86d2226eb130",
   "metadata": {},
   "source": [
    "Of course, for such a small example, the exact distribution can be computed.\n",
    "Compare the approximate solution with the exact one."
   ]
  },
  {
   "cell_type": "code",
   "execution_count": null,
   "id": "8588b896-d1c0-4c5d-b3b4-5b190e0cd1a0",
   "metadata": {},
   "outputs": [],
   "source": [
    "prosta_ex = np.array( [ 8/23, 85/253, 80/253 ], dtype=float )\n",
    "pista_ex = mc.DiscreteDistribution( states, prosta_ex )\n",
    "print(pista_ex)"
   ]
  },
  {
   "cell_type": "code",
   "execution_count": null,
   "id": "db86a0c2-80d6-4642-b03f-b6878df8e696",
   "metadata": {},
   "outputs": [],
   "source": [
    "print( \"Distance between numerical pi (standard) and exact pi:\", mc.DiscreteDistribution.DistanceL1( pista, pista_ex ) )\n",
    "print( \"Distance between numerical pi (RLGL) and exact pi:\", mc.DiscreteDistribution.DistanceL1( pista2, pista_ex ) )"
   ]
  },
  {
   "cell_type": "markdown",
   "id": "beb430dc-78fe-4b8e-8589-9c723f8c8d31",
   "metadata": {},
   "source": [
    "Finally, check that the exact stationary distribution is exact."
   ]
  },
  {
   "cell_type": "code",
   "execution_count": null,
   "id": "185a09dc-c92c-4f04-b809-3b2abbb6ebca",
   "metadata": {},
   "outputs": [],
   "source": [
    "c1.set_init_distribution(pista_ex)\n",
    "didi = c1.TransientDistributionDT(1)"
   ]
  },
  {
   "cell_type": "code",
   "execution_count": null,
   "id": "f109cda6-ca74-4c67-ab4c-12a09af82226",
   "metadata": {},
   "outputs": [],
   "source": [
    "mc.DiscreteDistribution.DistanceL1( pista_ex, didi )"
   ]
  },
  {
   "cell_type": "markdown",
   "id": "54e9e2b9-fc6a-4fd9-86b9-8a43c2e6c883",
   "metadata": {},
   "source": [
    "### Simulation"
   ]
  },
  {
   "cell_type": "markdown",
   "id": "409ed7df-d23e-43da-b6b9-0cd4e1084a04",
   "metadata": {},
   "source": [
    "Simulation has plenty of controls. The basic syntax is `SimulateChain( nb_steps, stats, traj, trace )` where:\n",
    "\n",
    "* `nb_steps` is the number of time instants to simulate\n",
    "* `stats` is a boolean specifying if occupancy statistics are to be kept\n",
    "* `traj` is a boolean specifying if a trajectory is to be kept\n",
    "* `trace` is a boolean specifying if the trajectory is to be printed along the way."
   ]
  },
  {
   "cell_type": "markdown",
   "id": "2440743e-a895-4698-a135-e10382f80930",
   "metadata": {},
   "source": [
    "For instance, a simulation of 10 time steps, no statistics, a trajectory which is not printed."
   ]
  },
  {
   "cell_type": "code",
   "execution_count": null,
   "id": "a7b9e343-68a5-4506-8366-870fad5f34ad",
   "metadata": {},
   "outputs": [],
   "source": [
    "simRes = c1.SimulateChainDT( 10, stats=False, traj=True, trace=False )"
   ]
  },
  {
   "cell_type": "markdown",
   "id": "f03ba729-9b86-4af1-bb3b-b707d5f32601",
   "metadata": {},
   "source": [
    "Inspecting the features of the simulation object: there is indeed a DT (discrete-time) trajectory, but no CT (continuous-time) trajectory."
   ]
  },
  {
   "cell_type": "code",
   "execution_count": null,
   "id": "153b65c7-2beb-4389-9d04-1af92edd8de1",
   "metadata": {},
   "outputs": [],
   "source": [
    "simRes.Diagnose()"
   ]
  },
  {
   "cell_type": "markdown",
   "id": "56581552-7f78-41ba-a93b-1060fc085ff7",
   "metadata": {},
   "source": [
    "Listing the details."
   ]
  },
  {
   "cell_type": "code",
   "execution_count": null,
   "id": "0b61568c-1478-4467-b7c9-55b07f03f754",
   "metadata": {},
   "outputs": [],
   "source": [
    "print( simRes.DT_dates() )\n",
    "print( simRes.states() )\n",
    "print( simRes.lastDate() )\n",
    "print( simRes.lastState() )"
   ]
  },
  {
   "cell_type": "markdown",
   "id": "4fe065ee-2ded-449c-89a5-743ce883e2d2",
   "metadata": {},
   "source": [
    "Running again with trajectory printed but not kept, and stats.\n",
    "\n",
    "Observe the repeated last columns with states. More explanations on this below."
   ]
  },
  {
   "cell_type": "code",
   "execution_count": null,
   "id": "b6bbc881-2c2f-4984-91cb-67b66711081c",
   "metadata": {},
   "outputs": [],
   "source": [
    "simRes = c1.SimulateChainDT( 10, True, False, True )"
   ]
  },
  {
   "cell_type": "markdown",
   "id": "bdfacb96-dacc-48b5-bc2a-5c04d348ad17",
   "metadata": {},
   "source": [
    "The empirical distribution can be extracted from the `SimulationResult` object via its method `Distribution()`.\n",
    "This produces some information on the output and stores the result in a `DiscreteDistribution` object."
   ]
  },
  {
   "cell_type": "code",
   "execution_count": null,
   "id": "076e913b-623b-4bc3-ace6-317625cdbe6b",
   "metadata": {},
   "outputs": [],
   "source": [
    "trDis = simRes.Distribution()"
   ]
  },
  {
   "cell_type": "code",
   "execution_count": null,
   "id": "b705f4cf-c4cd-449f-8a67-31427d751eb7",
   "metadata": {},
   "outputs": [],
   "source": [
    "print( trDis )"
   ]
  },
  {
   "cell_type": "markdown",
   "id": "8f0bfa5b-66c1-4a92-a88e-db0fd1ec70e9",
   "metadata": {},
   "source": [
    "## Second example: solving continuous-time Markov chains"
   ]
  },
  {
   "cell_type": "markdown",
   "id": "4a03f966-d32f-4a5b-9cc7-39b2f268da8a",
   "metadata": {},
   "source": [
    "We first recreate the continuous-time Markov chain of Lesson 1"
   ]
  },
  {
   "cell_type": "code",
   "execution_count": null,
   "id": "07b8c756-d527-470b-af2d-b595969c20a1",
   "metadata": {},
   "outputs": [],
   "source": [
    "Q = mc.SparseMatrix(6)\n",
    "Q.set_type(mc.CONTINUOUS)\n",
    "Q.setEntry(0,1,1.0)\n",
    "Q.setEntry(0,0,-1.0)\n",
    "for i in range(1,6):\n",
    "    if i > 0:\n",
    "        Q.setEntry(i,0,1.0)\n",
    "        Q.addToEntry(i,i,-1.0)\n",
    "    if i < 5:\n",
    "        Q.setEntry(i,i+1,1.0)\n",
    "        Q.addToEntry(i,i,-1.0)"
   ]
  },
  {
   "cell_type": "code",
   "execution_count": null,
   "id": "5e13090c-d9e3-48e3-a654-23d1592c6a09",
   "metadata": {},
   "outputs": [],
   "source": [
    "c2 = mmc.MarkovChain( Q )\n",
    "c2.set_init_distribution(initial)\n",
    "c2.set_model_name( \"Demo_Continuous\" )"
   ]
  },
  {
   "cell_type": "markdown",
   "id": "13e32629-e0cb-408f-ba8e-5329928fc724",
   "metadata": {},
   "source": [
    "### State distributions"
   ]
  },
  {
   "cell_type": "markdown",
   "id": "f0b6ed62-f2e6-4854-b253-9e26e2dbaa1e",
   "metadata": {},
   "source": [
    "Standard call to stationary distribution method"
   ]
  },
  {
   "cell_type": "code",
   "execution_count": null,
   "id": "42c06a4d-d7df-4e81-a069-45cb76a24d8d",
   "metadata": {},
   "outputs": [],
   "source": [
    "stadis = c2.StationaryDistribution()\n",
    "print(stadis)"
   ]
  },
  {
   "cell_type": "markdown",
   "id": "559a4244-6be2-4682-9f43-b956faea530e",
   "metadata": {},
   "source": [
    "### Simulation"
   ]
  },
  {
   "cell_type": "markdown",
   "id": "5b0046df-44f6-4507-9041-8824284f5679",
   "metadata": {},
   "source": [
    "Simulation is as for discrete-time chains, but there is an additional control:\n",
    "`withIncrements` specifies whether time increments (sojourn time in each state) should be printed\n",
    "when tracing is enabled."
   ]
  },
  {
   "cell_type": "markdown",
   "id": "a49a26fe-1240-4be7-bb68-b75e7960ae30",
   "metadata": {},
   "source": [
    "Example of a simulation of 10 time units, with all details printed. \n",
    "Each line of the output contains:\n",
    "\n",
    "* the sequence number of the transition event inside square brackets\n",
    "* the time at which this event occured\n",
    "* the state *index* that *results* from the transition\n",
    "* the time increment between is event and the previous one\n",
    "* the state again, but now in full representation (in this example this is the same as the index)."
   ]
  },
  {
   "cell_type": "code",
   "execution_count": null,
   "id": "5012c5e2-edcf-4cf1-b8d8-37a49a1e2f44",
   "metadata": {},
   "outputs": [],
   "source": [
    "simres = c2.SimulateChainCT( 10.0, stats=False, traj=True, withIncrements=True, trace=True )"
   ]
  },
  {
   "cell_type": "markdown",
   "id": "9d923342-c951-4e05-be79-c2bddf39a13c",
   "metadata": {},
   "source": [
    "Observe the following conventions:\n",
    "\n",
    "* the first event (#0) is always at time 0 and it results in a transition to the initial state;\n",
    "* the last date is exactly the simulation time specified;\n",
    "* the sojourn time in the state resulting from event #n is to be read in the following line: that of event #n+1."
   ]
  },
  {
   "cell_type": "markdown",
   "id": "7a2f76a9-52ba-4299-a738-efce394c3564",
   "metadata": {},
   "source": [
    "The trajectory has been kept. It can be accessed e.g. for post-processing."
   ]
  },
  {
   "cell_type": "code",
   "execution_count": null,
   "id": "bc79905d-6d70-4222-bfb2-0b84d258386a",
   "metadata": {},
   "outputs": [],
   "source": [
    "print( simres.CT_dates() )\n",
    "print( simres.states() )"
   ]
  },
  {
   "cell_type": "markdown",
   "id": "158474a2-dfb6-463b-a23b-8df277e66ade",
   "metadata": {},
   "source": [
    "### Hitting time distributions"
   ]
  },
  {
   "cell_type": "markdown",
   "id": "b414c6c8-4ed8-4086-b446-b85bf575763e",
   "metadata": {},
   "source": [
    "For general Markov chains, hitting time distributions can be simulated.\n",
    "Hitting time methods all require as argument a *hit set indicator* which is an array of booleans where `True` marks the states belonging to the hitting set."
   ]
  },
  {
   "cell_type": "markdown",
   "id": "e78a6819-979f-4034-a68f-ebabc4fc1b91",
   "metadata": {},
   "source": [
    "Here, the hitting set contains just the last state (index 5)."
   ]
  },
  {
   "cell_type": "code",
   "execution_count": null,
   "id": "9d0c7f05-3052-4257-ab97-c03427e4b9e2",
   "metadata": {},
   "outputs": [],
   "source": [
    "hitset = np.array( [ False, False, False, False, False, True ], dtype=bool )\n"
   ]
  },
  {
   "cell_type": "markdown",
   "id": "ac12e898-2c41-421e-87c8-61a77e626a44",
   "metadata": {},
   "source": [
    "Hitting time simulation methods have several controls.\n",
    "The basic syntax is `SimulateHittingTime( init, hitset, sample_nb, max_time )` where:\n",
    "\n",
    "* `init` specifies the initial distribution: either a state number or a `DiscreteDistribution` object\n",
    "* `hitset` is the hitting set indicator\n",
    "* `sample_nb` is the number of samples to be drawn\n",
    "* `max_time` is a time limit for simulations: hitting times larger than this value will not be found."
   ]
  },
  {
   "cell_type": "markdown",
   "id": "caf4188d-0919-46da-9eff-7592056033e1",
   "metadata": {},
   "source": [
    "Example: simulating 25 values of the hitting time from state 0."
   ]
  },
  {
   "cell_type": "code",
   "execution_count": null,
   "id": "17951cde-76a0-4b54-b73a-e8e5087240db",
   "metadata": {},
   "outputs": [],
   "source": [
    "simres = c2.SimulateHittingTime( 0, hitset, 25, 100  )"
   ]
  },
  {
   "cell_type": "markdown",
   "id": "7b0ce8f7-46b0-441e-976a-b106cc657f11",
   "metadata": {},
   "source": [
    "The samples of the simulation are stored in the attribute `CT_dates` of the simulation object."
   ]
  },
  {
   "cell_type": "code",
   "execution_count": null,
   "id": "e08898fe-8b57-4173-825a-219954f0bf94",
   "metadata": {},
   "outputs": [],
   "source": [
    "print( simres.CT_dates() )"
   ]
  },
  {
   "cell_type": "markdown",
   "id": "d7d3e8b2-6933-48be-bd62-06cda6d6d3e7",
   "metadata": {},
   "source": [
    "It is also possible to compute average hitting times, starting from all states.\n",
    "The method for this is `AverageHittingTime`. It takes the hitting set as unique argument."
   ]
  },
  {
   "cell_type": "code",
   "execution_count": null,
   "id": "9590156f-f6af-4dca-9bc9-d7db3e8c37d3",
   "metadata": {},
   "outputs": [],
   "source": [
    "avghit = c2.AverageHittingTime( hitset )\n",
    "print( avghit )"
   ]
  },
  {
   "cell_type": "markdown",
   "id": "7d11808a-228e-4d8f-9906-ea6b31e66393",
   "metadata": {},
   "source": [
    "Comparing with the empirical average of the simulation."
   ]
  },
  {
   "cell_type": "code",
   "execution_count": null,
   "id": "6e2d80e7-cef9-4ea5-ac34-8b38059e1386",
   "metadata": {},
   "outputs": [],
   "source": [
    "avg = 0\n",
    "for i in range(25):\n",
    "    avg = avg + simres.CT_dates()[i]\n",
    "print( \"Empirical average of hitting time from state 0 =\", avg/25 )"
   ]
  }
 ],
 "metadata": {
  "kernelspec": {
   "display_name": "Python 3 (ipykernel)",
   "language": "python",
   "name": "python3"
  },
  "language_info": {
   "codemirror_mode": {
    "name": "ipython",
    "version": 3
   },
   "file_extension": ".py",
   "mimetype": "text/x-python",
   "name": "python",
   "nbconvert_exporter": "python",
   "pygments_lexer": "ipython3",
   "version": "3.10.14"
  }
 },
 "nbformat": 4,
 "nbformat_minor": 5
}
