{
 "cells": [
  {
   "cell_type": "markdown",
   "id": "7df32fbf-9c9a-4619-8984-94c1e8e2403a",
   "metadata": {},
   "source": [
    "# Application Lesson 1: Application to Mitrani's hysteresis model\n",
    "<img name=\"Mitrani_chain.jpg\">"
   ]
  },
  {
   "cell_type": "code",
   "execution_count": 1,
   "id": "653b2ee4-943d-4298-b101-e71ce6006680",
   "metadata": {},
   "outputs": [
    {
     "name": "stdout",
     "output_type": "stream",
     "text": [
      "2025-02-10 15:09:16.890 INFO  [2261279] [marmote::log::initialize@51] ========= MARMOTE LOGGER IS INITIALIZED ==========\n"
     ]
    }
   ],
   "source": [
    "import marmote.core as marmotecore\n",
    "import marmote.markovchain as marmotemarkovchain\n",
    "import numpy as np"
   ]
  },
  {
   "cell_type": "markdown",
   "id": "beed4633-0a0e-437c-ad3a-b9c01d176036",
   "metadata": {},
   "source": [
    "### Picture of the model (credit: Mitrani 2013, Figure 2)"
   ]
  },
  {
   "cell_type": "markdown",
   "id": "0e60cf09-8b1b-4f33-8a3b-ecfab2428676",
   "metadata": {},
   "source": [
    "<img src=\"./Mitrani_chain.png\">"
   ]
  },
  {
   "cell_type": "markdown",
   "id": "6c6046a3-ddd0-41fa-82e0-fb6a716cd45a",
   "metadata": {},
   "source": [
    "Defining the constants/parameters of the model"
   ]
  },
  {
   "cell_type": "code",
   "execution_count": 2,
   "id": "e50c82c8-9e65-4c5b-afa2-7707629c30f1",
   "metadata": {},
   "outputs": [],
   "source": [
    "m = 4          # Number of reserve servers\n",
    "n = 2          # Number of permanent servers\n",
    "N = m+n        # Total number of servers\n",
    "lambda_ = 3.0  # Arrival rate\n",
    "mu_ = 1.0      # Individual server service rate\n",
    "nu_ = 5.0      # Inverse of average warmup time of the block of m reserve servers\n",
    "up = 6         # Upper threshold\n",
    "down = 4       # Lower threshold\n",
    "K = 10         # Queue truncation parameter"
   ]
  },
  {
   "cell_type": "code",
   "execution_count": 3,
   "id": "231098b2-989b-4505-bf98-b49a7341c331",
   "metadata": {},
   "outputs": [],
   "source": [
    "space = marmotecore.MarmoteBox( [ 3, K+1 ] )"
   ]
  },
  {
   "cell_type": "code",
   "execution_count": 4,
   "id": "b9899095-9145-44da-9d60-399cd099f737",
   "metadata": {},
   "outputs": [
    {
     "data": {
      "text/plain": [
       "'(   0,   0) (   0,   1) (   0,   2) (   0,   3) (   0,   4) (   0,   5) (   0,   6) (   0,   7) (   0,   8) (   0,   9) (   0,  10) (   1,   0) (   1,   1) (   1,   2) (   1,   3) (   1,   4) (   1,   5) (   1,   6) (   1,   7) (   1,   8) (   1,   9) (   1,  10) (   2,   0) (   2,   1) (   2,   2) (   2,   3) (   2,   4) (   2,   5) (   2,   6) (   2,   7) (   2,   8) (   2,   9) (   2,  10) '"
      ]
     },
     "execution_count": 4,
     "metadata": {},
     "output_type": "execute_result"
    }
   ],
   "source": [
    "space.Enumerate()"
   ]
  },
  {
   "cell_type": "code",
   "execution_count": 5,
   "id": "d58f06cd-52ec-4bd4-a962-76a90780e421",
   "metadata": {},
   "outputs": [],
   "source": [
    "Qtrans = marmotecore.SparseMatrix( space )\n",
    "Qtrans.set_type( marmotecore.CONTINUOUS )"
   ]
  },
  {
   "cell_type": "code",
   "execution_count": 6,
   "id": "10799942-1a68-425a-8562-097481419bcc",
   "metadata": {},
   "outputs": [
    {
     "data": {
      "text/plain": [
       "marmotecore.SparseMatrix (SparseMatrix (Object at 0x55b78068fef0) :\n",
       "- generator type: continuous\n",
       "- number of origin states:      33\n",
       "- number of destination states: 33\n",
       "- number of non zero elements: 0\n",
       ")"
      ]
     },
     "execution_count": 6,
     "metadata": {},
     "output_type": "execute_result"
    }
   ],
   "source": [
    "Qtrans"
   ]
  },
  {
   "cell_type": "markdown",
   "id": "23cc9e4a-dd2a-4a4d-bda4-52f3b4a07680",
   "metadata": {},
   "source": [
    "## Filling the matrix"
   ]
  },
  {
   "cell_type": "markdown",
   "id": "0ae39f70-ea1c-49ca-9896-951cc44fe59f",
   "metadata": {},
   "source": [
    "### Naming elements to make code readable"
   ]
  },
  {
   "cell_type": "code",
   "execution_count": 7,
   "id": "631febf3-a9eb-4517-8d55-349eee030fd9",
   "metadata": {},
   "outputs": [],
   "source": [
    "# naming of coordinates\n",
    "QUEUE = 1\n",
    "SERV = 0\n",
    "# naming of server states\n",
    "SLOW = 0\n",
    "WARMING = 1\n",
    "FAST = 2"
   ]
  },
  {
   "cell_type": "markdown",
   "id": "af14606c-ef62-4ee2-8104-d2e86b67fed3",
   "metadata": {},
   "source": [
    "### Setting up the loop on states"
   ]
  },
  {
   "cell_type": "code",
   "execution_count": 8,
   "id": "09f40ed5-d2bb-4033-84df-afb679aace9a",
   "metadata": {},
   "outputs": [
    {
     "name": "stdout",
     "output_type": "stream",
     "text": [
      "[0 0]\n"
     ]
    }
   ],
   "source": [
    "stateBuffer = space.StateBuffer()\n",
    "nextBuffer = space.StateBuffer()\n",
    "space.FirstState(stateBuffer)\n",
    "idx = 0\n",
    "print(stateBuffer)"
   ]
  },
  {
   "cell_type": "markdown",
   "id": "266013df-f619-44be-ba74-0fce89a0a41a",
   "metadata": {},
   "source": [
    "### Looping"
   ]
  },
  {
   "cell_type": "code",
   "execution_count": 9,
   "id": "b1ba0d0a-ab92-4918-902c-73b00f6dea8a",
   "metadata": {},
   "outputs": [],
   "source": [
    "looping = True\n",
    "while looping:\n",
    "    # print( \"Transitions for state \", stateBuffer )\n",
    "    # convenience local variables, also used for restoring stateBuffer\n",
    "    q = stateBuffer[QUEUE]\n",
    "    s = stateBuffer[SERV]\n",
    "    \n",
    "    nextBuffer = np.array(stateBuffer) # copy current state\n",
    "    # Event: arrivals\n",
    "    if ( q < K ):\n",
    "      nextBuffer[QUEUE] += 1;\n",
    "      if ( ( nextBuffer[QUEUE] > up ) and ( nextBuffer[SERV] == SLOW ) ):\n",
    "        nextBuffer[SERV] = WARMING;\n",
    "      \n",
    "      Qtrans.addToEntry( idx, space.Index(nextBuffer), lambda_ );\n",
    "      Qtrans.addToEntry( idx, idx, -lambda_ );\n",
    "    \n",
    "    nextBuffer = np.array(stateBuffer) # copy current state\n",
    "    # Event: departure\n",
    "    if ( q > 0 ):\n",
    "        # number of active servers\n",
    "        if ( s == FAST ):\n",
    "            nbServ = min( q, n+m )\n",
    "        else:\n",
    "            nbServ = min( q, n )\n",
    "        nextBuffer[QUEUE] -= 1\n",
    "        if ( nextBuffer[QUEUE] == down ): # whatever state of server: becomes SLOW\n",
    "            nextBuffer[SERV] = SLOW;\n",
    "      \n",
    "        Qtrans.addToEntry( idx, space.Index(nextBuffer), mu_ * nbServ )\n",
    "        Qtrans.addToEntry( idx, idx, -mu_ * nbServ )\n",
    "    \n",
    "    nextBuffer = np.array(stateBuffer) # copy current state\n",
    "    # Event: end of warmup\n",
    "    if ( s == WARMING ):\n",
    "        nextBuffer[SERV] = FAST\n",
    "        Qtrans.addToEntry( idx, space.Index(nextBuffer), nu_ )\n",
    "        Qtrans.addToEntry( idx, idx, -nu_ )\n",
    "    \n",
    "    # next state\n",
    "    space.NextState( stateBuffer )\n",
    "    idx += 1\n",
    "    looping = not space.IsFirst(stateBuffer)"
   ]
  },
  {
   "cell_type": "markdown",
   "id": "c4383c6e-b04b-4e71-9dd3-d438fa216dde",
   "metadata": {},
   "source": [
    "### Inspecting the matrix. \n",
    "\n",
    "Matrices can be printed using a variety of formats (sparse, Matlab, Maple, numpy)."
   ]
  },
  {
   "cell_type": "code",
   "execution_count": 10,
   "id": "7ba35142-f639-47eb-a670-1a7ef62edaae",
   "metadata": {},
   "outputs": [
    {
     "name": "stdout",
     "output_type": "stream",
     "text": [
      "mc_matrix=np.array([\n",
      "[-3, 3, 0, 0, 0, 0, 0, 0, 0, 0, 0, 0, 0, 0, 0, 0, 0, 0, 0, 0, 0, 0, 0, 0, 0, 0, 0, 0, 0, 0, 0, 0, 0],\n",
      "[1, -4, 3, 0, 0, 0, 0, 0, 0, 0, 0, 0, 0, 0, 0, 0, 0, 0, 0, 0, 0, 0, 0, 0, 0, 0, 0, 0, 0, 0, 0, 0, 0],\n",
      "[0, 2, -5, 3, 0, 0, 0, 0, 0, 0, 0, 0, 0, 0, 0, 0, 0, 0, 0, 0, 0, 0, 0, 0, 0, 0, 0, 0, 0, 0, 0, 0, 0],\n",
      "[0, 0, 2, -5, 3, 0, 0, 0, 0, 0, 0, 0, 0, 0, 0, 0, 0, 0, 0, 0, 0, 0, 0, 0, 0, 0, 0, 0, 0, 0, 0, 0, 0],\n",
      "[0, 0, 0, 2, -5, 3, 0, 0, 0, 0, 0, 0, 0, 0, 0, 0, 0, 0, 0, 0, 0, 0, 0, 0, 0, 0, 0, 0, 0, 0, 0, 0, 0],\n",
      "[0, 0, 0, 0, 2, -5, 3, 0, 0, 0, 0, 0, 0, 0, 0, 0, 0, 0, 0, 0, 0, 0, 0, 0, 0, 0, 0, 0, 0, 0, 0, 0, 0],\n",
      "[0, 0, 0, 0, 0, 2, -5, 0, 0, 0, 0, 0, 0, 0, 0, 0, 0, 0, 3, 0, 0, 0, 0, 0, 0, 0, 0, 0, 0, 0, 0, 0, 0],\n",
      "[0, 0, 0, 0, 0, 0, 2, -5, 0, 0, 0, 0, 0, 0, 0, 0, 0, 0, 0, 3, 0, 0, 0, 0, 0, 0, 0, 0, 0, 0, 0, 0, 0],\n",
      "[0, 0, 0, 0, 0, 0, 0, 2, -5, 0, 0, 0, 0, 0, 0, 0, 0, 0, 0, 0, 3, 0, 0, 0, 0, 0, 0, 0, 0, 0, 0, 0, 0],\n",
      "[0, 0, 0, 0, 0, 0, 0, 0, 2, -5, 0, 0, 0, 0, 0, 0, 0, 0, 0, 0, 0, 3, 0, 0, 0, 0, 0, 0, 0, 0, 0, 0, 0],\n",
      "[0, 0, 0, 0, 0, 0, 0, 0, 0, 2, -2, 0, 0, 0, 0, 0, 0, 0, 0, 0, 0, 0, 0, 0, 0, 0, 0, 0, 0, 0, 0, 0, 0],\n",
      "[0, 0, 0, 0, 0, 0, 0, 0, 0, 0, 0, -8, 3, 0, 0, 0, 0, 0, 0, 0, 0, 0, 5, 0, 0, 0, 0, 0, 0, 0, 0, 0, 0],\n",
      "[0, 0, 0, 0, 0, 0, 0, 0, 0, 0, 0, 1, -9, 3, 0, 0, 0, 0, 0, 0, 0, 0, 0, 5, 0, 0, 0, 0, 0, 0, 0, 0, 0],\n",
      "[0, 0, 0, 0, 0, 0, 0, 0, 0, 0, 0, 0, 2, -10, 3, 0, 0, 0, 0, 0, 0, 0, 0, 0, 5, 0, 0, 0, 0, 0, 0, 0, 0],\n",
      "[0, 0, 0, 0, 0, 0, 0, 0, 0, 0, 0, 0, 0, 2, -10, 3, 0, 0, 0, 0, 0, 0, 0, 0, 0, 5, 0, 0, 0, 0, 0, 0, 0],\n",
      "[0, 0, 0, 0, 0, 0, 0, 0, 0, 0, 0, 0, 0, 0, 2, -10, 3, 0, 0, 0, 0, 0, 0, 0, 0, 0, 5, 0, 0, 0, 0, 0, 0],\n",
      "[0, 0, 0, 0, 2, 0, 0, 0, 0, 0, 0, 0, 0, 0, 0, 0, -10, 3, 0, 0, 0, 0, 0, 0, 0, 0, 0, 5, 0, 0, 0, 0, 0],\n",
      "[0, 0, 0, 0, 0, 0, 0, 0, 0, 0, 0, 0, 0, 0, 0, 0, 2, -10, 3, 0, 0, 0, 0, 0, 0, 0, 0, 0, 5, 0, 0, 0, 0],\n",
      "[0, 0, 0, 0, 0, 0, 0, 0, 0, 0, 0, 0, 0, 0, 0, 0, 0, 2, -10, 3, 0, 0, 0, 0, 0, 0, 0, 0, 0, 5, 0, 0, 0],\n",
      "[0, 0, 0, 0, 0, 0, 0, 0, 0, 0, 0, 0, 0, 0, 0, 0, 0, 0, 2, -10, 3, 0, 0, 0, 0, 0, 0, 0, 0, 0, 5, 0, 0],\n",
      "[0, 0, 0, 0, 0, 0, 0, 0, 0, 0, 0, 0, 0, 0, 0, 0, 0, 0, 0, 2, -10, 3, 0, 0, 0, 0, 0, 0, 0, 0, 0, 5, 0],\n",
      "[0, 0, 0, 0, 0, 0, 0, 0, 0, 0, 0, 0, 0, 0, 0, 0, 0, 0, 0, 0, 2, -7, 0, 0, 0, 0, 0, 0, 0, 0, 0, 0, 5],\n",
      "[0, 0, 0, 0, 0, 0, 0, 0, 0, 0, 0, 0, 0, 0, 0, 0, 0, 0, 0, 0, 0, 0, -3, 3, 0, 0, 0, 0, 0, 0, 0, 0, 0],\n",
      "[0, 0, 0, 0, 0, 0, 0, 0, 0, 0, 0, 0, 0, 0, 0, 0, 0, 0, 0, 0, 0, 0, 1, -4, 3, 0, 0, 0, 0, 0, 0, 0, 0],\n",
      "[0, 0, 0, 0, 0, 0, 0, 0, 0, 0, 0, 0, 0, 0, 0, 0, 0, 0, 0, 0, 0, 0, 0, 2, -5, 3, 0, 0, 0, 0, 0, 0, 0],\n",
      "[0, 0, 0, 0, 0, 0, 0, 0, 0, 0, 0, 0, 0, 0, 0, 0, 0, 0, 0, 0, 0, 0, 0, 0, 3, -6, 3, 0, 0, 0, 0, 0, 0],\n",
      "[0, 0, 0, 0, 0, 0, 0, 0, 0, 0, 0, 0, 0, 0, 0, 0, 0, 0, 0, 0, 0, 0, 0, 0, 0, 4, -7, 3, 0, 0, 0, 0, 0],\n",
      "[0, 0, 0, 0, 5, 0, 0, 0, 0, 0, 0, 0, 0, 0, 0, 0, 0, 0, 0, 0, 0, 0, 0, 0, 0, 0, 0, -8, 3, 0, 0, 0, 0],\n",
      "[0, 0, 0, 0, 0, 0, 0, 0, 0, 0, 0, 0, 0, 0, 0, 0, 0, 0, 0, 0, 0, 0, 0, 0, 0, 0, 0, 6, -9, 3, 0, 0, 0],\n",
      "[0, 0, 0, 0, 0, 0, 0, 0, 0, 0, 0, 0, 0, 0, 0, 0, 0, 0, 0, 0, 0, 0, 0, 0, 0, 0, 0, 0, 6, -9, 3, 0, 0],\n",
      "[0, 0, 0, 0, 0, 0, 0, 0, 0, 0, 0, 0, 0, 0, 0, 0, 0, 0, 0, 0, 0, 0, 0, 0, 0, 0, 0, 0, 0, 6, -9, 3, 0],\n",
      "[0, 0, 0, 0, 0, 0, 0, 0, 0, 0, 0, 0, 0, 0, 0, 0, 0, 0, 0, 0, 0, 0, 0, 0, 0, 0, 0, 0, 0, 0, 6, -9, 3],\n",
      "[0, 0, 0, 0, 0, 0, 0, 0, 0, 0, 0, 0, 0, 0, 0, 0, 0, 0, 0, 0, 0, 0, 0, 0, 0, 0, 0, 0, 0, 0, 0, 6, -6]\n",
      "], dtype=float)\n",
      "\n"
     ]
    }
   ],
   "source": [
    "print( Qtrans.toString( marmotecore.FORMAT_NUMPY ) )"
   ]
  },
  {
   "cell_type": "markdown",
   "id": "edb6cabc-146c-470c-b06f-6851f948a665",
   "metadata": {},
   "source": [
    "The `FullDiagnose` method produces a summary of various metrics **plus** the structural analysis of the matrix (recurrent/transient classes)."
   ]
  },
  {
   "cell_type": "code",
   "execution_count": 11,
   "id": "36521dd3-5484-4fff-9ee9-c98ed004b63e",
   "metadata": {},
   "outputs": [
    {
     "name": "stdout",
     "output_type": "stream",
     "text": [
      "# Generator general diagnostic:\n",
      "Diagnostic for SparseMatrix structure:\n",
      "- generator type:        continuous\n",
      "- number of origin states:      33\n",
      "- number of destination states: 33\n",
      "- number of transitions: 104\n",
      "- number of empty rows:  0\n",
      "- maximum outdegree:     4\n",
      "- minimum outdegree:     2\n",
      "- maximum indegree:      4\n",
      "- minimum indegree:      0\n",
      "- maximum value:                    6\n",
      "- minimum value:                  -10\n",
      "- maximum row sum:                  0\n",
      "- minimum row sum:                  0\n",
      "- row sum mismatch:                 0\n",
      "# Communicating classes:\n",
      "number = 7\n",
      "list = ( [ 0 1 2 3 4 5 6 16 17 18 19 20 21 27 28 29 30 31 32 ] [ 7 ] [ 8 ] [ 9 ] [ 10 ] [ 11 12 13 14 15 ] [ 22 23 24 25 26 ] )\n",
      "# connectivity:\n",
      "0.00000000 0.00000000 0.00000000 0.00000000 0.00000000 0.00000000 0.00000000 \n",
      "1.00000000 0.00000000 0.00000000 0.00000000 0.00000000 0.00000000 0.00000000 \n",
      "1.00000000 1.00000000 0.00000000 0.00000000 0.00000000 0.00000000 0.00000000 \n",
      "1.00000000 0.00000000 1.00000000 0.00000000 0.00000000 0.00000000 0.00000000 \n",
      "0.00000000 0.00000000 0.00000000 1.00000000 0.00000000 0.00000000 0.00000000 \n",
      "1.00000000 0.00000000 0.00000000 0.00000000 0.00000000 0.00000000 1.00000000 \n",
      "1.00000000 0.00000000 0.00000000 0.00000000 0.00000000 0.00000000 0.00000000 \n",
      "# Recurrent classes:\n",
      "number = 1\n",
      "list = ( [ 0 1 2 3 4 5 6 16 17 18 19 20 21 27 28 29 30 31 32 ] )\n",
      "# Absorbing states:\n",
      "number = 0\n",
      "list = [ ]\n"
     ]
    }
   ],
   "source": [
    "marmotecore.setStateWritePolicy( marmotecore.STATE_INDEX )\n",
    "Qtrans.FullDiagnose()"
   ]
  },
  {
   "cell_type": "markdown",
   "id": "ae8f2823-d492-44d6-acc6-a554ae6f2db3",
   "metadata": {},
   "source": [
    "Since it is not always simple to relate indices to states, it is also possible to print both the index **and** the state."
   ]
  },
  {
   "cell_type": "code",
   "execution_count": 12,
   "id": "bf310f8c-c45b-4578-b841-1cd8c8de05e8",
   "metadata": {},
   "outputs": [
    {
     "name": "stdout",
     "output_type": "stream",
     "text": [
      "# Generator general diagnostic:\n",
      "Diagnostic for SparseMatrix structure:\n",
      "- generator type:        continuous\n",
      "- number of origin states:      33\n",
      "- number of destination states: 33\n",
      "- number of transitions: 104\n",
      "- number of empty rows:  0\n",
      "- maximum outdegree:     4\n",
      "- minimum outdegree:     2\n",
      "- maximum indegree:      4\n",
      "- minimum indegree:      0\n",
      "- maximum value:                    6\n",
      "- minimum value:                  -10\n",
      "- maximum row sum:                  0\n",
      "- minimum row sum:                  0\n",
      "- row sum mismatch:                 0\n",
      "# Communicating classes:\n",
      "number = 7\n",
      "list = ( [ 0:{   0   0} 1:{   0   1} 2:{   0   2} 3:{   0   3} 4:{   0   4} 5:{   0   5} 6:{   0   6} 16:{   1   5} 17:{   1   6} 18:{   1   7} 19:{   1   8} 20:{   1   9} 21:{   1  10} 27:{   2   5} 28:{   2   6} 29:{   2   7} 30:{   2   8} 31:{   2   9} 32:{   2  10} ] [ 7:{   0   7} ] [ 8:{   0   8} ] [ 9:{   0   9} ] [ 10:{   0  10} ] [ 11:{   1   0} 12:{   1   1} 13:{   1   2} 14:{   1   3} 15:{   1   4} ] [ 22:{   2   0} 23:{   2   1} 24:{   2   2} 25:{   2   3} 26:{   2   4} ] )\n",
      "# connectivity:\n",
      "0.00000000 0.00000000 0.00000000 0.00000000 0.00000000 0.00000000 0.00000000 \n",
      "1.00000000 0.00000000 0.00000000 0.00000000 0.00000000 0.00000000 0.00000000 \n",
      "1.00000000 1.00000000 0.00000000 0.00000000 0.00000000 0.00000000 0.00000000 \n",
      "1.00000000 0.00000000 1.00000000 0.00000000 0.00000000 0.00000000 0.00000000 \n",
      "0.00000000 0.00000000 0.00000000 1.00000000 0.00000000 0.00000000 0.00000000 \n",
      "1.00000000 0.00000000 0.00000000 0.00000000 0.00000000 0.00000000 1.00000000 \n",
      "1.00000000 0.00000000 0.00000000 0.00000000 0.00000000 0.00000000 0.00000000 \n",
      "# Recurrent classes:\n",
      "number = 1\n",
      "list = ( [ 0:{   0   0} 1:{   0   1} 2:{   0   2} 3:{   0   3} 4:{   0   4} 5:{   0   5} 6:{   0   6} 16:{   1   5} 17:{   1   6} 18:{   1   7} 19:{   1   8} 20:{   1   9} 21:{   1  10} 27:{   2   5} 28:{   2   6} 29:{   2   7} 30:{   2   8} 31:{   2   9} 32:{   2  10} ] )\n",
      "# Absorbing states:\n",
      "number = 0\n",
      "list = [ ]\n"
     ]
    }
   ],
   "source": [
    "marmotecore.setStateWritePolicy( marmotecore.STATE_BOTH )\n",
    "Qtrans.FullDiagnose()"
   ]
  },
  {
   "cell_type": "code",
   "execution_count": 13,
   "id": "1d476c69-be40-437a-940e-93d021ee7762",
   "metadata": {},
   "outputs": [],
   "source": [
    "hymc = marmotemarkovchain.MarkovChain( Qtrans )\n",
    "hymc.set_model_name( \"Hysteresis_box\" )"
   ]
  },
  {
   "cell_type": "code",
   "execution_count": 14,
   "id": "43d1d707-1640-47eb-a65a-ba69c943a68f",
   "metadata": {},
   "outputs": [
    {
     "name": "stdout",
     "output_type": "stream",
     "text": [
      "[True, True, False, True, True]\n",
      "False\n"
     ]
    }
   ],
   "source": [
    "# TODO something wrong creates segfault in this line.# \n",
    "print( [ hymc.IsAccessible(3,31), hymc.IsAccessible(3,6), hymc.IsAccessible(3,10), hymc.IsAccessible(1,30), hymc.IsAccessible(30,27) ] )\n",
    "print( hymc.IsIrreducible() )"
   ]
  },
  {
   "cell_type": "markdown",
   "id": "b2c05002-d9ef-4fd4-9d95-2ea34103b235",
   "metadata": {},
   "source": [
    "## Stationary distribution and average cost\n",
    "\n",
    "Let us compute the stationary distribution."
   ]
  },
  {
   "cell_type": "code",
   "execution_count": 15,
   "id": "3a7e9afc-e871-426a-9d8c-86f0fa997fed",
   "metadata": {},
   "outputs": [
    {
     "name": "stderr",
     "output_type": "stream",
     "text": [
      "Testing equality between Box( [ 0..2 ] x [ 0..10 ] ) and Box( [ 0..2 ] x [ 0..10 ] ): is 1 and true is 1\n"
     ]
    }
   ],
   "source": [
    "dista = hymc.StationaryDistribution()"
   ]
  },
  {
   "cell_type": "markdown",
   "id": "77c9f6bd-23c3-4e4f-a426-3f2639fc57f8",
   "metadata": {},
   "source": [
    "As expected, the distribution has many zeroes."
   ]
  },
  {
   "cell_type": "code",
   "execution_count": 16,
   "id": "7df2abe9-691f-4eea-9315-1e60f6d7d80f",
   "metadata": {},
   "outputs": [
    {
     "name": "stdout",
     "output_type": "stream",
     "text": [
      "Discrete distribution values { 0:{   0   0}  1:{   0   1}  2:{   0   2}  3:{   0   3}  4:{   0   4}  5:{   0   5}  6:{   0   6}  7:{   0   7}  8:{   0   8}  9:{   0   9}  10:{   0  10}  11:{   1   0}  12:{   1   1}  13:{   1   2}  14:{   1   3}  15:{   1   4}  16:{   1   5}  17:{   1   6}  18:{   1   7}  19:{   1   8}  20:{   1   9}  21:{   1  10}  22:{   2   0}  23:{   2   1}  24:{   2   2}  25:{   2   3}  26:{   2   4}  27:{   2   5}  28:{   2   6}  29:{   2   7}  30:{   2   8}  31:{   2   9}  32:{   2  10}  } probas {  0.01773  0.05318  0.07977   0.1197   0.1795   0.1417  0.08502        0        0        0        0        0        0        0        0        0 0.001245 0.006223  0.02925 0.009391 0.003082 0.001321        0        0        0        0        0  0.05051  0.06631  0.06903  0.04601  0.02667  0.01444 }\n"
     ]
    }
   ],
   "source": [
    "print(dista)"
   ]
  },
  {
   "cell_type": "markdown",
   "id": "8c7ecd9d-68c4-435b-8b3c-170dda385b96",
   "metadata": {},
   "source": [
    "Computing an average linear cost."
   ]
  },
  {
   "cell_type": "code",
   "execution_count": 17,
   "id": "ca35e45f-41d8-4442-b50a-a7698eeb4cd3",
   "metadata": {},
   "outputs": [],
   "source": [
    "def avg_cost( c1, c2, dis ):\n",
    "    avgL = 0\n",
    "    avgS = 0\n",
    "    space.FirstState(stateBuffer)\n",
    "    # print(stateBuffer)\n",
    "    go_on = True\n",
    "    index = 0\n",
    "    while go_on:\n",
    "        prob = dis.getProbaByIndex(index)\n",
    "        nbServ = n\n",
    "        if ( stateBuffer[SERV] == FAST ):\n",
    "            nbServ += m\n",
    "        avgL = avgL + prob*stateBuffer[QUEUE]\n",
    "        avgS = avgS + prob*nbServ\n",
    "        space.NextState(stateBuffer)\n",
    "        # print(stateBuffer)\n",
    "        index = index+1\n",
    "        go_on = not space.IsFirst(stateBuffer)\n",
    "    return( c1*avgL + c2*avgS )"
   ]
  },
  {
   "cell_type": "code",
   "execution_count": 18,
   "id": "dbf19d33-425c-4262-9dbc-8a066ca4e7c6",
   "metadata": {},
   "outputs": [
    {
     "name": "stdout",
     "output_type": "stream",
     "text": [
      "7.850531279190159\n"
     ]
    }
   ],
   "source": [
    "cost = avg_cost( 1.0, 1.0, dista )\n",
    "print(cost)"
   ]
  },
  {
   "cell_type": "markdown",
   "id": "fcb031a4-371e-4ba0-8ec4-8540ec6185d4",
   "metadata": {},
   "source": [
    "And checking that the distribution is consistent."
   ]
  },
  {
   "cell_type": "code",
   "execution_count": 19,
   "id": "cc45c3dd-eecb-4a4d-bae4-a873777c1861",
   "metadata": {},
   "outputs": [
    {
     "name": "stdout",
     "output_type": "stream",
     "text": [
      "0.9999999999999972\n"
     ]
    }
   ],
   "source": [
    "total = 0\n",
    "for i in range(space.Cardinal()):\n",
    "    total = total + dista.getProbaByIndex(i)\n",
    "print(total)"
   ]
  },
  {
   "cell_type": "markdown",
   "id": "fee6fbe0-abe1-4fd2-be75-6cd30a5250f7",
   "metadata": {},
   "source": [
    "## Tayloring the state space\n",
    "\n",
    "Now defining a state space which fits exactly the recurrent class"
   ]
  },
  {
   "cell_type": "code",
   "execution_count": 20,
   "id": "aefe37f0-c1fa-476b-ad4d-cc09653d3db5",
   "metadata": {},
   "outputs": [],
   "source": [
    "smaller_space = marmotecore.MarmoteUnionSet()\n",
    "smaller_space.AddSet( marmotecore.MarmoteInterval(0,up) )\n",
    "smaller_space.AddSet( marmotecore.MarmoteInterval(down+1,K) )\n",
    "smaller_space.AddSet( marmotecore.MarmoteInterval(down+1,K) )"
   ]
  },
  {
   "cell_type": "code",
   "execution_count": 21,
   "id": "0d426817-dde9-4794-a12a-1864ee3d6458",
   "metadata": {},
   "outputs": [
    {
     "data": {
      "text/plain": [
       "' 0:[ 0]  0:[ 1]  0:[ 2]  0:[ 3]  0:[ 4]  0:[ 5]  0:[ 6]  1:[ 5]  1:[ 6]  1:[ 7]  1:[ 8]  1:[ 9]  1:[ 10]  2:[ 5]  2:[ 6]  2:[ 7]  2:[ 8]  2:[ 9]  2:[ 10] '"
      ]
     },
     "execution_count": 21,
     "metadata": {},
     "output_type": "execute_result"
    }
   ],
   "source": [
    "smaller_space.Enumerate()"
   ]
  },
  {
   "cell_type": "code",
   "execution_count": 22,
   "id": "cf74cc90-d919-4675-af7f-255bf33e5bef",
   "metadata": {},
   "outputs": [
    {
     "data": {
      "text/plain": [
       "19"
      ]
     },
     "execution_count": 22,
     "metadata": {},
     "output_type": "execute_result"
    }
   ],
   "source": [
    "smaller_space.Cardinal()"
   ]
  },
  {
   "cell_type": "code",
   "execution_count": 23,
   "id": "c824c2ad-f449-4ff1-8821-105266a4b326",
   "metadata": {},
   "outputs": [
    {
     "data": {
      "text/plain": [
       "False"
      ]
     },
     "execution_count": 23,
     "metadata": {},
     "output_type": "execute_result"
    }
   ],
   "source": [
    "smaller_space.Belongs( [ 2, 3 ] )"
   ]
  },
  {
   "cell_type": "markdown",
   "id": "86f25b48-aaff-41ce-a884-20f603a89203",
   "metadata": {},
   "source": [
    "Defining a new matrix on this smaller state space, and filling it."
   ]
  },
  {
   "cell_type": "code",
   "execution_count": 24,
   "id": "8d6f04a8-f4b6-4880-a25e-51c154cc1bf0",
   "metadata": {},
   "outputs": [],
   "source": [
    "Qtrans_alt = marmotecore.SparseMatrix( smaller_space )\n",
    "Qtrans_alt.set_type( marmotecore.CONTINUOUS )"
   ]
  },
  {
   "cell_type": "code",
   "execution_count": 25,
   "id": "61f2293b-2105-4bf7-99d1-a1213e5badd9",
   "metadata": {},
   "outputs": [],
   "source": [
    "# naming of coordinates\n",
    "QUEUE = 1\n",
    "SERV = 0\n",
    "# naming of server states\n",
    "SLOW = 0\n",
    "WARMING = 1\n",
    "FAST = 2\n",
    "# preparation of buffers\n",
    "stateBuffer = smaller_space.StateBuffer()\n",
    "smaller_space.FirstState(stateBuffer)\n",
    "looping = True\n",
    "idx = 0\n",
    "while looping:\n",
    "    # print( \"Transitions for state \", stateBuffer )\n",
    "    # convenience local variables, also used for restoring stateBuffer\n",
    "    q = stateBuffer[QUEUE]\n",
    "    s = stateBuffer[SERV]\n",
    "\n",
    "    nextBuffer = np.array(stateBuffer) # copy current state\n",
    "    # Event: arrivals\n",
    "    if ( q < K ):\n",
    "      nextBuffer[QUEUE] += 1;\n",
    "      if ( ( nextBuffer[QUEUE] > up ) and ( nextBuffer[SERV] == SLOW ) ):\n",
    "        nextBuffer[SERV] = WARMING;\n",
    "      \n",
    "      Qtrans_alt.addToEntry( idx, smaller_space.Index(nextBuffer), lambda_ );\n",
    "      Qtrans_alt.addToEntry( idx, idx, -lambda_ );\n",
    "      # print( stateBuffer, \" to \", nextBuffer )\n",
    "      # print( smaller_space.Belongs(nextBuffer), smaller_space.Index(nextBuffer) )\n",
    "    \n",
    "    nextBuffer = np.array(stateBuffer) # copy current state\n",
    "    # Event: departure\n",
    "    if ( q > 0 ):\n",
    "        # number of active servers\n",
    "        if ( s == FAST ):\n",
    "            nbServ = min( q, n+m )\n",
    "        else:\n",
    "            nbServ = min( q, n )\n",
    "        nextBuffer[QUEUE] -= 1\n",
    "        if ( nextBuffer[QUEUE] == down ): # whatever state of server: becomes SLOW\n",
    "            nextBuffer[SERV] = SLOW;\n",
    "      \n",
    "        Qtrans_alt.addToEntry( idx, smaller_space.Index(nextBuffer), mu_ * nbServ )\n",
    "        Qtrans_alt.addToEntry( idx, idx, -mu_ * nbServ )\n",
    "    \n",
    "    nextBuffer = np.array(stateBuffer) # copy current state\n",
    "    # Event: end of warmup\n",
    "    if ( s == WARMING ):\n",
    "        nextBuffer[SERV] = FAST\n",
    "        Qtrans_alt.addToEntry( idx, smaller_space.Index(nextBuffer), nu_ )\n",
    "        Qtrans_alt.addToEntry( idx, idx, -nu_ )\n",
    "    \n",
    "    # next state\n",
    "    smaller_space.NextState( stateBuffer )\n",
    "    idx += 1\n",
    "    looping = not smaller_space.IsFirst(stateBuffer)"
   ]
  },
  {
   "cell_type": "code",
   "execution_count": 26,
   "id": "6c588523-662d-4b52-8c9b-dc684b789db3",
   "metadata": {},
   "outputs": [
    {
     "name": "stdout",
     "output_type": "stream",
     "text": [
      "mc_matrix=np.array([\n",
      "[-3, 3, 0, 0, 0, 0, 0, 0, 0, 0, 0, 0, 0, 0, 0, 0, 0, 0, 0],\n",
      "[1, -4, 3, 0, 0, 0, 0, 0, 0, 0, 0, 0, 0, 0, 0, 0, 0, 0, 0],\n",
      "[0, 2, -5, 3, 0, 0, 0, 0, 0, 0, 0, 0, 0, 0, 0, 0, 0, 0, 0],\n",
      "[0, 0, 2, -5, 3, 0, 0, 0, 0, 0, 0, 0, 0, 0, 0, 0, 0, 0, 0],\n",
      "[0, 0, 0, 2, -5, 3, 0, 0, 0, 0, 0, 0, 0, 0, 0, 0, 0, 0, 0],\n",
      "[0, 0, 0, 0, 2, -5, 3, 0, 0, 0, 0, 0, 0, 0, 0, 0, 0, 0, 0],\n",
      "[0, 0, 0, 0, 0, 2, -5, 0, 0, 3, 0, 0, 0, 0, 0, 0, 0, 0, 0],\n",
      "[0, 0, 0, 0, 2, 0, 0, -10, 3, 0, 0, 0, 0, 5, 0, 0, 0, 0, 0],\n",
      "[0, 0, 0, 0, 0, 0, 0, 2, -10, 3, 0, 0, 0, 0, 5, 0, 0, 0, 0],\n",
      "[0, 0, 0, 0, 0, 0, 0, 0, 2, -10, 3, 0, 0, 0, 0, 5, 0, 0, 0],\n",
      "[0, 0, 0, 0, 0, 0, 0, 0, 0, 2, -10, 3, 0, 0, 0, 0, 5, 0, 0],\n",
      "[0, 0, 0, 0, 0, 0, 0, 0, 0, 0, 2, -10, 3, 0, 0, 0, 0, 5, 0],\n",
      "[0, 0, 0, 0, 0, 0, 0, 0, 0, 0, 0, 2, -7, 0, 0, 0, 0, 0, 5],\n",
      "[0, 0, 0, 0, 5, 0, 0, 0, 0, 0, 0, 0, 0, -8, 3, 0, 0, 0, 0],\n",
      "[0, 0, 0, 0, 0, 0, 0, 0, 0, 0, 0, 0, 0, 6, -9, 3, 0, 0, 0],\n",
      "[0, 0, 0, 0, 0, 0, 0, 0, 0, 0, 0, 0, 0, 0, 6, -9, 3, 0, 0],\n",
      "[0, 0, 0, 0, 0, 0, 0, 0, 0, 0, 0, 0, 0, 0, 0, 6, -9, 3, 0],\n",
      "[0, 0, 0, 0, 0, 0, 0, 0, 0, 0, 0, 0, 0, 0, 0, 0, 6, -9, 3],\n",
      "[0, 0, 0, 0, 0, 0, 0, 0, 0, 0, 0, 0, 0, 0, 0, 0, 0, 6, -6]\n",
      "], dtype=float)\n",
      "\n"
     ]
    }
   ],
   "source": [
    "print( Qtrans_alt.toString( marmotecore.FORMAT_NUMPY ) )"
   ]
  },
  {
   "cell_type": "markdown",
   "id": "d7fe1ed3-5fc6-4d5c-a953-fb833a590488",
   "metadata": {},
   "source": [
    "Using the \"full state\" feature to inspect in detail the transitions."
   ]
  },
  {
   "cell_type": "code",
   "execution_count": 27,
   "id": "7c8f804f-3bbb-40a9-ab55-2c60eb94cdfc",
   "metadata": {},
   "outputs": [
    {
     "name": "stdout",
     "output_type": "stream",
     "text": [
      " 0:{ 0 0}   1:{ 0 1}  3.000000e+00\n",
      " 0:{ 0 0}   0:{ 0 0}  -3.000000e+00\n",
      " 1:{ 0 1}   2:{ 0 2}  3.000000e+00\n",
      " 1:{ 0 1}   1:{ 0 1}  -4.000000e+00\n",
      " 1:{ 0 1}   0:{ 0 0}  1.000000e+00\n",
      " 2:{ 0 2}   3:{ 0 3}  3.000000e+00\n",
      " 2:{ 0 2}   2:{ 0 2}  -5.000000e+00\n",
      " 2:{ 0 2}   1:{ 0 1}  2.000000e+00\n",
      " 3:{ 0 3}   4:{ 0 4}  3.000000e+00\n",
      " 3:{ 0 3}   3:{ 0 3}  -5.000000e+00\n",
      " 3:{ 0 3}   2:{ 0 2}  2.000000e+00\n",
      " 4:{ 0 4}   5:{ 0 5}  3.000000e+00\n",
      " 4:{ 0 4}   4:{ 0 4}  -5.000000e+00\n",
      " 4:{ 0 4}   3:{ 0 3}  2.000000e+00\n",
      " 5:{ 0 5}   6:{ 0 6}  3.000000e+00\n",
      " 5:{ 0 5}   5:{ 0 5}  -5.000000e+00\n",
      " 5:{ 0 5}   4:{ 0 4}  2.000000e+00\n",
      " 6:{ 0 6}   9:{ 1 7}  3.000000e+00\n",
      " 6:{ 0 6}   6:{ 0 6}  -5.000000e+00\n",
      " 6:{ 0 6}   5:{ 0 5}  2.000000e+00\n",
      " 7:{ 1 5}   8:{ 1 6}  3.000000e+00\n",
      " 7:{ 1 5}   7:{ 1 5}  -1.000000e+01\n",
      " 7:{ 1 5}   4:{ 0 4}  2.000000e+00\n",
      " 7:{ 1 5}  13:{ 2 5}  5.000000e+00\n",
      " 8:{ 1 6}   9:{ 1 7}  3.000000e+00\n",
      " 8:{ 1 6}   8:{ 1 6}  -1.000000e+01\n",
      " 8:{ 1 6}   7:{ 1 5}  2.000000e+00\n",
      " 8:{ 1 6}  14:{ 2 6}  5.000000e+00\n",
      " 9:{ 1 7}  10:{ 1 8}  3.000000e+00\n",
      " 9:{ 1 7}   9:{ 1 7}  -1.000000e+01\n",
      " 9:{ 1 7}   8:{ 1 6}  2.000000e+00\n",
      " 9:{ 1 7}  15:{ 2 7}  5.000000e+00\n",
      "10:{ 1 8}  11:{ 1 9}  3.000000e+00\n",
      "10:{ 1 8}  10:{ 1 8}  -1.000000e+01\n",
      "10:{ 1 8}   9:{ 1 7}  2.000000e+00\n",
      "10:{ 1 8}  16:{ 2 8}  5.000000e+00\n",
      "11:{ 1 9}  12:{ 1 10}  3.000000e+00\n",
      "11:{ 1 9}  11:{ 1 9}  -1.000000e+01\n",
      "11:{ 1 9}  10:{ 1 8}  2.000000e+00\n",
      "11:{ 1 9}  17:{ 2 9}  5.000000e+00\n",
      "12:{ 1 10}  11:{ 1 9}  2.000000e+00\n",
      "12:{ 1 10}  12:{ 1 10}  -7.000000e+00\n",
      "12:{ 1 10}  18:{ 2 10}  5.000000e+00\n",
      "13:{ 2 5}  14:{ 2 6}  3.000000e+00\n",
      "13:{ 2 5}  13:{ 2 5}  -8.000000e+00\n",
      "13:{ 2 5}   4:{ 0 4}  5.000000e+00\n",
      "14:{ 2 6}  15:{ 2 7}  3.000000e+00\n",
      "14:{ 2 6}  14:{ 2 6}  -9.000000e+00\n",
      "14:{ 2 6}  13:{ 2 5}  6.000000e+00\n",
      "15:{ 2 7}  16:{ 2 8}  3.000000e+00\n",
      "15:{ 2 7}  15:{ 2 7}  -9.000000e+00\n",
      "15:{ 2 7}  14:{ 2 6}  6.000000e+00\n",
      "16:{ 2 8}  17:{ 2 9}  3.000000e+00\n",
      "16:{ 2 8}  16:{ 2 8}  -9.000000e+00\n",
      "16:{ 2 8}  15:{ 2 7}  6.000000e+00\n",
      "17:{ 2 9}  18:{ 2 10}  3.000000e+00\n",
      "17:{ 2 9}  17:{ 2 9}  -9.000000e+00\n",
      "17:{ 2 9}  16:{ 2 8}  6.000000e+00\n",
      "18:{ 2 10}  17:{ 2 9}  6.000000e+00\n",
      "18:{ 2 10}  18:{ 2 10}  -6.000000e+00\n",
      "\n"
     ]
    }
   ],
   "source": [
    "print( Qtrans_alt.toString( marmotecore.FORMAT_FULLSTATE ) )"
   ]
  },
  {
   "cell_type": "markdown",
   "id": "312b8c24-975f-40cd-9195-03fdb022c708",
   "metadata": {},
   "source": [
    "Looking at the structural analysis.\n",
    "\n",
    "Now all states are recurrent."
   ]
  },
  {
   "cell_type": "code",
   "execution_count": 28,
   "id": "637732ca-976b-4a4f-993c-0015966f361b",
   "metadata": {},
   "outputs": [
    {
     "name": "stdout",
     "output_type": "stream",
     "text": [
      "# Generator general diagnostic:\n",
      "Diagnostic for SparseMatrix structure:\n",
      "- generator type:        continuous\n",
      "- number of origin states:      19\n",
      "- number of destination states: 19\n",
      "- number of transitions: 60\n",
      "- number of empty rows:  0\n",
      "- maximum outdegree:     4\n",
      "- minimum outdegree:     2\n",
      "- maximum indegree:      4\n",
      "- minimum indegree:      1\n",
      "- maximum value:                    6\n",
      "- minimum value:                  -10\n",
      "- maximum row sum:                  0\n",
      "- minimum row sum:                  0\n",
      "- row sum mismatch:                 0\n",
      "# Communicating classes:\n",
      "number = 1\n",
      "list = ( [ 0:{ 0 0} 1:{ 0 1} 2:{ 0 2} 3:{ 0 3} 4:{ 0 4} 5:{ 0 5} 6:{ 0 6} 7:{ 1 5} 8:{ 1 6} 9:{ 1 7} 10:{ 1 8} 11:{ 1 9} 12:{ 1 10} 13:{ 2 5} 14:{ 2 6} 15:{ 2 7} 16:{ 2 8} 17:{ 2 9} 18:{ 2 10} ] )\n",
      "# connectivity:\n",
      "0.00000000 \n",
      "# Recurrent classes:\n",
      "number = 1\n",
      "list = ( [ 0:{ 0 0} 1:{ 0 1} 2:{ 0 2} 3:{ 0 3} 4:{ 0 4} 5:{ 0 5} 6:{ 0 6} 7:{ 1 5} 8:{ 1 6} 9:{ 1 7} 10:{ 1 8} 11:{ 1 9} 12:{ 1 10} 13:{ 2 5} 14:{ 2 6} 15:{ 2 7} 16:{ 2 8} 17:{ 2 9} 18:{ 2 10} ] )\n",
      "# Absorbing states:\n",
      "number = 0\n",
      "list = [ ]\n"
     ]
    }
   ],
   "source": [
    "Qtrans_alt.FullDiagnose()"
   ]
  },
  {
   "cell_type": "markdown",
   "id": "64d3e69f-98d9-4bff-98eb-f342adc5f8e5",
   "metadata": {},
   "source": [
    "Indeed, irreducibility can be tested on Markov chains with the `IsIrreducible()` method."
   ]
  },
  {
   "cell_type": "code",
   "execution_count": 29,
   "id": "aa32855a-bcaa-4fe7-83b8-8b1c93efd3ad",
   "metadata": {},
   "outputs": [
    {
     "name": "stdout",
     "output_type": "stream",
     "text": [
      "True\n",
      "False\n"
     ]
    }
   ],
   "source": [
    "hymc_alt = marmotemarkovchain.MarkovChain( Qtrans_alt )\n",
    "print( hymc_alt.IsIrreducible() )\n",
    "print( hymc.IsIrreducible() )"
   ]
  },
  {
   "cell_type": "markdown",
   "id": "f7f01be0-c3a4-4643-b251-abde48a464b9",
   "metadata": {},
   "source": [
    "Computing the stationary distribution of this new chain, then computing the average cost."
   ]
  },
  {
   "cell_type": "code",
   "execution_count": 30,
   "id": "f0c08bb4-2596-406e-b55e-ff0c264206cb",
   "metadata": {},
   "outputs": [
    {
     "name": "stdout",
     "output_type": "stream",
     "text": [
      "Testing equality between some 15MarmoteUnionSet and some 15MarmoteUnionSet\n",
      "Testing equality between some 15MarmoteUnionSet and some 15MarmoteUnionSet\n"
     ]
    },
    {
     "name": "stderr",
     "output_type": "stream",
     "text": [
      "Testing equality between  0 0\n",
      " 0 1\n",
      " 0 2\n",
      " 0 3\n",
      " 0 4\n",
      " 0 5\n",
      " 0 6\n",
      " 1 5\n",
      " 1 6\n",
      " 1 7\n",
      " 1 8\n",
      " 1 9\n",
      " 1 10\n",
      " 2 5\n",
      " 2 6\n",
      " 2 7\n",
      " 2 8\n",
      " 2 9\n",
      " 2 10\n",
      " and  0 0\n",
      " 0 1\n",
      " 0 2\n",
      " 0 3\n",
      " 0 4\n",
      " 0 5\n",
      " 0 6\n",
      " 1 5\n",
      " 1 6\n",
      " 1 7\n",
      " 1 8\n",
      " 1 9\n",
      " 1 10\n",
      " 2 5\n",
      " 2 6\n",
      " 2 7\n",
      " 2 8\n",
      " 2 9\n",
      " 2 10\n",
      ": is 1 and true is 1\n"
     ]
    }
   ],
   "source": [
    "dista_alt = hymc_alt.StationaryDistribution()"
   ]
  },
  {
   "cell_type": "code",
   "execution_count": 31,
   "id": "379a342c-ef77-42f4-bff9-146362cf7e14",
   "metadata": {},
   "outputs": [
    {
     "name": "stdout",
     "output_type": "stream",
     "text": [
      "Discrete distribution values { 0:{ 0 0}  1:{ 0 1}  2:{ 0 2}  3:{ 0 3}  4:{ 0 4}  5:{ 0 5}  6:{ 0 6}  7:{ 1 5}  8:{ 1 6}  9:{ 1 7}  10:{ 1 8}  11:{ 1 9}  12:{ 1 10}  13:{ 2 5}  14:{ 2 6}  15:{ 2 7}  16:{ 2 8}  17:{ 2 9}  18:{ 2 10}  } probas {  0.01773  0.05318  0.07977   0.1197   0.1795   0.1417  0.08502 0.001245 0.006223  0.02925 0.009391 0.003082 0.001321  0.05051  0.06631  0.06903  0.04601  0.02667  0.01444 }\n",
      "0.9999999999999972\n"
     ]
    }
   ],
   "source": [
    "print(dista_alt)\n",
    "total = 0\n",
    "for i in range(smaller_space.Cardinal()):\n",
    "    total = total + dista_alt.getProbaByIndex(i)\n",
    "print(total)"
   ]
  },
  {
   "cell_type": "code",
   "execution_count": 32,
   "id": "2c316482-3628-45a0-8af1-72f2498e9ac7",
   "metadata": {},
   "outputs": [],
   "source": [
    "def avg_cost_alt( c1, c2, dis ):\n",
    "    avgL = 0\n",
    "    avgS = 0\n",
    "    smaller_space.FirstState(stateBuffer)\n",
    "    # print(stateBuffer)\n",
    "    go_on = True\n",
    "    index = 0\n",
    "    while go_on:\n",
    "        prob = dis.getProbaByIndex(index)\n",
    "        nbServ = n\n",
    "        if ( stateBuffer[SERV] == FAST ):\n",
    "            nbServ += m\n",
    "        avgL = avgL + prob*stateBuffer[QUEUE]\n",
    "        avgS = avgS + prob*nbServ\n",
    "        smaller_space.NextState(stateBuffer)\n",
    "        # print(stateBuffer)\n",
    "        index = index+1\n",
    "        go_on = not smaller_space.IsFirst(stateBuffer)\n",
    "    return( c1*avgL + c2*avgS )"
   ]
  },
  {
   "cell_type": "code",
   "execution_count": 33,
   "id": "30e3d132-a018-4544-84fc-c868870dd870",
   "metadata": {},
   "outputs": [],
   "source": [
    "cost_alt = avg_cost_alt( 1.0, 1.0, dista_alt )"
   ]
  },
  {
   "cell_type": "markdown",
   "id": "0d283734-d580-4e46-8851-125fa5329943",
   "metadata": {},
   "source": [
    "In the end we have the same cost"
   ]
  },
  {
   "cell_type": "code",
   "execution_count": 34,
   "id": "44f03393-2b56-410b-bc63-f7822fcd2f2d",
   "metadata": {},
   "outputs": [
    {
     "name": "stdout",
     "output_type": "stream",
     "text": [
      "7.850531279190159\n",
      "7.850531279190159\n"
     ]
    }
   ],
   "source": [
    "print(cost_alt)\n",
    "print( cost )"
   ]
  }
 ],
 "metadata": {
  "kernelspec": {
   "display_name": "marmote-use",
   "language": "python",
   "name": "python3"
  },
  "language_info": {
   "codemirror_mode": {
    "name": "ipython",
    "version": 3
   },
   "file_extension": ".py",
   "mimetype": "text/x-python",
   "name": "python",
   "nbconvert_exporter": "python",
   "pygments_lexer": "ipython3",
   "version": "3.11.11"
  }
 },
 "nbformat": 4,
 "nbformat_minor": 5
}
