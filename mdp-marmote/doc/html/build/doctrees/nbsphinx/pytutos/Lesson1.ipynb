{
 "cells": [
  {
   "cell_type": "markdown",
   "id": "3d8c08f6-57ac-4431-993b-93efa34efce2",
   "metadata": {
    "editable": true,
    "slideshow": {
     "slide_type": ""
    },
    "tags": []
   },
   "source": [
    "# Lesson 1: making Markov chains"
   ]
  },
  {
   "cell_type": "code",
   "execution_count": 1,
   "id": "0762fef1-b6c0-457d-9599-707e74c607d9",
   "metadata": {
    "editable": true,
    "execution": {
     "iopub.execute_input": "2025-06-10T19:32:36.085888Z",
     "iopub.status.busy": "2025-06-10T19:32:36.085454Z",
     "iopub.status.idle": "2025-06-10T19:32:36.245736Z",
     "shell.execute_reply": "2025-06-10T19:32:36.245332Z"
    },
    "slideshow": {
     "slide_type": ""
    },
    "tags": []
   },
   "outputs": [],
   "source": [
    "import marmote.core as mc\n",
    "import marmote.markovchain as mmc\n",
    "import numpy as np"
   ]
  },
  {
   "cell_type": "markdown",
   "id": "de7da25d-0f11-45f6-a7ad-c84c4bcb69a9",
   "metadata": {
    "editable": true,
    "slideshow": {
     "slide_type": ""
    },
    "tags": []
   },
   "source": [
    "A Markov Chain is composed of\n",
    "+ a **state space**\n",
    "+ a **transition structure** (probability matrix or infinitesimal generator)\n",
    "+ an **initial distribution** of the state\n",
    "\n",
    "In this first lesson, we show various ways of creating such objects. We will in particular highlight *transition structures* and the class `MarkovChain`."
   ]
  },
  {
   "cell_type": "markdown",
   "id": "72f9328d-6fac-40a6-a2a5-7bd02e67a093",
   "metadata": {},
   "source": [
    "## First example: a discrete-time Markov chain with 3 states"
   ]
  },
  {
   "cell_type": "markdown",
   "id": "a72eb036-15f2-418c-9d80-7af07e924c4a",
   "metadata": {},
   "source": [
    "### State space"
   ]
  },
  {
   "cell_type": "markdown",
   "id": "ae4e39c2-5cab-4b6a-81ee-26bf4017d086",
   "metadata": {
    "editable": true,
    "slideshow": {
     "slide_type": ""
    },
    "tags": []
   },
   "source": [
    "We first create a state space as vector of state indices.<br>\n",
    "The size `n` of this vector is needed in the following."
   ]
  },
  {
   "cell_type": "code",
   "execution_count": 2,
   "id": "44643d0b-f20c-4e34-afa1-8a83c41d49a0",
   "metadata": {
    "editable": true,
    "execution": {
     "iopub.execute_input": "2025-06-10T19:32:36.248212Z",
     "iopub.status.busy": "2025-06-10T19:32:36.247533Z",
     "iopub.status.idle": "2025-06-10T19:32:36.251043Z",
     "shell.execute_reply": "2025-06-10T19:32:36.250288Z"
    },
    "slideshow": {
     "slide_type": ""
    },
    "tags": []
   },
   "outputs": [],
   "source": [
    "states = np.array( [0, 1, 2] )\n",
    "n = states.shape[0]"
   ]
  },
  {
   "cell_type": "markdown",
   "id": "bf6d4275-b4c0-4f58-b041-cd82563a57d2",
   "metadata": {},
   "source": [
    "### Transition structure"
   ]
  },
  {
   "cell_type": "markdown",
   "id": "fe60a5d0-f0cd-429f-b6a8-c0b608df21b5",
   "metadata": {
    "editable": true,
    "slideshow": {
     "slide_type": ""
    },
    "tags": []
   },
   "source": [
    "Now create the transition structure and enter values.<br>\n",
    "Two objects are available for this: `SparseMatrix` and `FullMatrix`.<br>\n",
    "Let us start with a `FullMatrix`."
   ]
  },
  {
   "cell_type": "code",
   "execution_count": 3,
   "id": "3e6ac350-a933-4cd6-9071-121cf1c89e11",
   "metadata": {
    "editable": true,
    "execution": {
     "iopub.execute_input": "2025-06-10T19:32:36.252981Z",
     "iopub.status.busy": "2025-06-10T19:32:36.252809Z",
     "iopub.status.idle": "2025-06-10T19:32:36.255883Z",
     "shell.execute_reply": "2025-06-10T19:32:36.255198Z"
    },
    "slideshow": {
     "slide_type": ""
    },
    "tags": []
   },
   "outputs": [],
   "source": [
    "P = mc.FullMatrix(n)"
   ]
  },
  {
   "cell_type": "markdown",
   "id": "789588ea-fc69-4bbd-80af-f2590dd0ad76",
   "metadata": {
    "editable": true,
    "slideshow": {
     "slide_type": ""
    },
    "tags": []
   },
   "source": [
    "`Marmote` has to know if this is a discrete-time or continuous-time transition structure."
   ]
  },
  {
   "cell_type": "code",
   "execution_count": 4,
   "id": "56ca2eb8-635c-4ef2-8e9b-8429229cad44",
   "metadata": {
    "editable": true,
    "execution": {
     "iopub.execute_input": "2025-06-10T19:32:36.257473Z",
     "iopub.status.busy": "2025-06-10T19:32:36.257319Z",
     "iopub.status.idle": "2025-06-10T19:32:36.260428Z",
     "shell.execute_reply": "2025-06-10T19:32:36.259844Z"
    },
    "slideshow": {
     "slide_type": ""
    },
    "tags": []
   },
   "outputs": [],
   "source": [
    "P.set_type(mc.DISCRETE)"
   ]
  },
  {
   "cell_type": "markdown",
   "id": "b21a0d08-42b6-491f-887b-9c52f4f6f36c",
   "metadata": {
    "editable": true,
    "slideshow": {
     "slide_type": ""
    },
    "tags": []
   },
   "source": [
    "Now fill the values in. Two method are available for this: `setEntry` and `addToEntry`.\n",
    "Both have parameters `(row,column,value)`."
   ]
  },
  {
   "cell_type": "code",
   "execution_count": 5,
   "id": "565d6d08-c03c-4233-b9e9-8cf40dfe0960",
   "metadata": {
    "editable": true,
    "execution": {
     "iopub.execute_input": "2025-06-10T19:32:36.262148Z",
     "iopub.status.busy": "2025-06-10T19:32:36.261986Z",
     "iopub.status.idle": "2025-06-10T19:32:36.268724Z",
     "shell.execute_reply": "2025-06-10T19:32:36.268032Z"
    },
    "slideshow": {
     "slide_type": ""
    },
    "tags": []
   },
   "outputs": [
    {
     "data": {
      "text/plain": [
       "True"
      ]
     },
     "execution_count": 5,
     "metadata": {},
     "output_type": "execute_result"
    }
   ],
   "source": [
    "P.setEntry(0,0,0.25)\n",
    "P.setEntry(0,1,0.5)\n",
    "P.setEntry(0,2,0.25)\n",
    "P.setEntry(1,0,0.4)\n",
    "P.setEntry(1,1,0.2)\n",
    "P.setEntry(1,2,0.4)\n",
    "P.setEntry(2,0,0.4)\n",
    "P.setEntry(2,1,0.3)\n",
    "P.setEntry(2,2,0.3)"
   ]
  },
  {
   "cell_type": "markdown",
   "id": "1f2d32d4-3803-4a03-a5d6-bd130c30bffc",
   "metadata": {},
   "source": [
    "We inspect the result."
   ]
  },
  {
   "cell_type": "code",
   "execution_count": 6,
   "id": "ada10311-eaf7-4823-9cb0-275bfb4b747f",
   "metadata": {
    "editable": true,
    "execution": {
     "iopub.execute_input": "2025-06-10T19:32:36.270584Z",
     "iopub.status.busy": "2025-06-10T19:32:36.270416Z",
     "iopub.status.idle": "2025-06-10T19:32:36.274833Z",
     "shell.execute_reply": "2025-06-10T19:32:36.274137Z"
    },
    "slideshow": {
     "slide_type": ""
    },
    "tags": []
   },
   "outputs": [
    {
     "name": "stdout",
     "output_type": "stream",
     "text": [
      "[[2.500000e-01, 5.000000e-01, 2.500000e-01],\n",
      " [4.000000e-01, 2.000000e-01, 4.000000e-01],\n",
      " [4.000000e-01, 3.000000e-01, 3.000000e-01]]\n",
      "\n"
     ]
    }
   ],
   "source": [
    "print(P)"
   ]
  },
  {
   "cell_type": "markdown",
   "id": "4763fa94-5020-4f44-b3da-a3cf1059cdce",
   "metadata": {},
   "source": [
    "### Initial distribution"
   ]
  },
  {
   "cell_type": "markdown",
   "id": "7182c313-bd34-4a44-83a9-7d0e3c11754f",
   "metadata": {},
   "source": [
    "Distributions exist as objects in `Marmote`. The most common one is `DiscreteDistribution` which represents general distributions on discrete state spaces. \n",
    "It can be constructed from two arrays:\n",
    "* the state space array (already defined above)\n",
    "* the array of probabilities of these states"
   ]
  },
  {
   "cell_type": "code",
   "execution_count": 7,
   "id": "ee8c6dd6-3ba4-46f3-b7a1-7b7d394ba5df",
   "metadata": {
    "editable": true,
    "execution": {
     "iopub.execute_input": "2025-06-10T19:32:36.276732Z",
     "iopub.status.busy": "2025-06-10T19:32:36.276525Z",
     "iopub.status.idle": "2025-06-10T19:32:36.280229Z",
     "shell.execute_reply": "2025-06-10T19:32:36.279485Z"
    },
    "slideshow": {
     "slide_type": ""
    },
    "tags": []
   },
   "outputs": [],
   "source": [
    "initial_prob = np.array( [0.2, 0.2, 0.6] )\n",
    "initial = mc.DiscreteDistribution(states, initial_prob)"
   ]
  },
  {
   "cell_type": "markdown",
   "id": "638b54b7-26da-4874-bebf-f6228d220a46",
   "metadata": {},
   "source": [
    "Inspecting the object"
   ]
  },
  {
   "cell_type": "code",
   "execution_count": 8,
   "id": "36219d1b-059c-4395-aec7-8bb74f3034d4",
   "metadata": {
    "editable": true,
    "execution": {
     "iopub.execute_input": "2025-06-10T19:32:36.282171Z",
     "iopub.status.busy": "2025-06-10T19:32:36.282000Z",
     "iopub.status.idle": "2025-06-10T19:32:36.285454Z",
     "shell.execute_reply": "2025-06-10T19:32:36.284626Z"
    },
    "slideshow": {
     "slide_type": ""
    },
    "tags": []
   },
   "outputs": [
    {
     "name": "stdout",
     "output_type": "stream",
     "text": [
      "Discrete distribution values { 0 1 2 } probas {      0.2      0.2      0.6 }\n"
     ]
    }
   ],
   "source": [
    "print( initial )"
   ]
  },
  {
   "cell_type": "markdown",
   "id": "e5dfe0fd-86aa-4672-83ed-e08a0b2262bb",
   "metadata": {},
   "source": [
    "We will show more about `Distribution` objects in Lesson3."
   ]
  },
  {
   "cell_type": "markdown",
   "id": "8c5bb884-4092-4563-aa48-bf6c04a01de5",
   "metadata": {},
   "source": [
    "### The Markov chain"
   ]
  },
  {
   "cell_type": "markdown",
   "id": "1e5e496a-6385-476d-8687-4e46f6c532c7",
   "metadata": {},
   "source": [
    "The object of type `MarkovChain` is created directly from the generator (probability transition matrix).<br>\n",
    "Then other (optional) features are specified:\n",
    "\n",
    "* the initial distribution\n",
    "* the name of the Markov chain model"
   ]
  },
  {
   "cell_type": "code",
   "execution_count": 9,
   "id": "53dd8f85-f421-4e49-b6f1-bd0e738b2244",
   "metadata": {
    "editable": true,
    "execution": {
     "iopub.execute_input": "2025-06-10T19:32:36.287364Z",
     "iopub.status.busy": "2025-06-10T19:32:36.287206Z",
     "iopub.status.idle": "2025-06-10T19:32:36.290730Z",
     "shell.execute_reply": "2025-06-10T19:32:36.289996Z"
    },
    "slideshow": {
     "slide_type": ""
    },
    "tags": []
   },
   "outputs": [],
   "source": [
    "c1 = mmc.MarkovChain( P )\n",
    "c1.set_init_distribution(initial)\n",
    "c1.set_model_name( \"Demo_Discrete\" )"
   ]
  },
  {
   "cell_type": "markdown",
   "id": "c24b810e-c464-4344-991b-4299dbb8891d",
   "metadata": {},
   "source": [
    "Printing the Markov chain. Several formats are available. This one is the default `Marmote` format (it is adapted to sparse matrices).\n",
    "It lists:\n",
    "\n",
    "* the generator (probability transition matrix or infinitesimal generator)\n",
    "* the initial distribution"
   ]
  },
  {
   "cell_type": "code",
   "execution_count": 10,
   "id": "99d9086d-3b71-4509-84a7-8515c3f360ca",
   "metadata": {
    "editable": true,
    "execution": {
     "iopub.execute_input": "2025-06-10T19:32:36.292509Z",
     "iopub.status.busy": "2025-06-10T19:32:36.292361Z",
     "iopub.status.idle": "2025-06-10T19:32:36.296046Z",
     "shell.execute_reply": "2025-06-10T19:32:36.295344Z"
    },
    "slideshow": {
     "slide_type": ""
    },
    "tags": []
   },
   "outputs": [
    {
     "name": "stdout",
     "output_type": "stream",
     "text": [
      "discrete sparse\n",
      "3\n",
      "         0          0 2.500000e-01\n",
      "         0          1 5.000000e-01\n",
      "         0          2 2.500000e-01\n",
      "         1          0 4.000000e-01\n",
      "         1          1 2.000000e-01\n",
      "         1          2 4.000000e-01\n",
      "         2          0 4.000000e-01\n",
      "         2          1 3.000000e-01\n",
      "         2          2 3.000000e-01\n",
      "stop\n",
      "discrete values { 0 1 2 } probas {      0.2      0.2      0.6 } \n",
      "\n"
     ]
    }
   ],
   "source": [
    "print(c1)"
   ]
  },
  {
   "cell_type": "markdown",
   "id": "46c92286-53db-4ef0-a25d-420281018cd7",
   "metadata": {},
   "source": [
    "The characteristics of the object can be inspected."
   ]
  },
  {
   "cell_type": "code",
   "execution_count": 11,
   "id": "5646ffc7-4e2b-416a-93d6-d03a861c196e",
   "metadata": {
    "editable": true,
    "execution": {
     "iopub.execute_input": "2025-06-10T19:32:36.297926Z",
     "iopub.status.busy": "2025-06-10T19:32:36.297766Z",
     "iopub.status.idle": "2025-06-10T19:32:36.301763Z",
     "shell.execute_reply": "2025-06-10T19:32:36.301014Z"
    },
    "slideshow": {
     "slide_type": ""
    },
    "tags": []
   },
   "outputs": [
    {
     "name": "stdout",
     "output_type": "stream",
     "text": [
      "0  =  0\n",
      "3\n",
      "Demo_Discrete\n"
     ]
    }
   ],
   "source": [
    "print( c1.type(), \" = \", mc.DISCRETE )             # The type of the chain (DISCRETE or CONTINUOUS) as a numerical representation\n",
    "print( c1.state_space_size() )\n",
    "print( c1.model_name() )"
   ]
  },
  {
   "cell_type": "markdown",
   "id": "2b1f7a62-52b5-416d-bccf-f35b791e3ec9",
   "metadata": {},
   "source": [
    "### Input/Output of Markov Chains and transition structures"
   ]
  },
  {
   "cell_type": "markdown",
   "id": "a1f0513c-e46e-4939-b884-31d441185f37",
   "metadata": {},
   "source": [
    "`Marmote` support the export of these objects in a variety of formats."
   ]
  },
  {
   "cell_type": "markdown",
   "id": "9f87c3f7-bf2f-4d4d-9467-a6248cb3fd26",
   "metadata": {},
   "source": [
    "Few languages have a format for Markov chains, but many have one for matrices.\n",
    "\n",
    "For instance: with the Matlab format for sparse matrices, the numpy format, the R format and the Maple format."
   ]
  },
  {
   "cell_type": "code",
   "execution_count": 12,
   "id": "53075168-7ae1-4449-b64e-cbc16f72eaf6",
   "metadata": {
    "execution": {
     "iopub.execute_input": "2025-06-10T19:32:36.303652Z",
     "iopub.status.busy": "2025-06-10T19:32:36.303483Z",
     "iopub.status.idle": "2025-06-10T19:32:36.307347Z",
     "shell.execute_reply": "2025-06-10T19:32:36.306595Z"
    }
   },
   "outputs": [
    {
     "name": "stdout",
     "output_type": "stream",
     "text": [
      "theRows = [ 0 0 0 1 1 1 2 2 2]';\n",
      "theColumns = [ 0 1 2 0 1 2 0 1 2]';\n",
      "theValues = [         0.25          0.5         0.25          0.4          0.2          0.4          0.4          0.3          0.3]';\n",
      "\n"
     ]
    }
   ],
   "source": [
    "print( c1.generator().toString( mc.FORMAT_MATLAB_SPARSE ) )"
   ]
  },
  {
   "cell_type": "code",
   "execution_count": 13,
   "id": "fa77c516-526d-4495-a7a7-ac386e419545",
   "metadata": {
    "execution": {
     "iopub.execute_input": "2025-06-10T19:32:36.309281Z",
     "iopub.status.busy": "2025-06-10T19:32:36.309120Z",
     "iopub.status.idle": "2025-06-10T19:32:36.313252Z",
     "shell.execute_reply": "2025-06-10T19:32:36.312406Z"
    }
   },
   "outputs": [
    {
     "name": "stdout",
     "output_type": "stream",
     "text": [
      "mc_matrix=np.array([\n",
      "[0.25, 0.5, 0.25],\n",
      "[0.4, 0.2, 0.4],\n",
      "[0.4, 0.3, 0.3]\n",
      "], dtype=float)\n",
      "\n"
     ]
    }
   ],
   "source": [
    "print( c1.generator().toString( mc.FORMAT_NUMPY ) )"
   ]
  },
  {
   "cell_type": "code",
   "execution_count": 14,
   "id": "6609d397-58e5-4dd9-840f-d95827d4421b",
   "metadata": {
    "execution": {
     "iopub.execute_input": "2025-06-10T19:32:36.315272Z",
     "iopub.status.busy": "2025-06-10T19:32:36.315091Z",
     "iopub.status.idle": "2025-06-10T19:32:36.319331Z",
     "shell.execute_reply": "2025-06-10T19:32:36.318610Z"
    }
   },
   "outputs": [
    {
     "name": "stdout",
     "output_type": "stream",
     "text": [
      "mc_matrix=matrix(c(0.25, 0.5, 0.25, 0.4, 0.2, 0.4, 0.4, 0.3, 0.3), nrow=3, byrow=TRUE)\n",
      "\n"
     ]
    }
   ],
   "source": [
    "print( c1.generator().toString( mc.FORMAT_R ) )"
   ]
  },
  {
   "cell_type": "code",
   "execution_count": 15,
   "id": "277cdef5-89f7-4784-a07e-0ca69ea7b47e",
   "metadata": {
    "execution": {
     "iopub.execute_input": "2025-06-10T19:32:36.321347Z",
     "iopub.status.busy": "2025-06-10T19:32:36.321179Z",
     "iopub.status.idle": "2025-06-10T19:32:36.326572Z",
     "shell.execute_reply": "2025-06-10T19:32:36.325687Z"
    }
   },
   "outputs": [
    {
     "name": "stdout",
     "output_type": "stream",
     "text": [
      "_matrix := Matrix( 3, 3, {\n",
      "(1, 1)=2.500000e-01,\n",
      "(1, 2)=5.000000e-01,\n",
      "(1, 3)=2.500000e-01,\n",
      "(2, 1)=4.000000e-01,\n",
      "(2, 2)=2.000000e-01,\n",
      "(2, 3)=4.000000e-01,\n",
      "(3, 1)=4.000000e-01,\n",
      "(3, 2)=3.000000e-01,\n",
      "(3, 3)=3.000000e-01\n",
      "}, storage=rectangular):\n",
      "\n"
     ]
    }
   ],
   "source": [
    "print( c1.generator().toString( mc.FORMAT_MAPLE ) )"
   ]
  },
  {
   "cell_type": "markdown",
   "id": "08cf5824-7ee7-4467-9c57-af16a8de564e",
   "metadata": {},
   "source": [
    "## Second example with a continuous-time Markov chain"
   ]
  },
  {
   "cell_type": "markdown",
   "id": "fa1cb80b-2b7e-4283-8312-3e24526baeb2",
   "metadata": {},
   "source": [
    "Creating a continuous-time chain, this time with a `SparseMatrix` as transition stucture support."
   ]
  },
  {
   "cell_type": "code",
   "execution_count": 16,
   "id": "377b46cd-6e81-40ca-99b3-2ec729d4e960",
   "metadata": {
    "execution": {
     "iopub.execute_input": "2025-06-10T19:32:36.328766Z",
     "iopub.status.busy": "2025-06-10T19:32:36.328591Z",
     "iopub.status.idle": "2025-06-10T19:32:36.333277Z",
     "shell.execute_reply": "2025-06-10T19:32:36.332455Z"
    }
   },
   "outputs": [],
   "source": [
    "Q = mc.SparseMatrix(6)\n",
    "Q.set_type(mc.CONTINUOUS)\n",
    "Q.setEntry(0,1,1.0)\n",
    "Q.setEntry(0,0,-1.0)\n",
    "for i in range(1,6):\n",
    "    if i > 0:\n",
    "        Q.setEntry(i,0,1.0)\n",
    "        Q.addToEntry(i,i,-1.0)\n",
    "    if i < 5:\n",
    "        Q.setEntry(i,i+1,1.0)\n",
    "        Q.addToEntry(i,i,-1.0)\n",
    "    "
   ]
  },
  {
   "cell_type": "code",
   "execution_count": 17,
   "id": "421d165b-4fbc-4142-b6ec-22d812c78888",
   "metadata": {
    "execution": {
     "iopub.execute_input": "2025-06-10T19:32:36.335268Z",
     "iopub.status.busy": "2025-06-10T19:32:36.335079Z",
     "iopub.status.idle": "2025-06-10T19:32:36.339316Z",
     "shell.execute_reply": "2025-06-10T19:32:36.338369Z"
    }
   },
   "outputs": [
    {
     "name": "stdout",
     "output_type": "stream",
     "text": [
      "[[-1.000000e+00, 1.000000e+00, 0.000000e+00, 0.000000e+00, 0.000000e+00, 0.000000e+00],\n",
      " [1.000000e+00, -2.000000e+00, 1.000000e+00, 0.000000e+00, 0.000000e+00, 0.000000e+00],\n",
      " [1.000000e+00, 0.000000e+00, -2.000000e+00, 1.000000e+00, 0.000000e+00, 0.000000e+00],\n",
      " [1.000000e+00, 0.000000e+00, 0.000000e+00, -2.000000e+00, 1.000000e+00, 0.000000e+00],\n",
      " [1.000000e+00, 0.000000e+00, 0.000000e+00, 0.000000e+00, -2.000000e+00, 1.000000e+00],\n",
      " [1.000000e+00, 0.000000e+00, 0.000000e+00, 0.000000e+00, 0.000000e+00, -1.000000e+00]]\n",
      "\n"
     ]
    }
   ],
   "source": [
    "print(Q)"
   ]
  },
  {
   "cell_type": "markdown",
   "id": "cad1e225-6ec3-473a-8214-fc4139cfd7b1",
   "metadata": {},
   "source": [
    "Creation of the Markov chain object"
   ]
  },
  {
   "cell_type": "code",
   "execution_count": 18,
   "id": "992b694e-f101-4f91-b828-c81424bd4b36",
   "metadata": {
    "execution": {
     "iopub.execute_input": "2025-06-10T19:32:36.341622Z",
     "iopub.status.busy": "2025-06-10T19:32:36.341408Z",
     "iopub.status.idle": "2025-06-10T19:32:36.345292Z",
     "shell.execute_reply": "2025-06-10T19:32:36.344607Z"
    }
   },
   "outputs": [],
   "source": [
    "c2 = mmc.MarkovChain( Q )\n",
    "c2.set_init_distribution(initial)\n",
    "c2.set_model_name( \"Demo_Continuous\" )"
   ]
  },
  {
   "cell_type": "markdown",
   "id": "dc33aa8a-5ee9-405a-8ae9-47e61889119e",
   "metadata": {},
   "source": [
    "Inspection of its features"
   ]
  },
  {
   "cell_type": "code",
   "execution_count": 19,
   "id": "3be2e2db-dfba-4e32-b085-576bca41a6e4",
   "metadata": {
    "execution": {
     "iopub.execute_input": "2025-06-10T19:32:36.347272Z",
     "iopub.status.busy": "2025-06-10T19:32:36.347077Z",
     "iopub.status.idle": "2025-06-10T19:32:36.351092Z",
     "shell.execute_reply": "2025-06-10T19:32:36.350369Z"
    }
   },
   "outputs": [
    {
     "name": "stdout",
     "output_type": "stream",
     "text": [
      "1  =  1\n",
      "6\n",
      "Demo_Continuous\n"
     ]
    }
   ],
   "source": [
    "print( c2.type(), \" = \", mc.CONTINUOUS )             # The type of the chain (DISCRETE or CONTINUOUS) as a numerical representation\n",
    "print( c2.state_space_size() )\n",
    "print( c2.model_name() )"
   ]
  },
  {
   "cell_type": "code",
   "execution_count": 20,
   "id": "fdc9318d-3bfe-4c14-bb7e-fca629323324",
   "metadata": {
    "execution": {
     "iopub.execute_input": "2025-06-10T19:32:36.352939Z",
     "iopub.status.busy": "2025-06-10T19:32:36.352771Z",
     "iopub.status.idle": "2025-06-10T19:32:36.356514Z",
     "shell.execute_reply": "2025-06-10T19:32:36.355750Z"
    }
   },
   "outputs": [
    {
     "name": "stdout",
     "output_type": "stream",
     "text": [
      "SparseMatrix\n",
      "         0          1 1.000000e+00\n",
      "         0          0 -1.000000e+00\n",
      "         1          0 1.000000e+00\n",
      "         1          1 -2.000000e+00\n",
      "         1          2 1.000000e+00\n",
      "         2          0 1.000000e+00\n",
      "         2          2 -2.000000e+00\n",
      "         2          3 1.000000e+00\n",
      "         3          0 1.000000e+00\n",
      "         3          3 -2.000000e+00\n",
      "         3          4 1.000000e+00\n",
      "         4          0 1.000000e+00\n",
      "         4          4 -2.000000e+00\n",
      "         4          5 1.000000e+00\n",
      "         5          0 1.000000e+00\n",
      "         5          5 -1.000000e+00\n",
      "\n"
     ]
    }
   ],
   "source": [
    "c2.generator().className()\n",
    "Q2 = c2.generator()\n",
    "print( Q2.className() )\n",
    "print( Q2.toString() )"
   ]
  },
  {
   "cell_type": "markdown",
   "id": "974d6116-839b-4ff1-bb5a-568d079532a9",
   "metadata": {
    "jp-MarkdownHeadingCollapsed": true
   },
   "source": [
    "## Transformation of Markov chains"
   ]
  },
  {
   "cell_type": "markdown",
   "id": "4e42e648-c81d-435b-8f38-e9e3685d7110",
   "metadata": {},
   "source": [
    "There are two well-known ways to transform continuous-time chains into discrete-time ones: **uniformization** and **embedding**.\n",
    "Both are implemented in Marmote."
   ]
  },
  {
   "cell_type": "markdown",
   "id": "31b88e59-58ae-44af-92c5-e74772b0ad32",
   "metadata": {},
   "source": [
    "### Uniformization"
   ]
  },
  {
   "cell_type": "code",
   "execution_count": 21,
   "id": "67a31531-dfd3-4541-9ab6-0ab10ff352c9",
   "metadata": {
    "execution": {
     "iopub.execute_input": "2025-06-10T19:32:36.358380Z",
     "iopub.status.busy": "2025-06-10T19:32:36.358216Z",
     "iopub.status.idle": "2025-06-10T19:32:36.361235Z",
     "shell.execute_reply": "2025-06-10T19:32:36.360598Z"
    }
   },
   "outputs": [],
   "source": [
    "c2uni = c2.Uniformize()"
   ]
  },
  {
   "cell_type": "code",
   "execution_count": 22,
   "id": "cc8c653d-e416-48ff-9433-3aa9dc4d6d49",
   "metadata": {
    "execution": {
     "iopub.execute_input": "2025-06-10T19:32:36.362924Z",
     "iopub.status.busy": "2025-06-10T19:32:36.362761Z",
     "iopub.status.idle": "2025-06-10T19:32:36.366556Z",
     "shell.execute_reply": "2025-06-10T19:32:36.365831Z"
    }
   },
   "outputs": [
    {
     "name": "stdout",
     "output_type": "stream",
     "text": [
      "discrete sparse\n",
      "6\n",
      "         0          1 5.000000e-01\n",
      "         0          0 5.000000e-01\n",
      "         1          0 5.000000e-01\n",
      "         1          2 5.000000e-01\n",
      "         2          0 5.000000e-01\n",
      "         2          3 5.000000e-01\n",
      "         3          0 5.000000e-01\n",
      "         3          4 5.000000e-01\n",
      "         4          0 5.000000e-01\n",
      "         4          5 5.000000e-01\n",
      "         5          0 5.000000e-01\n",
      "         5          5 5.000000e-01\n",
      "stop\n",
      "0\n",
      "\n"
     ]
    }
   ],
   "source": [
    "print(c2uni)"
   ]
  },
  {
   "cell_type": "markdown",
   "id": "f8db9a12-5eb6-4da3-a9b9-d632fefc0884",
   "metadata": {},
   "source": [
    "### About the uniformization factor."
   ]
  },
  {
   "cell_type": "markdown",
   "id": "8d0dcdf7-6fa0-41b3-a75f-06f719f81079",
   "metadata": {},
   "source": [
    "The `MarkovChain` method `Uniformize` has no parameter: the uniformization factor is automatically chosen, as small as possible."
   ]
  },
  {
   "cell_type": "markdown",
   "id": "72c2e7e9-8c5c-4737-9136-9ea1918eb136",
   "metadata": {},
   "source": [
    "In some cases, a finer control is needed. This can be done via the `TransitionStructure` objects."
   ]
  },
  {
   "cell_type": "markdown",
   "id": "a8fe6397-a7ed-4c70-99c4-1aaa22d8a36e",
   "metadata": {},
   "source": [
    "First inspect the uniformization rate chosen:"
   ]
  },
  {
   "cell_type": "code",
   "execution_count": 23,
   "id": "31439022-3562-4f37-837f-17df36ce1d84",
   "metadata": {
    "execution": {
     "iopub.execute_input": "2025-06-10T19:32:36.368276Z",
     "iopub.status.busy": "2025-06-10T19:32:36.368101Z",
     "iopub.status.idle": "2025-06-10T19:32:36.372119Z",
     "shell.execute_reply": "2025-06-10T19:32:36.371346Z"
    }
   },
   "outputs": [
    {
     "data": {
      "text/plain": [
       "2.0"
      ]
     },
     "execution_count": 23,
     "metadata": {},
     "output_type": "execute_result"
    }
   ],
   "source": [
    "c2uni.generator().uniformization_rate()"
   ]
  },
  {
   "cell_type": "markdown",
   "id": "b3ac5522-a267-4950-bb36-bbf32415c7b7",
   "metadata": {},
   "source": [
    "Redo uniformization with a larger rate."
   ]
  },
  {
   "cell_type": "code",
   "execution_count": 24,
   "id": "93f6c968-a88e-425b-891f-0fc663e1c932",
   "metadata": {
    "execution": {
     "iopub.execute_input": "2025-06-10T19:32:36.373684Z",
     "iopub.status.busy": "2025-06-10T19:32:36.373527Z",
     "iopub.status.idle": "2025-06-10T19:32:36.383984Z",
     "shell.execute_reply": "2025-06-10T19:32:36.383396Z"
    }
   },
   "outputs": [],
   "source": [
    "c2uni2 = mmc.MarkovChain( c2.generator().Uniformize(4.0) )"
   ]
  },
  {
   "cell_type": "code",
   "execution_count": 25,
   "id": "4ead8c9c-9b6b-46cc-8479-62a35352977e",
   "metadata": {
    "execution": {
     "iopub.execute_input": "2025-06-10T19:32:36.385527Z",
     "iopub.status.busy": "2025-06-10T19:32:36.385234Z",
     "iopub.status.idle": "2025-06-10T19:32:36.388845Z",
     "shell.execute_reply": "2025-06-10T19:32:36.388302Z"
    }
   },
   "outputs": [
    {
     "name": "stdout",
     "output_type": "stream",
     "text": [
      "mc_matrix=np.array([\n",
      "[0.75, 0.25, 0, 0, 0, 0],\n",
      "[0.25, 0.5, 0.25, 0, 0, 0],\n",
      "[0.25, 0, 0.5, 0.25, 0, 0],\n",
      "[0.25, 0, 0, 0.5, 0.25, 0],\n",
      "[0.25, 0, 0, 0, 0.5, 0.25],\n",
      "[0.25, 0, 0, 0, 0, 0.75]\n",
      "], dtype=float)\n",
      "\n",
      "Unif rate =  4.0\n"
     ]
    }
   ],
   "source": [
    "mc.setInoutFormatPolicy(mc.FORMAT_NUMPY)\n",
    "print(c2uni2.generator().toString())\n",
    "print( \"Unif rate = \", c2uni2.generator().uniformization_rate() )"
   ]
  },
  {
   "cell_type": "markdown",
   "id": "2da0648a-4bea-44b2-9e76-5736eef8286d",
   "metadata": {},
   "source": [
    "### Embedding"
   ]
  },
  {
   "cell_type": "code",
   "execution_count": 26,
   "id": "4fc5758e-3961-425c-a10f-62b7c8daa739",
   "metadata": {
    "execution": {
     "iopub.execute_input": "2025-06-10T19:32:36.390545Z",
     "iopub.status.busy": "2025-06-10T19:32:36.390259Z",
     "iopub.status.idle": "2025-06-10T19:32:36.393387Z",
     "shell.execute_reply": "2025-06-10T19:32:36.392731Z"
    }
   },
   "outputs": [
    {
     "name": "stdout",
     "output_type": "stream",
     "text": [
      "mc_matrix=np.array([\n",
      "[0, 1, 0, 0, 0, 0],\n",
      "[0.5, 0, 0.5, 0, 0, 0],\n",
      "[0.5, 0, 0, 0.5, 0, 0],\n",
      "[0.5, 0, 0, 0, 0.5, 0],\n",
      "[0.5, 0, 0, 0, 0, 0.5],\n",
      "[1, 0, 0, 0, 0, 0]\n",
      "], dtype=float)\n",
      "\n"
     ]
    }
   ],
   "source": [
    "c2embed = c2.Embed()\n",
    "print(c2embed.generator().toString())"
   ]
  },
  {
   "cell_type": "markdown",
   "id": "d4c06322-0f5a-4ffe-9796-7bf549964382",
   "metadata": {},
   "source": []
  }
 ],
 "metadata": {
  "kernelspec": {
   "display_name": "Python 3 (ipykernel)",
   "language": "python",
   "name": "python3"
  },
  "language_info": {
   "codemirror_mode": {
    "name": "ipython",
    "version": 3
   },
   "file_extension": ".py",
   "mimetype": "text/x-python",
   "name": "python",
   "nbconvert_exporter": "python",
   "pygments_lexer": "ipython3",
   "version": "3.11.11"
  }
 },
 "nbformat": 4,
 "nbformat_minor": 5
}
