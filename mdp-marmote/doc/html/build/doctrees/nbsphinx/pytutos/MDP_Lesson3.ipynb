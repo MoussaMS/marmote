{
 "cells": [
  {
   "cell_type": "markdown",
   "metadata": {},
   "source": [
    "# MDP Lesson 3:  average MDP and policy handling "
   ]
  },
  {
   "cell_type": "markdown",
   "metadata": {},
   "source": [
    "**Import the modules**"
   ]
  },
  {
   "cell_type": "code",
   "execution_count": 1,
   "metadata": {
    "execution": {
     "iopub.execute_input": "2025-05-19T21:45:40.367187Z",
     "iopub.status.busy": "2025-05-19T21:45:40.366881Z",
     "iopub.status.idle": "2025-05-19T21:45:40.474314Z",
     "shell.execute_reply": "2025-05-19T21:45:40.473761Z"
    }
   },
   "outputs": [],
   "source": [
    "import marmote.core as mc \n",
    "import marmote.mdp as md"
   ]
  },
  {
   "cell_type": "markdown",
   "metadata": {},
   "source": [
    "## Build an average MDP"
   ]
  },
  {
   "cell_type": "markdown",
   "metadata": {},
   "source": [
    "### A  machine repair model"
   ]
  },
  {
   "cell_type": "markdown",
   "metadata": {},
   "source": [
    "Assume a machine with 4 states: \n",
    "- 0 = new\n",
    "- 1 = usable with minor deterioration\n",
    "- 2 = usable with major deterioration\n",
    "- 3 = unusable  \n",
    "\n",
    "and has 3 actions\n",
    "- 1 = Do nothing: remain as is\n",
    "- 2 = Tune-up: return to status 1\n",
    "- 3 = Total repair: return to state 0  \n",
    "\n",
    "Costs depend on the state and the chosen action.\n",
    "\n",
    "- In state 0 *\"Do nothing\"* costs 0,    *\"Tune-up\"* costs 4000 and *\"Total Repair\"* costs 6000\n",
    "- In state 1 *\"Do nothing\"* costs 1000, *\"Tune-up\"* costs 4000 and *\"Total Repair\"* costs 6000\n",
    "- In state 2 *\"Do nothing\"* costs 3000, *\"Tune-up\"* costs 4000 and *\"Total Repair\"* costs 6000\n",
    "- In state 3 *\"Do nothing\"* costs 3000, *\"Tune-up\"* costs 4000 and *\"Total Repair\"* costs 6000"
   ]
  },
  {
   "cell_type": "markdown",
   "metadata": {},
   "source": [
    "### Create all objects"
   ]
  },
  {
   "cell_type": "markdown",
   "metadata": {},
   "source": [
    "Spaces"
   ]
  },
  {
   "cell_type": "code",
   "execution_count": 2,
   "metadata": {
    "execution": {
     "iopub.execute_input": "2025-05-19T21:45:40.477378Z",
     "iopub.status.busy": "2025-05-19T21:45:40.476721Z",
     "iopub.status.idle": "2025-05-19T21:45:40.480086Z",
     "shell.execute_reply": "2025-05-19T21:45:40.479649Z"
    }
   },
   "outputs": [],
   "source": [
    "dim_SS = 4 # dimension of the state space\n",
    "dim_AS = 3 # dimension of the action space\n",
    "\n",
    "stateSpace =  mc.MarmoteInterval(0,3)\n",
    "actionSpace =  mc.MarmoteInterval(0,2)"
   ]
  },
  {
   "cell_type": "markdown",
   "metadata": {},
   "source": [
    "Create transition matrices"
   ]
  },
  {
   "cell_type": "code",
   "execution_count": 3,
   "metadata": {
    "execution": {
     "iopub.execute_input": "2025-05-19T21:45:40.482238Z",
     "iopub.status.busy": "2025-05-19T21:45:40.481666Z",
     "iopub.status.idle": "2025-05-19T21:45:40.488703Z",
     "shell.execute_reply": "2025-05-19T21:45:40.488303Z"
    }
   },
   "outputs": [],
   "source": [
    "# matrix for the a_0 action\n",
    "P0 = mc.SparseMatrix(dim_SS)\n",
    "\n",
    "P0.setEntry(0,1,0.875)\n",
    "P0.setEntry(0,2,0.0625)\n",
    "P0.setEntry(0,3,0.0625)\n",
    "P0.setEntry(1,1,0.75)\n",
    "P0.setEntry(1,2,0.125)\n",
    "P0.setEntry(1,3,0.125)\n",
    "P0.setEntry(2,2,0.5)\n",
    "P0.setEntry(2,3,0.5)\n",
    "P0.setEntry(3,3,1.0)\n",
    "\n",
    "P1 =  mc.SparseMatrix(dim_SS)\n",
    "P1.setEntry(0,1,0.875)\n",
    "P1.setEntry(0,2,0.0625)\n",
    "P1.setEntry(0,3,0.0625)\n",
    "P1.setEntry(1,1,0.75)\n",
    "P1.setEntry(1,2,0.125)\n",
    "P1.setEntry(1,3,0.125)\n",
    "P1.setEntry(2,1,1.0)\n",
    "P1.setEntry(3,3,1.0)\n",
    "\n",
    "P2 =  mc.SparseMatrix(dim_SS)\n",
    "P2.setEntry(0,1,0.875)\n",
    "P2.setEntry(0,2,0.0625)\n",
    "P2.setEntry(0,3,0.0625)\n",
    "P2.setEntry(1,0,1.0)\n",
    "P2.setEntry(2,0,1.0)\n",
    "P2.setEntry(3,0,1.0)\n",
    "\n",
    "trans = [P0, P1, P2]"
   ]
  },
  {
   "cell_type": "markdown",
   "metadata": {},
   "source": [
    "Create Cost Matrix"
   ]
  },
  {
   "cell_type": "code",
   "execution_count": 4,
   "metadata": {
    "execution": {
     "iopub.execute_input": "2025-05-19T21:45:40.491141Z",
     "iopub.status.busy": "2025-05-19T21:45:40.490588Z",
     "iopub.status.idle": "2025-05-19T21:45:40.497502Z",
     "shell.execute_reply": "2025-05-19T21:45:40.497091Z"
    }
   },
   "outputs": [
    {
     "data": {
      "text/plain": [
       "True"
      ]
     },
     "execution_count": 4,
     "metadata": {},
     "output_type": "execute_result"
    }
   ],
   "source": [
    "Reward  =  mc.FullMatrix(dim_SS, dim_AS)\n",
    "Reward.setEntry(0,0,0)\n",
    "Reward.setEntry(0,1,4000)\n",
    "Reward.setEntry(0,2,6000)\n",
    "Reward.setEntry(1,0,1000)\n",
    "Reward.setEntry(1,1,4000)\n",
    "Reward.setEntry(1,2,6000)\n",
    "Reward.setEntry(2,0,3000)\n",
    "Reward.setEntry(2,1,4000)\n",
    "Reward.setEntry(2,2,6000)\n",
    "Reward.setEntry(3,0,3000)\n",
    "Reward.setEntry(3,1,4000)\n",
    "Reward.setEntry(3,2,6000)"
   ]
  },
  {
   "cell_type": "markdown",
   "metadata": {},
   "source": [
    "Create AverageMDP object. Please note, that AverageMDP is an object with specific implemented algorithms.  "
   ]
  },
  {
   "cell_type": "code",
   "execution_count": 5,
   "metadata": {
    "execution": {
     "iopub.execute_input": "2025-05-19T21:45:40.499620Z",
     "iopub.status.busy": "2025-05-19T21:45:40.499269Z",
     "iopub.status.idle": "2025-05-19T21:45:40.506521Z",
     "shell.execute_reply": "2025-05-19T21:45:40.505824Z"
    }
   },
   "outputs": [
    {
     "name": "stdout",
     "output_type": "stream",
     "text": [
      "#############################################\n",
      "\n",
      "Model: Average Discounted MDP\n",
      "MDP Criteria : Infinite Horizon Average\n"
     ]
    }
   ],
   "source": [
    "criterion=\"min\"\n",
    "\n",
    "mdp1 =  md.AverageMDP(criterion, stateSpace, actionSpace, trans,Reward)\n",
    "print(mdp1)"
   ]
  },
  {
   "cell_type": "markdown",
   "metadata": {},
   "source": [
    "### Solve the MDP"
   ]
  },
  {
   "cell_type": "markdown",
   "metadata": {},
   "source": [
    "**Solving with Value Iteration (VI) and Policy Iteration Modified (PIM)**"
   ]
  },
  {
   "cell_type": "markdown",
   "metadata": {},
   "source": [
    "The VI and PIM methods are available in an `AverageMPD` object used for average criteria MDP (the code is specific for the `AverageMDP` object since algorithms differ from the discounted case and total case). "
   ]
  },
  {
   "cell_type": "code",
   "execution_count": 6,
   "metadata": {
    "execution": {
     "iopub.execute_input": "2025-05-19T21:45:40.508336Z",
     "iopub.status.busy": "2025-05-19T21:45:40.508174Z",
     "iopub.status.idle": "2025-05-19T21:45:40.512869Z",
     "shell.execute_reply": "2025-05-19T21:45:40.512172Z"
    }
   },
   "outputs": [
    {
     "name": "stdout",
     "output_type": "stream",
     "text": [
      "Compute with value Iteration\n",
      "\n",
      "#############################################\n",
      "Solution of MDP problem\n",
      "Size of the state space: 4\n",
      "#############################################\n",
      "Solution model: Feedback Stationary Policy\n",
      "Average Cost (only for average models):          1666.67\n",
      "- column 1: index of the state\n",
      "- column 2: Value function \n",
      "- column 3: Optimal action \n",
      "\n",
      "  0           24571.4   0\n",
      "  1           25904.8   0\n",
      "  2           28238.1   1\n",
      "  3           28904.8   2\n",
      "#############################################\n",
      "\n",
      "\n",
      "Computation with Policy Iteration modified\n",
      "#############################################\n",
      "Solution of MDP problem\n",
      "Size of the state space: 4\n",
      "#############################################\n",
      "Solution model: Feedback Stationary Policy\n",
      "Average Cost (only for average models):          1666.67\n",
      "- column 1: index of the state\n",
      "- column 2: Value function \n",
      "- column 3: Optimal action \n",
      "\n",
      "  0            177619   0\n",
      "  1            178952   0\n",
      "  2            181286   1\n",
      "  3            181952   2\n",
      "#############################################\n",
      "\n",
      "\n"
     ]
    }
   ],
   "source": [
    "#create and initialize epsilon.\n",
    "epsilon = 0.00001\n",
    "#create and initialize the maximum number of iterations allowed.\n",
    "maxIter = 500\n",
    "\n",
    "print(\"Compute with value Iteration\\n\")\n",
    "optimum = mdp1.ValueIteration(epsilon, maxIter)\n",
    "print(str(optimum))\n",
    "\n",
    "print(\"Computation with Policy Iteration modified\")\n",
    "optimum2 = mdp1.PolicyIterationModified(epsilon, maxIter, 0.001, 1000)\n",
    "print(optimum2)"
   ]
  },
  {
   "cell_type": "markdown",
   "metadata": {},
   "source": [
    "**Solving with Relative Value Iteration (RVI)**"
   ]
  },
  {
   "cell_type": "markdown",
   "metadata": {},
   "source": [
    "It is also possible to solve an Average criteria MDP with the *relative Value Iteration* algorithm. "
   ]
  },
  {
   "cell_type": "code",
   "execution_count": 7,
   "metadata": {
    "execution": {
     "iopub.execute_input": "2025-05-19T21:45:40.514628Z",
     "iopub.status.busy": "2025-05-19T21:45:40.514278Z",
     "iopub.status.idle": "2025-05-19T21:45:40.518141Z",
     "shell.execute_reply": "2025-05-19T21:45:40.517455Z"
    }
   },
   "outputs": [
    {
     "name": "stdout",
     "output_type": "stream",
     "text": [
      "Computation with relative value iteration\n",
      "#############################################\n",
      "Solution of MDP problem\n",
      "Size of the state space: 4\n",
      "#############################################\n",
      "Solution model: Feedback Stationary Policy\n",
      "Average Cost (only for average models):          1666.67\n",
      "- column 1: index of the state\n",
      "- column 2: Value function \n",
      "- column 3: Optimal action \n",
      "\n",
      "  0           7666.67   0\n",
      "  1              6000   0\n",
      "  2              6000   1\n",
      "  3              6000   2\n",
      "#############################################\n",
      "\n",
      "\n"
     ]
    }
   ],
   "source": [
    "print(\"Computation with relative value iteration\")\n",
    "optimum3 = mdp1.RelativeValueIteration(epsilon, maxIter)\n",
    "print(optimum3)"
   ]
  },
  {
   "cell_type": "markdown",
   "metadata": {},
   "source": [
    "## Policy (FeedbackSolutionMDP) handling"
   ]
  },
  {
   "cell_type": "markdown",
   "metadata": {},
   "source": [
    "The *FeedbackSolutionMDP* class is used to represent any deterministic Markov decision rule. A Feedback object stores both a decision rule (*action* field) and the associated value function (*value* field). Hence, it stores information about the policy, such as the actions to be taken in each state and the value associated with the policy. It can be manipulated and modified using setter and getter functions."
   ]
  },
  {
   "cell_type": "markdown",
   "metadata": {},
   "source": [
    "### Describing the output of  FeedbackSolutionMDP in the average case"
   ]
  },
  {
   "cell_type": "markdown",
   "metadata": {},
   "source": [
    "The fields of a `FeedbackSolutionMDP` object are filled in, for each state, \n",
    "\n",
    "- with the index of the state \n",
    "- with the bias value\n",
    "- with the optimal action\n",
    "\n",
    "which are calculated by the solution algorithms.  \n",
    "\n",
    "The average optimal gain is given just before the state-by-state enumeration. This last point is only valid for average criterion MDPs. "
   ]
  },
  {
   "cell_type": "markdown",
   "metadata": {},
   "source": [
    "### Building Solution"
   ]
  },
  {
   "cell_type": "markdown",
   "metadata": {},
   "source": [
    "A FeedbackSolution is created during the running of the algorithm and is returned by the resolution methods. But the object can be directly manipulated. This is now described."
   ]
  },
  {
   "cell_type": "markdown",
   "metadata": {},
   "source": [
    "**Creating a new Solution object**"
   ]
  },
  {
   "cell_type": "markdown",
   "metadata": {},
   "source": [
    "We create now a `FeedbackSolutionMDP` with dimension `stateSpace.Cardinal()`"
   ]
  },
  {
   "cell_type": "code",
   "execution_count": 8,
   "metadata": {
    "execution": {
     "iopub.execute_input": "2025-05-19T21:45:40.521182Z",
     "iopub.status.busy": "2025-05-19T21:45:40.520497Z",
     "iopub.status.idle": "2025-05-19T21:45:40.524398Z",
     "shell.execute_reply": "2025-05-19T21:45:40.523652Z"
    }
   },
   "outputs": [],
   "source": [
    "policy =  md.FeedbackSolutionMDP(stateSpace.Cardinal())"
   ]
  },
  {
   "cell_type": "markdown",
   "metadata": {},
   "source": [
    "#### Accessors"
   ]
  },
  {
   "cell_type": "markdown",
   "metadata": {},
   "source": [
    "**Defining a given policy (setters)**"
   ]
  },
  {
   "cell_type": "markdown",
   "metadata": {},
   "source": [
    "The following lines of code define the policy actions for each state. The arguments passed to the `setActionIndex` method are :  \n",
    "\n",
    "- The first argument is the index of the state for which you want to define the action.\n",
    "- The second argument is the index of the action you want to assign to this state.\n",
    "\n",
    "For example: For state 0, the action assigned is action 0."
   ]
  },
  {
   "cell_type": "code",
   "execution_count": 9,
   "metadata": {
    "execution": {
     "iopub.execute_input": "2025-05-19T21:45:40.526568Z",
     "iopub.status.busy": "2025-05-19T21:45:40.526178Z",
     "iopub.status.idle": "2025-05-19T21:45:40.529134Z",
     "shell.execute_reply": "2025-05-19T21:45:40.528615Z"
    }
   },
   "outputs": [],
   "source": [
    "policy.setActionIndex(0,0)\n",
    "policy.setActionIndex(1,0)\n",
    "policy.setActionIndex(2,1)\n",
    "policy.setActionIndex(3,2)"
   ]
  },
  {
   "cell_type": "markdown",
   "metadata": {},
   "source": [
    "It is also possible to put all the values of `FeedbackSolutionMDP` to zeros by the method `resetValues`. If we now print the variable politicy then the actions will be the ones described above and the values will all be zero. "
   ]
  },
  {
   "cell_type": "code",
   "execution_count": 10,
   "metadata": {
    "execution": {
     "iopub.execute_input": "2025-05-19T21:45:40.530812Z",
     "iopub.status.busy": "2025-05-19T21:45:40.530502Z",
     "iopub.status.idle": "2025-05-19T21:45:40.533569Z",
     "shell.execute_reply": "2025-05-19T21:45:40.532916Z"
    }
   },
   "outputs": [
    {
     "name": "stdout",
     "output_type": "stream",
     "text": [
      "#############################################\n",
      "Solution of MDP problem\n",
      "Size of the state space: 4\n",
      "#############################################\n",
      "Solution model: Feedback Stationary Policy\n",
      "- column 1: index of the state\n",
      "- column 2: Value function \n",
      "- column 3: Optimal action \n",
      "\n",
      "  0                 0   0\n",
      "  1                 0   0\n",
      "  2                 0   1\n",
      "  3                 0   2\n",
      "#############################################\n",
      "\n",
      "\n"
     ]
    }
   ],
   "source": [
    "policy.resetValue()\n",
    "print(policy)"
   ]
  },
  {
   "cell_type": "markdown",
   "metadata": {},
   "source": [
    "**Getting the values of a given policy (getters)**"
   ]
  },
  {
   "cell_type": "markdown",
   "metadata": {},
   "source": [
    "Information about the average value can be retrieved using `getAvgCost()`, as well as information about values using `getValueIndex` or policies using ` getValuePolicy`, as illustrated below. "
   ]
  },
  {
   "cell_type": "code",
   "execution_count": 11,
   "metadata": {
    "execution": {
     "iopub.execute_input": "2025-05-19T21:45:40.535495Z",
     "iopub.status.busy": "2025-05-19T21:45:40.535269Z",
     "iopub.status.idle": "2025-05-19T21:45:40.539161Z",
     "shell.execute_reply": "2025-05-19T21:45:40.538563Z"
    }
   },
   "outputs": [
    {
     "name": "stdout",
     "output_type": "stream",
     "text": [
      "Getting Average Cost of policy 0.0\n",
      "Getting value in 0: 0.0\n",
      "Getting value in 1: 0.0\n",
      "Getting value in 2: 0.0\n",
      "Getting value in 3: 0.0\n"
     ]
    }
   ],
   "source": [
    "print(\"Getting Average Cost of policy\",policy.getAvgCost())\n",
    "print(\"Getting value in 0:\", policy.getValueIndex(0))\n",
    "print(\"Getting value in 1:\", policy.getValueIndex(1))\n",
    "print(\"Getting value in 2:\", policy.getValueIndex(2))\n",
    "print(\"Getting value in 3:\", policy.getValueIndex(3))"
   ]
  },
  {
   "cell_type": "markdown",
   "metadata": {},
   "source": [
    "### Assessing a policy  "
   ]
  },
  {
   "cell_type": "markdown",
   "metadata": {},
   "source": [
    "A policy can also be evaluated independently of any search for the optimal policy. The policyCost method is used to evaluate a policy whose action values are defined in the action element of a FeedbackPolicy object. The values of the object will be set to 0 at the start of the calculation so that the calculation of the average value of this policy does not depend on the value element.  \n",
    "\n",
    "Important: the policyCost method is implemented in each MDP object (with an algorithm adapted to the model in each case)."
   ]
  },
  {
   "cell_type": "code",
   "execution_count": 12,
   "metadata": {
    "execution": {
     "iopub.execute_input": "2025-05-19T21:45:40.541069Z",
     "iopub.status.busy": "2025-05-19T21:45:40.540670Z",
     "iopub.status.idle": "2025-05-19T21:45:40.543748Z",
     "shell.execute_reply": "2025-05-19T21:45:40.543233Z"
    }
   },
   "outputs": [
    {
     "name": "stdout",
     "output_type": "stream",
     "text": [
      "#############################################\n",
      "Solution of MDP problem\n",
      "Size of the state space: 4\n",
      "#############################################\n",
      "Solution model: Feedback Stationary Policy\n",
      "Average Cost (only for average models):          1666.67\n",
      "- column 1: index of the state\n",
      "- column 2: Value function \n",
      "- column 3: Optimal action \n",
      "\n",
      "  0             26619   0\n",
      "  1           27952.4   0\n",
      "  2           30285.7   1\n",
      "  3           30952.4   2\n",
      "#############################################\n",
      "\n",
      "\n"
     ]
    }
   ],
   "source": [
    "mdp1.PolicyCost(policy, epsilon, maxIter)\n",
    "print(policy)"
   ]
  },
  {
   "cell_type": "markdown",
   "metadata": {},
   "source": [
    "**Computing average costs of a some given policies**"
   ]
  },
  {
   "cell_type": "code",
   "execution_count": 13,
   "metadata": {
    "execution": {
     "iopub.execute_input": "2025-05-19T21:45:40.545736Z",
     "iopub.status.busy": "2025-05-19T21:45:40.545209Z",
     "iopub.status.idle": "2025-05-19T21:45:40.549858Z",
     "shell.execute_reply": "2025-05-19T21:45:40.549401Z"
    }
   },
   "outputs": [
    {
     "name": "stdout",
     "output_type": "stream",
     "text": [
      "Define Policy Ra\n",
      "Print solution Ra\n",
      "#############################################\n",
      "Solution of MDP problem\n",
      "Size of the state space: 4\n",
      "#############################################\n",
      "Solution model: Feedback Stationary Policy\n",
      "Average Cost (only for average models):          1923.08\n",
      "- column 1: index of the state\n",
      "- column 2: Value function \n",
      "- column 3: Optimal action \n",
      "\n",
      "  0           28396.4   0\n",
      "  1             29858   0\n",
      "  2           34627.2   0\n",
      "  3           32473.4   2\n",
      "#############################################\n",
      "\n",
      "\n",
      "Modify the previous Policy and a defining a new policy Rc\n",
      "Print solution of Rc\n",
      "#############################################\n",
      "Solution of MDP problem\n",
      "Size of the state space: 4\n",
      "#############################################\n",
      "Solution model: Feedback Stationary Policy\n",
      "Average Cost (only for average models):          1727.27\n",
      "- column 1: index of the state\n",
      "- column 2: Value function \n",
      "- column 3: Optimal action \n",
      "\n",
      "  0           34628.1   0\n",
      "  1           35991.7   0\n",
      "  2           38900.8   2\n",
      "  3           38900.8   2\n",
      "#############################################\n",
      "\n",
      "\n",
      "Define Policy Rd\n",
      "Print solution of Rd\n",
      "#############################################\n",
      "Solution of MDP problem\n",
      "Size of the state space: 4\n",
      "#############################################\n",
      "Solution model: Feedback Stationary Policy\n",
      "Average Cost (only for average models):             3000\n",
      "- column 1: index of the state\n",
      "- column 2: Value function \n",
      "- column 3: Optimal action \n",
      "\n",
      "  0           1.5e+06   0\n",
      "  1           1.5e+06   2\n",
      "  2           1.5e+06   2\n",
      "  3           1.5e+06   2\n",
      "#############################################\n",
      "\n",
      "\n"
     ]
    }
   ],
   "source": [
    "print(\"Define Policy Ra\")\n",
    "politique =  md.FeedbackSolutionMDP(stateSpace.Cardinal())\n",
    "politique.setActionIndex(0,0)\n",
    "politique.setActionIndex(1,0)\n",
    "politique.setActionIndex(2,0)\n",
    "politique.setActionIndex(3,2)\n",
    "\n",
    "print(\"Print solution Ra\")\n",
    "mdp1.PolicyCost(politique,epsilon, maxIter)\n",
    "print(politique)\n",
    "\n",
    "print(\"Modify the previous Policy and a defining a new policy Rc\")\n",
    "politique.setActionIndex(0,0)\n",
    "politique.setActionIndex(1,0)\n",
    "politique.setActionIndex(2,2)\n",
    "politique.setActionIndex(3,2)\n",
    "\n",
    "\n",
    "politique.resetValue()\n",
    "print(\"Print solution of Rc\")\n",
    "mdp1.PolicyCost(politique,epsilon, maxIter)\n",
    "print(politique)\n",
    "\n",
    "print(\"Define Policy Rd\")\n",
    "politique.setActionIndex(0,0)\n",
    "politique.setActionIndex(1,2)\n",
    "politique.setActionIndex(2,2)\n",
    "politique.setActionIndex(3,2)\n",
    "\n",
    "print(\"Print solution of Rd\")\n",
    "mdp1.PolicyCost(politique,epsilon, maxIter)\n",
    "print(politique)"
   ]
  },
  {
   "cell_type": "markdown",
   "metadata": {},
   "source": [
    "## Structural Analysis"
   ]
  },
  {
   "cell_type": "markdown",
   "metadata": {},
   "source": [
    "The marmoteMDP software also integrates a set of functions for processing and studying structural properties of value function or policy as presented in the book *Monotonicity in Markov Reward and Decision Chains: Theory and Applications (Foundations and Trends in Stochastic Systems)* of G. Koole"
   ]
  },
  {
   "cell_type": "markdown",
   "metadata": {},
   "source": [
    "### Structural analysis of the value"
   ]
  },
  {
   "cell_type": "markdown",
   "metadata": {},
   "source": [
    "The structural analysis of a value function is carried out using a `PropertiesValue` object, which is constructed from a state space. This object has two methods (depending on the properties to be checked): `Monotonicity` and `Convexity` which checks the property of the solution given in parameter. These two functions :  \n",
    "\n",
    "-`Monotonicity` returns 1 (if the VF is increasing), 0 (VF has no property), -1 (if the VF is decreasing)  \n",
    "-`Convexity` returns 1 (if the VF is convex), -1 (if the VF is concave), 0 otherwise\n",
    "\n",
    " Some of the details can be clarified with the methods `avoidDetail` and `GetDetail`, in particular the indices for which the properties are broken."
   ]
  },
  {
   "cell_type": "code",
   "execution_count": 14,
   "metadata": {
    "execution": {
     "iopub.execute_input": "2025-05-19T21:45:40.551482Z",
     "iopub.status.busy": "2025-05-19T21:45:40.551294Z",
     "iopub.status.idle": "2025-05-19T21:45:40.555657Z",
     "shell.execute_reply": "2025-05-19T21:45:40.555153Z"
    }
   },
   "outputs": [
    {
     "name": "stdout",
     "output_type": "stream",
     "text": [
      "Printing monotonicity property of value function (1 if increasing -1 if decreasing 0 otherwise) : 1\n",
      "Verif convexity with details\n",
      "Printing convexity property of value function (1 if convex -1 concave 0 otherwise) : 0\n",
      "#############################################\n",
      "MDP type (discrete,continuous): discrete\n",
      "MDP rule (min,max): min\n",
      "State space size: 4\n",
      "Action space size: 3\n",
      "State  dimension: 1\n",
      "Action dimension: 1\n",
      "#############################################\n",
      "Transition matrix per action:\n",
      "action: 0\n",
      "         0          1 8.750000e-01\n",
      "         0          2 6.250000e-02\n",
      "         0          3 6.250000e-02\n",
      "         1          1 7.500000e-01\n",
      "         1          2 1.250000e-01\n",
      "         1          3 1.250000e-01\n",
      "         2          2 5.000000e-01\n",
      "         2          3 5.000000e-01\n",
      "         3          3 1.000000e+00\n",
      "\n",
      "action: 1\n",
      "         0          1 8.750000e-01\n",
      "         0          2 6.250000e-02\n",
      "         0          3 6.250000e-02\n",
      "         1          1 7.500000e-01\n",
      "         1          2 1.250000e-01\n",
      "         1          3 1.250000e-01\n",
      "         2          1 1.000000e+00\n",
      "         3          3 1.000000e+00\n",
      "\n",
      "action: 2\n",
      "         0          1 8.750000e-01\n",
      "         0          2 6.250000e-02\n",
      "         0          3 6.250000e-02\n",
      "         1          0 1.000000e+00\n",
      "         2          0 1.000000e+00\n",
      "         3          0 1.000000e+00\n",
      "\n",
      "#############################################\n",
      "Reward Matrix (state,action):\n",
      "         0          0 0.000000e+00\n",
      "         0          1 4.000000e+03\n",
      "         0          2 6.000000e+03\n",
      "         1          0 1.000000e+03\n",
      "         1          1 4.000000e+03\n",
      "         1          2 6.000000e+03\n",
      "         2          0 3.000000e+03\n",
      "         2          1 4.000000e+03\n",
      "         2          2 6.000000e+03\n",
      "         3          0 3.000000e+03\n",
      "         3          1 4.000000e+03\n",
      "         3          2 6.000000e+03\n",
      "\n",
      "#############################################\n",
      "\n",
      "#In monotonicityCX: Breaking concavity Property in index 0\n",
      "#In monotonicityCX: Breaking convexity Property in index 1\n"
     ]
    }
   ],
   "source": [
    "checkValue =  md.PropertiesValue(stateSpace)\n",
    "checkValue.avoidDetail()\n",
    "monotone=checkValue.Monotonicity(optimum)\n",
    "print(\"Printing monotonicity property of value function (1 if increasing -1 if decreasing 0 otherwise) : \" + str(monotone))\n",
    "\n",
    "print(\"Verif convexity with details\")\n",
    "checkValue.getDetail()\n",
    "convex=checkValue.Convexity(optimum)\n",
    "print(\"Printing convexity property of value function (1 if convex -1 concave 0 otherwise) : \" + str(convex))"
   ]
  },
  {
   "cell_type": "markdown",
   "metadata": {},
   "source": [
    "### Structural analysis of the policy"
   ]
  },
  {
   "cell_type": "markdown",
   "metadata": {},
   "source": [
    "The structural analysis of a property is carried out using a `PropertiesValue` object, which is constructed from a state space. This object has two methods (depending on the properties to be checked): `Monotonicity` or ̀̀`sSpol` for checking is the policy is *(s,S)*."
   ]
  },
  {
   "cell_type": "code",
   "execution_count": 15,
   "metadata": {
    "execution": {
     "iopub.execute_input": "2025-05-19T21:45:40.557297Z",
     "iopub.status.busy": "2025-05-19T21:45:40.556989Z",
     "iopub.status.idle": "2025-05-19T21:45:40.560020Z",
     "shell.execute_reply": "2025-05-19T21:45:40.559468Z"
    }
   },
   "outputs": [
    {
     "name": "stdout",
     "output_type": "stream",
     "text": [
      "Checking Structural Properties of value\n",
      "PropertiesPolicy::MonotonicityOptimalPolicy=1 (1 if increasing -1 if decreasing 0 otherwise) : \n"
     ]
    }
   ],
   "source": [
    "print(\"Checking Structural Properties of value\")\n",
    "checkPolicy =  md.PropertiesPolicy(stateSpace)\n",
    "\n",
    "monotone=checkPolicy.Monotonicity(optimum)\n",
    "print(\"PropertiesPolicy::MonotonicityOptimalPolicy=\"+str(monotone) + \" (1 if increasing -1 if decreasing 0 otherwise) : \")"
   ]
  },
  {
   "cell_type": "markdown",
   "metadata": {},
   "source": [
    "End of the notebook"
   ]
  },
  {
   "cell_type": "code",
   "execution_count": null,
   "metadata": {},
   "outputs": [],
   "source": []
  }
 ],
 "metadata": {
  "kernelspec": {
   "display_name": "Python 3 (ipykernel)",
   "language": "python",
   "name": "python3"
  },
  "language_info": {
   "codemirror_mode": {
    "name": "ipython",
    "version": 3
   },
   "file_extension": ".py",
   "mimetype": "text/x-python",
   "name": "python",
   "nbconvert_exporter": "python",
   "pygments_lexer": "ipython3",
   "version": "3.11.11"
  }
 },
 "nbformat": 4,
 "nbformat_minor": 4
}
