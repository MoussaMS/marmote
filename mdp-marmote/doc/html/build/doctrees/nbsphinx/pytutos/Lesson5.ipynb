{
 "cells": [
  {
   "cell_type": "markdown",
   "id": "a652608d-bd1c-49d7-b882-4263c8e1610a",
   "metadata": {},
   "source": [
    "# Lesson 5: Predefined Markov Chains"
   ]
  },
  {
   "cell_type": "code",
   "execution_count": 1,
   "id": "6986eb41-6cd3-41de-9771-b175faa145f4",
   "metadata": {
    "execution": {
     "iopub.execute_input": "2025-05-19T21:45:27.900829Z",
     "iopub.status.busy": "2025-05-19T21:45:27.900539Z",
     "iopub.status.idle": "2025-05-19T21:45:27.966350Z",
     "shell.execute_reply": "2025-05-19T21:45:27.965927Z"
    }
   },
   "outputs": [],
   "source": [
    "import marmote.core as marmotecore\n",
    "import marmote.markovchain as mmc\n",
    "import numpy as np"
   ]
  },
  {
   "cell_type": "markdown",
   "id": "c7001f61-3037-4dfc-aa9f-95e5d8241b5c",
   "metadata": {},
   "source": [
    "Some of the well-known Markov models are implemented in `Marmote` as objects heritating from `MarkovChain`. Their current list is:\n",
    "\n",
    "* `TwoStateDiscrete`\n",
    "* `TwoStateContinuous`\n",
    "* `Homogeneous1DRandomWalk`\n",
    "* `Homogeneous1DBirthDeath`\n",
    "  * `PoissonProcess`\n",
    "* `HomogeneousMultiDRandomWalk`\n",
    "* `HomogeneousMultiDBirthDeath`\n",
    "* `MMPP` "
   ]
  },
  {
   "cell_type": "markdown",
   "id": "6ee3a772-2066-4c80-9cf8-cc7c9847ebea",
   "metadata": {},
   "source": [
    "## The continuous-time birth-death process"
   ]
  },
  {
   "cell_type": "markdown",
   "id": "46cfb165-3372-4553-b089-f37e785b3674",
   "metadata": {},
   "source": [
    "### Infinite-state birth-death process"
   ]
  },
  {
   "cell_type": "code",
   "execution_count": 2,
   "id": "34a944f0-112f-4667-9845-b43a4b973061",
   "metadata": {
    "execution": {
     "iopub.execute_input": "2025-05-19T21:45:27.969169Z",
     "iopub.status.busy": "2025-05-19T21:45:27.968511Z",
     "iopub.status.idle": "2025-05-19T21:45:27.971601Z",
     "shell.execute_reply": "2025-05-19T21:45:27.971300Z"
    }
   },
   "outputs": [],
   "source": [
    "mc = mmc.Homogeneous1DBirthDeath( 0.5, 1.0 )"
   ]
  },
  {
   "cell_type": "markdown",
   "id": "20280a94-0ef4-42c3-bbd4-970c634b3b37",
   "metadata": {},
   "source": [
    "Although it has theoretically an infinite state space, this chain can be simulated.\n",
    "\n",
    "Simulating the chain with options:\n",
    "\n",
    "* 10.0 units of time\n",
    "* no stats collected\n",
    "* no trajectory kept in memory\n",
    "* trajectory printed along the way\n",
    "* increments in times displayed as well"
   ]
  },
  {
   "cell_type": "code",
   "execution_count": 3,
   "id": "69bfc7ed-2519-4c39-b396-c0dbba15ba50",
   "metadata": {
    "execution": {
     "iopub.execute_input": "2025-05-19T21:45:27.973610Z",
     "iopub.status.busy": "2025-05-19T21:45:27.973091Z",
     "iopub.status.idle": "2025-05-19T21:45:27.977366Z",
     "shell.execute_reply": "2025-05-19T21:45:27.977060Z"
    }
   },
   "outputs": [
    {
     "name": "stdout",
     "output_type": "stream",
     "text": [
      "[   0]     0.000000        0   0.000000\n",
      "[   1]     3.373912        1   3.373912\n",
      "[   2]     3.421189        0   0.047277\n",
      "[   3]     4.869436        1   1.448248\n",
      "[   4]     5.627942        2   0.758506\n",
      "[   5]     5.866810        3   0.238867\n",
      "[   6]     6.348972        2   0.482162\n",
      "[   7]     6.482716        1   0.133744\n",
      "[   8]     6.946735        0   0.464019\n",
      "[   9]     7.604426        1   0.657691\n",
      "[  10]     8.506338        0   0.901911\n",
      "[  11]    10.000000        1   1.493662\n"
     ]
    }
   ],
   "source": [
    "simres = mc.SimulateChain( 10.0, stats=False, traj=False, _print=True, withIncrements=True )"
   ]
  },
  {
   "cell_type": "markdown",
   "id": "97085101-6d27-48a6-bd6b-a1a8688368a4",
   "metadata": {},
   "source": [
    "Computing the stationary distribution. It is well-known that this distribution is geometric."
   ]
  },
  {
   "cell_type": "code",
   "execution_count": 4,
   "id": "e71a00ac-1296-4039-95c5-6ddbb92c523c",
   "metadata": {
    "execution": {
     "iopub.execute_input": "2025-05-19T21:45:27.979410Z",
     "iopub.status.busy": "2025-05-19T21:45:27.978875Z",
     "iopub.status.idle": "2025-05-19T21:45:27.985693Z",
     "shell.execute_reply": "2025-05-19T21:45:27.984545Z"
    }
   },
   "outputs": [],
   "source": [
    "stadis = mc.StationaryDistribution()"
   ]
  },
  {
   "cell_type": "code",
   "execution_count": 5,
   "id": "331effbc-b178-44e3-85ca-fc5979ab23e4",
   "metadata": {
    "execution": {
     "iopub.execute_input": "2025-05-19T21:45:27.989429Z",
     "iopub.status.busy": "2025-05-19T21:45:27.988157Z",
     "iopub.status.idle": "2025-05-19T21:45:27.994124Z",
     "shell.execute_reply": "2025-05-19T21:45:27.993652Z"
    }
   },
   "outputs": [
    {
     "name": "stdout",
     "output_type": "stream",
     "text": [
      "Geometric on N with proba      0.5: P(k) = 0.5 x (0.5)^k, k=0..+oo\n",
      "1.0\n",
      "0.5\n",
      "0.25\n",
      "0.03125\n"
     ]
    }
   ],
   "source": [
    "print(stadis)\n",
    "print(stadis.Mean())\n",
    "print(stadis.getProba(0))\n",
    "print(stadis.getProba(1))\n",
    "print(stadis.Ccdf(4))"
   ]
  },
  {
   "cell_type": "markdown",
   "id": "ce0ba46a-d89a-4236-ae21-b15c9dfa43c0",
   "metadata": {},
   "source": [
    "Embedding and Uniformizing.\n",
    "\n",
    "Uniformizing results in another well-known Markov chain."
   ]
  },
  {
   "cell_type": "code",
   "execution_count": 6,
   "id": "10cc93ac-9746-43c9-95cb-174fb1907e2f",
   "metadata": {
    "execution": {
     "iopub.execute_input": "2025-05-19T21:45:27.996904Z",
     "iopub.status.busy": "2025-05-19T21:45:27.996251Z",
     "iopub.status.idle": "2025-05-19T21:45:28.002886Z",
     "shell.execute_reply": "2025-05-19T21:45:28.002368Z"
    }
   },
   "outputs": [
    {
     "name": "stdout",
     "output_type": "stream",
     "text": [
      "Homogeneous1DRandomWalk\n"
     ]
    }
   ],
   "source": [
    "umc = mc.Uniformize()\n",
    "print(umc.className())"
   ]
  },
  {
   "cell_type": "markdown",
   "id": "54ac449c-d522-43ad-9048-ae0b26e6e7e5",
   "metadata": {},
   "source": [
    "However embedding does not result in a standard Markov chain."
   ]
  },
  {
   "cell_type": "code",
   "execution_count": 7,
   "id": "e2cb1293-3a6a-49d1-abef-0ae5f74edff6",
   "metadata": {
    "execution": {
     "iopub.execute_input": "2025-05-19T21:45:28.005683Z",
     "iopub.status.busy": "2025-05-19T21:45:28.005043Z",
     "iopub.status.idle": "2025-05-19T21:45:28.014162Z",
     "shell.execute_reply": "2025-05-19T21:45:28.013527Z"
    }
   },
   "outputs": [
    {
     "name": "stdout",
     "output_type": "stream",
     "text": [
      "Warning in Homogeneous1DBirthDeath::Embed(): no structure available for embedding. null result returned.\n"
     ]
    }
   ],
   "source": [
    "mc.Embed()"
   ]
  },
  {
   "cell_type": "markdown",
   "id": "41a7aad0-3d2d-41c4-92b8-4f47c7b6c771",
   "metadata": {},
   "source": [
    "### Finite-space birth-death proces"
   ]
  },
  {
   "cell_type": "markdown",
   "id": "2147da2e-59c6-45ec-87bf-4f5d9f6e3e37",
   "metadata": {},
   "source": [
    "A birth-death process with 11 states"
   ]
  },
  {
   "cell_type": "code",
   "execution_count": 8,
   "id": "a7c70e0a-a9f7-479d-9efe-0a360a752509",
   "metadata": {
    "execution": {
     "iopub.execute_input": "2025-05-19T21:45:28.018159Z",
     "iopub.status.busy": "2025-05-19T21:45:28.016955Z",
     "iopub.status.idle": "2025-05-19T21:45:28.023716Z",
     "shell.execute_reply": "2025-05-19T21:45:28.022532Z"
    }
   },
   "outputs": [],
   "source": [
    "mcf = mmc.Homogeneous1DBirthDeath( 11, 0.4, 0.8 )"
   ]
  },
  {
   "cell_type": "code",
   "execution_count": 9,
   "id": "e41c8d30-6667-4236-af52-11b8ea86458e",
   "metadata": {
    "execution": {
     "iopub.execute_input": "2025-05-19T21:45:28.026433Z",
     "iopub.status.busy": "2025-05-19T21:45:28.026230Z",
     "iopub.status.idle": "2025-05-19T21:45:28.029501Z",
     "shell.execute_reply": "2025-05-19T21:45:28.028811Z"
    }
   },
   "outputs": [],
   "source": [
    "stadisf = mcf.StationaryDistribution()"
   ]
  },
  {
   "cell_type": "code",
   "execution_count": 10,
   "id": "67853fce-1c3a-4cdb-98fe-8c382666ce19",
   "metadata": {
    "execution": {
     "iopub.execute_input": "2025-05-19T21:45:28.031550Z",
     "iopub.status.busy": "2025-05-19T21:45:28.031376Z",
     "iopub.status.idle": "2025-05-19T21:45:28.034919Z",
     "shell.execute_reply": "2025-05-19T21:45:28.034201Z"
    }
   },
   "outputs": [
    {
     "name": "stdout",
     "output_type": "stream",
     "text": [
      "Discrete distribution values { 0  1  2  3  4  5  6  7  8  9  10  } probas {   0.5002   0.2501   0.1251  0.06253  0.03127  0.01563 0.007816 0.003908 0.001954 0.000977 0.0004885 }\n"
     ]
    }
   ],
   "source": [
    "print(stadisf)"
   ]
  },
  {
   "cell_type": "code",
   "execution_count": 11,
   "id": "d7caff48-bdee-47ae-905d-77a0ee629990",
   "metadata": {
    "execution": {
     "iopub.execute_input": "2025-05-19T21:45:28.036711Z",
     "iopub.status.busy": "2025-05-19T21:45:28.036555Z",
     "iopub.status.idle": "2025-05-19T21:45:28.039703Z",
     "shell.execute_reply": "2025-05-19T21:45:28.039194Z"
    }
   },
   "outputs": [
    {
     "name": "stdout",
     "output_type": "stream",
     "text": [
      "0.9946262823644356\n",
      "0.5002442598925256\n",
      "0.2501221299462628\n",
      "0.030776746458231585\n"
     ]
    }
   ],
   "source": [
    "print(stadisf.Mean())\n",
    "print(stadisf.getProba(0))\n",
    "print(stadisf.getProba(1))\n",
    "print(stadisf.Ccdf(4))"
   ]
  },
  {
   "cell_type": "markdown",
   "id": "f506f910-47a1-4da4-9b91-3af78714d24b",
   "metadata": {},
   "source": [
    "Investigating hitting times.\n",
    "\n",
    "First set up the hitting set. Here, states 3 and 7 are in the set: \\[ - - - X - - - X - - - \\]"
   ]
  },
  {
   "cell_type": "code",
   "execution_count": 12,
   "id": "618751bc-9b9b-4dbb-8a4e-3771fd00522f",
   "metadata": {
    "execution": {
     "iopub.execute_input": "2025-05-19T21:45:28.041558Z",
     "iopub.status.busy": "2025-05-19T21:45:28.041130Z",
     "iopub.status.idle": "2025-05-19T21:45:28.044396Z",
     "shell.execute_reply": "2025-05-19T21:45:28.043836Z"
    }
   },
   "outputs": [
    {
     "name": "stdout",
     "output_type": "stream",
     "text": [
      "[False False False  True False False False  True False False False]\n"
     ]
    }
   ],
   "source": [
    "hitSet = np.zeros( [11], dtype=bool)\n",
    "hitSet[3] = True\n",
    "hitSet[7] = True\n",
    "print(hitSet)"
   ]
  },
  {
   "cell_type": "markdown",
   "id": "51a6f0af-f06d-44e3-bc79-a248deec3515",
   "metadata": {},
   "source": [
    "Average hitting times are computed (numerically in this case)."
   ]
  },
  {
   "cell_type": "code",
   "execution_count": 13,
   "id": "5fa369da-28c1-4725-8b9a-b458f25dee68",
   "metadata": {
    "execution": {
     "iopub.execute_input": "2025-05-19T21:45:28.046092Z",
     "iopub.status.busy": "2025-05-19T21:45:28.045594Z",
     "iopub.status.idle": "2025-05-19T21:45:28.049014Z",
     "shell.execute_reply": "2025-05-19T21:45:28.048409Z"
    }
   },
   "outputs": [
    {
     "name": "stdout",
     "output_type": "stream",
     "text": [
      "[27.5        25.         17.5         0.          1.83333333  3.\n",
      "  2.83333333  0.          2.1875      4.0625      5.3125    ]\n"
     ]
    }
   ],
   "source": [
    "avg = mcf.AverageHittingTime( hitSet )\n",
    "print(avg)"
   ]
  },
  {
   "cell_type": "markdown",
   "id": "5a554659-bb32-4971-bf9b-42c69924c8fd",
   "metadata": {},
   "source": [
    "Also available, joint expected hitting time and hitting state: E( tau * ind(X(tau)=s) )"
   ]
  },
  {
   "cell_type": "code",
   "execution_count": 14,
   "id": "9d10d81f-f833-4729-b442-c541389e6e74",
   "metadata": {
    "execution": {
     "iopub.execute_input": "2025-05-19T21:45:28.051115Z",
     "iopub.status.busy": "2025-05-19T21:45:28.050577Z",
     "iopub.status.idle": "2025-05-19T21:45:28.054327Z",
     "shell.execute_reply": "2025-05-19T21:45:28.053760Z"
    }
   },
   "outputs": [
    {
     "name": "stdout",
     "output_type": "stream",
     "text": [
      "[[ 0.         27.5         0.          0.          0.          0.        ]\n",
      " [ 0.         25.          0.          0.          0.          0.        ]\n",
      " [ 0.         17.5         0.          0.          0.          0.        ]\n",
      " [ 0.          0.          0.          0.          0.          0.        ]\n",
      " [ 0.          1.57777778  0.          0.          0.          0.25555556]\n",
      " [ 0.          2.4         0.          0.          0.          0.6       ]\n",
      " [ 0.          2.04444444  0.          0.          0.          0.78888889]\n",
      " [ 0.          0.          0.          0.          0.          0.        ]\n",
      " [ 0.          0.          0.          0.          0.          2.1875    ]\n",
      " [ 0.          0.          0.          0.          0.          4.0625    ]]\n"
     ]
    }
   ],
   "source": [
    "avgcon = mcf.AverageHittingTime_Conditional( hitSet )\n",
    "print( avgcon[0:10,2:8] )"
   ]
  },
  {
   "cell_type": "markdown",
   "id": "fa8df345-8cd3-421f-b886-667773463af2",
   "metadata": {},
   "source": [
    "Also available: simulation of hitting times."
   ]
  },
  {
   "cell_type": "code",
   "execution_count": 15,
   "id": "cc712ebe-3bb8-4766-ab5a-fb8f44e032f6",
   "metadata": {
    "execution": {
     "iopub.execute_input": "2025-05-19T21:45:28.056054Z",
     "iopub.status.busy": "2025-05-19T21:45:28.055709Z",
     "iopub.status.idle": "2025-05-19T21:45:28.058377Z",
     "shell.execute_reply": "2025-05-19T21:45:28.057894Z"
    }
   },
   "outputs": [],
   "source": [
    "simres = mcf.SimulateHittingTime( 0, hitSet, 20, 10000 )"
   ]
  },
  {
   "cell_type": "code",
   "execution_count": 16,
   "id": "feaf8431-0feb-40f4-8126-bbc618dca0b1",
   "metadata": {
    "execution": {
     "iopub.execute_input": "2025-05-19T21:45:28.060150Z",
     "iopub.status.busy": "2025-05-19T21:45:28.059627Z",
     "iopub.status.idle": "2025-05-19T21:45:28.062624Z",
     "shell.execute_reply": "2025-05-19T21:45:28.062019Z"
    }
   },
   "outputs": [
    {
     "name": "stdout",
     "output_type": "stream",
     "text": [
      "# Simulation result\n",
      "# Time type: continuous\n",
      "# Keeps a trajectory of size 20\n",
      "# DT trajectory size: 0\n",
      "# CT trajectory size: 20\n",
      "# Last state: 0\n",
      "# Last time:  12.269390\n"
     ]
    }
   ],
   "source": [
    "simres.Diagnose()"
   ]
  },
  {
   "cell_type": "code",
   "execution_count": 17,
   "id": "222c671a-1f71-43aa-809d-28725e915589",
   "metadata": {
    "execution": {
     "iopub.execute_input": "2025-05-19T21:45:28.064068Z",
     "iopub.status.busy": "2025-05-19T21:45:28.063826Z",
     "iopub.status.idle": "2025-05-19T21:45:28.067169Z",
     "shell.execute_reply": "2025-05-19T21:45:28.066282Z"
    }
   },
   "outputs": [
    {
     "name": "stdout",
     "output_type": "stream",
     "text": [
      "[27.32613419  2.44568247  1.05618749  7.25109476  4.47121101 10.19021112\n",
      " 92.8707826   6.30537834 16.21055573 38.51771831 55.36265299  5.69199989\n",
      "  7.63564756 26.88902048  4.51929826 26.23428614  6.88354048 15.6616673\n",
      " 29.28704501 12.26938997]\n"
     ]
    }
   ],
   "source": [
    "print(simres.CT_dates())"
   ]
  },
  {
   "cell_type": "markdown",
   "id": "3bd03d99-ddb1-4a2f-b5a6-8694e0cddabd",
   "metadata": {},
   "source": [
    "### Multidimensional birth-death"
   ]
  },
  {
   "cell_type": "markdown",
   "id": "76215857-b689-49c6-a835-9c2795116686",
   "metadata": {},
   "source": [
    "Consider a 3-d birth-death process on a 4 x 4 x 4 box.\n",
    "\n",
    "The constructor to `HomogeneousMultiDBirthDeath` has arguments: sizes, birth rates, death rates."
   ]
  },
  {
   "cell_type": "code",
   "execution_count": 18,
   "id": "df9dc48d-92ff-4b42-82d7-4ac064878031",
   "metadata": {
    "execution": {
     "iopub.execute_input": "2025-05-19T21:45:28.069011Z",
     "iopub.status.busy": "2025-05-19T21:45:28.068583Z",
     "iopub.status.idle": "2025-05-19T21:45:28.071669Z",
     "shell.execute_reply": "2025-05-19T21:45:28.071119Z"
    }
   },
   "outputs": [],
   "source": [
    "mdbd = mmc.HomogeneousMultiDBirthDeath( [ 4, 4, 4 ], [ 1.0, 1.0, 1.0], [ 0.8, 0.8, 0.2 ] )"
   ]
  },
  {
   "cell_type": "code",
   "execution_count": 19,
   "id": "1e1af7c0-9409-4126-aba1-7882bdfa154d",
   "metadata": {
    "execution": {
     "iopub.execute_input": "2025-05-19T21:45:28.073511Z",
     "iopub.status.busy": "2025-05-19T21:45:28.073056Z",
     "iopub.status.idle": "2025-05-19T21:45:28.076536Z",
     "shell.execute_reply": "2025-05-19T21:45:28.075865Z"
    }
   },
   "outputs": [
    {
     "name": "stdout",
     "output_type": "stream",
     "text": [
      "[   0]     0.000000        0   0.000000 (   0,   0,   0)\n",
      "[   1]     1.057601       16   1.057601 (   1,   0,   0)\n",
      "[   2]     1.407539       20   0.349938 (   1,   1,   0)\n",
      "[   3]     1.853709       16   0.446170 (   1,   0,   0)\n",
      "[   4]     2.339213        0   0.485504 (   0,   0,   0)\n",
      "[   5]     2.528779        4   0.189566 (   0,   1,   0)\n",
      "[   6]     2.578830        0   0.050051 (   0,   0,   0)\n",
      "[   7]     3.007722       16   0.428892 (   1,   0,   0)\n",
      "[   8]     3.337176       17   0.329454 (   1,   0,   1)\n",
      "[   9]     4.380857       21   1.043680 (   1,   1,   1)\n",
      "[  10]     5.035321       22   0.654465 (   1,   1,   2)\n",
      "[  11]     5.055443       23   0.020121 (   1,   1,   3)\n",
      "[  12]     5.611569       27   0.556127 (   1,   2,   3)\n",
      "[  13]     5.679364       23   0.067794 (   1,   1,   3)\n",
      "[  14]     5.841802        7   0.162438 (   0,   1,   3)\n",
      "[  15]     6.504515        6   0.662713 (   0,   1,   2)\n",
      "[  16]     6.778746        2   0.274231 (   0,   0,   2)\n",
      "[  17]     6.796865        3   "
     ]
    },
    {
     "name": "stdout",
     "output_type": "stream",
     "text": [
      "0.018119 (   0,   0,   3)\n",
      "[  18]     7.182389       19   0.385524 (   1,   0,   3)\n",
      "[  19]     7.454535        3   0.272146 (   0,   0,   3)\n",
      "[  20]     8.032846       19   0.578311 (   1,   0,   3)\n",
      "[  21]     8.372880       23   0.340034 (   1,   1,   3)\n",
      "[  22]     8.455506       27   0.082626 (   1,   2,   3)\n",
      "[  23]     8.601174       26   0.145668 (   1,   2,   2)\n",
      "[  24]     8.631567       27   0.030393 (   1,   2,   3)\n",
      "[  25]     9.080563       43   0.448996 (   2,   2,   3)\n",
      "[  26]     9.116700       47   0.036137 (   2,   3,   3)\n",
      "[  27]     9.245999       43   0.129299 (   2,   2,   3)\n",
      "[  28]     9.648527       47   0.402528 (   2,   3,   3)\n",
      "[  29]     9.862576       31   0.214049 (   1,   3,   3)\n",
      "[  30]    10.000000       15   0.137424 (   0,   3,   3)\n"
     ]
    }
   ],
   "source": [
    "simres = mdbd.SimulateChain( 10.0, stats=True, traj=False, withIncrements=True, _print=True )"
   ]
  },
  {
   "cell_type": "markdown",
   "id": "213986ab-7ed3-486d-9670-29ed3e5b4685",
   "metadata": {},
   "source": [
    "Statistics can be performed on this trajectory also"
   ]
  },
  {
   "cell_type": "code",
   "execution_count": 20,
   "id": "dbff9da0-9bc1-4afd-a49b-69fdca4fecc2",
   "metadata": {
    "execution": {
     "iopub.execute_input": "2025-05-19T21:45:28.078248Z",
     "iopub.status.busy": "2025-05-19T21:45:28.077970Z",
     "iopub.status.idle": "2025-05-19T21:45:28.081624Z",
     "shell.execute_reply": "2025-05-19T21:45:28.080862Z"
    }
   },
   "outputs": [
    {
     "name": "stdout",
     "output_type": "stream",
     "text": [
      "# State   0:   cum time =     1.676059   ( 16.7606%)\n",
      "# State   1:   cum time =     0.000000   (  0.0000%)\n",
      "# State   2:   cum time =     0.018119   (  0.1812%)\n",
      "# State   3:   cum time =     0.963835   (  9.6383%)\n",
      "# State   4:   cum time =     0.050051   (  0.5005%)\n",
      "# State   5:   cum time =     0.000000   (  0.0000%)\n",
      "# State   6:   cum time =     0.274231   (  2.7423%)\n",
      "# State   7:   cum time =     0.662713   (  6.6271%)\n",
      "# State   8:   cum time =     0.000000   (  0.0000%)\n",
      "# State   9:   cum time =     0.000000   (  0.0000%)\n",
      "# State  10:   cum time =     0.000000   (  0.0000%)\n",
      "# State  11:   cum time =     0.000000   (  0.0000%)\n",
      "# State  12:   cum time =     0.000000   (  0.0000%)\n",
      "# State  13:   cum time =     0.000000   (  0.0000%)\n",
      "# State  14:   cum time =     0.000000   (  0.0000%)\n",
      "# State  15:   cum time =     0.000000   (  0.0000%)\n",
      "# State  16:   cum time =     1.164896   ( 11.6490%)\n",
      "# State  17:   cum time =     1.043680   ( 10.4368%)\n",
      "# State  18:   cum time =     0.000000   (  0.0000%)\n",
      "# State  19:   cum time =     0.612180   (  6.1218%)\n",
      "# State  20:   cum time =     0.446170   (  4.4617%)\n",
      "# State  21:   cum time =     0.654465   (  6.5446%)\n",
      "# State  22:   cum time =     0.020121   (  0.2012%)\n",
      "# State  23:   cum time =     0.801191   (  8.0119%)\n",
      "# State  24:   cum time =     0.000000   (  0.0000%)\n",
      "# State  25:   cum time =     0.000000   (  0.0000%)\n",
      "# State  26:   cum time =     0.030393   (  0.3039%)\n",
      "# State  27:   cum time =     0.662459   (  6.6246%)\n",
      "# State  28:   cum time =     0.000000   (  0.0000%)\n",
      "# State  29:   cum time =     0.000000   (  0.0000%)\n",
      "# State  30:   cum time =     0.000000   (  0.0000%)\n",
      "# State  31:   cum time =     0.137424   (  1.3742%)\n",
      "# State  32:   cum time =     0.000000   (  0.0000%)\n",
      "# State  33:   cum time =     0.000000   (  0.0000%)\n",
      "# State  34:   cum time =     0.000000   (  0.0000%)\n",
      "# State  35:   cum time =     0.000000   (  0.0000%)\n",
      "# State  36:   cum time =     0.000000   (  0.0000%)\n",
      "# State  37:   cum time =     0.000000   (  0.0000%)\n",
      "# State  38:   cum time =     0.000000   (  0.0000%)\n",
      "# State  39:   cum time =     0.000000   (  0.0000%)\n",
      "# State  40:   cum time =     0.000000   (  0.0000%)\n",
      "# State  41:   cum time =     0.000000   (  0.0000%)\n",
      "# State  42:   cum time =     0.000000   (  0.0000%)\n",
      "# State  43:   cum time =     0.438664   (  4.3866%)\n",
      "# State  44:   cum time =     0.000000   (  0.0000%)\n",
      "# State  45:   cum time =     0.000000   (  0.0000%)\n",
      "# State  46:   cum time =     0.000000   (  0.0000%)\n",
      "# State  47:   cum time =     0.343348   (  3.4335%)\n",
      "# State  48:   cum time =     0.000000   (  0.0000%)\n",
      "# State  49:   cum time =     0.000000   (  0.0000%)\n",
      "# State  50:   cum time =     0.000000   (  0.0000%)\n",
      "# State  51:   cum time =     0.000000   (  0.0000%)\n",
      "# State  52:   cum time =     0.000000   (  0.0000%)\n",
      "# State  53:   cum time =     0.000000   (  0.0000%)\n",
      "# State  54:   cum time =     0.000000   (  0.0000%)\n",
      "# State  55:   cum time =     0.000000   (  0.0000%)\n",
      "# State  56:   cum time =     0.000000   (  0.0000%)\n",
      "# State  57:   cum time =     0.000000   (  0.0000%)\n",
      "# State  58:   cum time =     0.000000   (  0.0000%)\n",
      "# State  59:   cum time =     0.000000   (  0.0000%)\n",
      "# State  60:   cum time =     0."
     ]
    },
    {
     "name": "stdout",
     "output_type": "stream",
     "text": [
      "000000   (  0.0000%)\n",
      "# State  61:   cum time =     0.000000   (  0.0000%)\n",
      "# State  62:   cum time =     0.000000   (  0.0000%)\n",
      "# State  63:   cum time =     0.000000   (  0.0000%)\n"
     ]
    }
   ],
   "source": [
    "sd = simres.Distribution()"
   ]
  },
  {
   "cell_type": "markdown",
   "id": "66830260-ade0-4d24-bba9-848622a63283",
   "metadata": {},
   "source": [
    "## Arrival processes"
   ]
  },
  {
   "cell_type": "markdown",
   "id": "7e220dae-1ca8-4e5e-977d-65bb8290215c",
   "metadata": {},
   "source": [
    "There are two pure arrival processes in `Marmote`: `PoissonProcess` and `MMPP`."
   ]
  },
  {
   "cell_type": "code",
   "execution_count": 21,
   "id": "3d2ecdce-02fd-4556-92a5-05fa469f7016",
   "metadata": {
    "execution": {
     "iopub.execute_input": "2025-05-19T21:45:28.083618Z",
     "iopub.status.busy": "2025-05-19T21:45:28.083392Z",
     "iopub.status.idle": "2025-05-19T21:45:28.087071Z",
     "shell.execute_reply": "2025-05-19T21:45:28.086419Z"
    }
   },
   "outputs": [],
   "source": [
    "poi = mmc.PoissonProcess( 1.0 )"
   ]
  },
  {
   "cell_type": "code",
   "execution_count": 22,
   "id": "a3c4339d-2d7b-4bf3-98dc-7dffb10a1eba",
   "metadata": {
    "execution": {
     "iopub.execute_input": "2025-05-19T21:45:28.088993Z",
     "iopub.status.busy": "2025-05-19T21:45:28.088818Z",
     "iopub.status.idle": "2025-05-19T21:45:28.092745Z",
     "shell.execute_reply": "2025-05-19T21:45:28.092107Z"
    }
   },
   "outputs": [
    {
     "name": "stdout",
     "output_type": "stream",
     "text": [
      "[   0]     0.000000        0   0.000000\n",
      "[   1]     1.191349        1   1.191349\n",
      "[   2]     1.601412        2   0.410064\n",
      "[   3]     1.871647        3   0.270235\n",
      "[   4]     2.701199        4   0.829552\n",
      "[   5]     3.433952        5   0.732753\n",
      "[   6]     3.567857        6   0.133904\n",
      "[   7]     5.128728        7   1.560871\n",
      "[   8]     5.624811        8   0.496083\n",
      "[   9]     6.024166        9   0.399354\n",
      "[  10]     7.399286       10   1.375120\n",
      "[  11]     8.297379       11   0.898093\n",
      "[  12]     8.968802       12   0.671423\n",
      "[  13]     9.495159       13   0.526357\n",
      "[  14]    10.000000       14   0.504841\n"
     ]
    }
   ],
   "source": [
    "simres = poi.SimulateChain( 10.0, False, True, True )"
   ]
  },
  {
   "cell_type": "markdown",
   "id": "861be9a1-feab-43df-a4f8-bfd52c3f3311",
   "metadata": {},
   "source": [
    "Creating an MMPP with modulating chain the 8-state birth-death of this lesson. Arrival rates are 0 except in states 1 and 7."
   ]
  },
  {
   "cell_type": "code",
   "execution_count": 23,
   "id": "481cab27-0053-4ad5-9a57-248db93a9a26",
   "metadata": {
    "execution": {
     "iopub.execute_input": "2025-05-19T21:45:28.094576Z",
     "iopub.status.busy": "2025-05-19T21:45:28.094246Z",
     "iopub.status.idle": "2025-05-19T21:45:28.096905Z",
     "shell.execute_reply": "2025-05-19T21:45:28.096469Z"
    }
   },
   "outputs": [],
   "source": [
    "mmpp = mmc.MMPP( mcf.generator(), [ 0.0, 1.0, 0.0, 0.0, 0.0, 0.0, 0.0, 1.0, 0.0, 0.0, 0.0 ] )"
   ]
  },
  {
   "cell_type": "markdown",
   "id": "0f052a3d-50db-4e95-a36a-a17dd14070ec",
   "metadata": {},
   "source": [
    "Simulation stating from 0 arrivals and state 0 of the environment. \n",
    "\n",
    "Coding of 'state' trajectory (experimental) is 2*nb of arrivals + current state of the environment."
   ]
  },
  {
   "cell_type": "code",
   "execution_count": 24,
   "id": "645dde7c-6631-4b45-9c4c-24607298f678",
   "metadata": {
    "execution": {
     "iopub.execute_input": "2025-05-19T21:45:28.098961Z",
     "iopub.status.busy": "2025-05-19T21:45:28.098185Z",
     "iopub.status.idle": "2025-05-19T21:45:28.102879Z",
     "shell.execute_reply": "2025-05-19T21:45:28.101775Z"
    }
   },
   "outputs": [
    {
     "name": "stdout",
     "output_type": "stream",
     "text": [
      "[   0]     0.000000        0   0.000000\n",
      "[   1]     5.661661        1   5.661661\n",
      "[   2]     5.691483        0   0.029821\n",
      "[   3]     5.888489        1   0.197006\n",
      "[   4]     6.613527        0   0.725039\n",
      "[   5]     9.433967        1   2.820439\n",
      "[   6]     9.774648        0   0.340681\n",
      "[   7]    10.000000        1   0.225352\n"
     ]
    }
   ],
   "source": [
    "simres = mmpp.SimulateChain( 10.0, marmotecore.DiracDistribution(0.0), marmotecore.DiracDistribution(0.0), False, True, True )"
   ]
  }
 ],
 "metadata": {
  "kernelspec": {
   "display_name": "Python 3 (ipykernel)",
   "language": "python",
   "name": "python3"
  },
  "language_info": {
   "codemirror_mode": {
    "name": "ipython",
    "version": 3
   },
   "file_extension": ".py",
   "mimetype": "text/x-python",
   "name": "python",
   "nbconvert_exporter": "python",
   "pygments_lexer": "ipython3",
   "version": "3.11.11"
  }
 },
 "nbformat": 4,
 "nbformat_minor": 5
}
