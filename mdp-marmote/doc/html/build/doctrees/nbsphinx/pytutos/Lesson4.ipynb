{
 "cells": [
  {
   "cell_type": "markdown",
   "id": "6aa6aecc-a5a5-41ef-93b9-60b344d339d4",
   "metadata": {},
   "source": [
    "# Lesson 4: working with Distributions"
   ]
  },
  {
   "cell_type": "code",
   "execution_count": 1,
   "id": "fd7c132f-2fed-40ae-9e33-1288b795818a",
   "metadata": {
    "execution": {
     "iopub.execute_input": "2025-06-10T19:32:43.312983Z",
     "iopub.status.busy": "2025-06-10T19:32:43.312745Z",
     "iopub.status.idle": "2025-06-10T19:32:43.499320Z",
     "shell.execute_reply": "2025-06-10T19:32:43.498626Z"
    }
   },
   "outputs": [],
   "source": [
    "import marmote.core as marmotecore\n",
    "import marmote.markovchain as mmc\n",
    "import numpy as np"
   ]
  },
  {
   "cell_type": "markdown",
   "id": "b90e338e-b8ca-4338-88dd-62d675f572d4",
   "metadata": {},
   "source": [
    "Distributions are everywhere in `Marmote`: as inputs and as outputs of many procedures.\n",
    "\n",
    "The complete hierarchy of distributions is currently:\n",
    "\n",
    "* `Distribution`\n",
    "  * `DiscreteDistribution`\n",
    "    * `DiracDistribution`\n",
    "    * `BernoulliDistribution`\n",
    "    * `UniformDiscreteDistribution`\n",
    "    * `PoissonDistribution`\n",
    "    * `ShiftedGeometricDistribution`\n",
    "      * `GeometricDistribtion`\n",
    "    * `PhaseTypeDiscreteDistribution`\n",
    "  * `GammaDistribution`\n",
    "    * `ErlangDistribution`\n",
    "      * `ExponentialDistribution`\n",
    "  * `GaussianDistribution`\n",
    "  * `UniformDistribution`\n",
    "  * `PhaseTypeDistribution`"
   ]
  },
  {
   "cell_type": "markdown",
   "id": "04e73df8-ecab-4149-ac14-252ab4e432f7",
   "metadata": {},
   "source": [
    "## Common Features"
   ]
  },
  {
   "cell_type": "markdown",
   "id": "276c6a90-cfab-495e-b059-d823d7319c18",
   "metadata": {},
   "source": [
    "### Statistical information"
   ]
  },
  {
   "cell_type": "markdown",
   "id": "346b7a99-6df3-496a-b3dc-eaf64fd7aedd",
   "metadata": {},
   "source": [
    "`Distribution` objects have all usual statistical methods, plus Laplace transform ones useful in some stochastic modeling.\n",
    "\n",
    "The following code is self-explanatory."
   ]
  },
  {
   "cell_type": "code",
   "execution_count": 2,
   "id": "02336e93-ba38-47af-8db1-7c87df29eec4",
   "metadata": {
    "execution": {
     "iopub.execute_input": "2025-06-10T19:32:43.501762Z",
     "iopub.status.busy": "2025-06-10T19:32:43.501491Z",
     "iopub.status.idle": "2025-06-10T19:32:43.507621Z",
     "shell.execute_reply": "2025-06-10T19:32:43.506860Z"
    }
   },
   "outputs": [
    {
     "name": "stdout",
     "output_type": "stream",
     "text": [
      "UniformDistribution\n",
      "7.0\n",
      "0.14285714285714285\n",
      "3.0\n",
      "0.3333333333333333\n",
      "0.6666666666666667\n",
      "0.9325336852727276\n",
      "-6.4997614647675315\n"
     ]
    }
   ],
   "source": [
    "udis = marmotecore.UniformDistribution( 4, 10 )\n",
    "print( udis.className() )\n",
    "print( udis.Mean() )\n",
    "print( udis.Rate() )         ## Rate is the inverse of Mean\n",
    "print( udis.Variance() )\n",
    "print( udis.Cdf(6.0) )\n",
    "print( udis.Ccdf(6.0) )\n",
    "print( udis.Laplace(0.01) )  ## Laplace transform (only at real values)\n",
    "print( udis.DLaplace(0.01) ) ## DLaplace computes the derivative of the Laplace transform"
   ]
  },
  {
   "cell_type": "code",
   "execution_count": 3,
   "id": "244ae83c-89e8-4129-8e03-ecf5ed62873f",
   "metadata": {
    "execution": {
     "iopub.execute_input": "2025-06-10T19:32:43.509786Z",
     "iopub.status.busy": "2025-06-10T19:32:43.509578Z",
     "iopub.status.idle": "2025-06-10T19:32:43.514819Z",
     "shell.execute_reply": "2025-06-10T19:32:43.513612Z"
    }
   },
   "outputs": [
    {
     "name": "stdout",
     "output_type": "stream",
     "text": [
      "UniformDiscreteDistribution\n",
      "7.0\n",
      "0.14285714285714285\n",
      "4.0\n",
      "0.2857142857142857\n",
      "0.7142857142857143\n",
      "0.9325803095481554\n",
      "-6.490762062693861\n"
     ]
    }
   ],
   "source": [
    "uddis = marmotecore.UniformDiscreteDistribution( 4, 10 )\n",
    "print( uddis.className() )\n",
    "print( uddis.Mean() )\n",
    "print( uddis.Rate() )\n",
    "print( uddis.Variance() )\n",
    "print( uddis.Cdf(6.0) )\n",
    "print( uddis.Ccdf(6.0) )\n",
    "print( uddis.Laplace(0.01) )\n",
    "print( uddis.DLaplace(0.01) )"
   ]
  },
  {
   "cell_type": "code",
   "execution_count": 4,
   "id": "18a87a8e-5e66-49f1-992a-de11ac39bdbf",
   "metadata": {
    "execution": {
     "iopub.execute_input": "2025-06-10T19:32:43.516997Z",
     "iopub.status.busy": "2025-06-10T19:32:43.516805Z",
     "iopub.status.idle": "2025-06-10T19:32:43.521699Z",
     "shell.execute_reply": "2025-06-10T19:32:43.520945Z"
    }
   },
   "outputs": [
    {
     "name": "stdout",
     "output_type": "stream",
     "text": [
      "4.0\n",
      "0.25\n",
      "16.0\n",
      "0.7768698398515702\n",
      "0.2231301601484298\n",
      "1.0\n",
      "-4.0\n"
     ]
    }
   ],
   "source": [
    "edis = marmotecore.ExponentialDistribution( 4.0 )\n",
    "print( edis.Mean() )\n",
    "print( edis.Rate() )\n",
    "print( edis.Variance() )\n",
    "print( edis.Cdf(6.0) )\n",
    "print( edis.Ccdf(6.0) )\n",
    "print( edis.Laplace(0.0) )\n",
    "print( edis.DLaplace(0.0) )"
   ]
  },
  {
   "cell_type": "markdown",
   "id": "d0d24053-517d-4ae9-a309-84df11e3595a",
   "metadata": {},
   "source": [
    "### Some structural information"
   ]
  },
  {
   "cell_type": "markdown",
   "id": "cbc678f7-d066-4e78-b678-9aa0feefe8b9",
   "metadata": {},
   "source": [
    "Some properties can be tested (mostly useful for `Marmote` developpers)."
   ]
  },
  {
   "cell_type": "code",
   "execution_count": 5,
   "id": "7df662fe-8d03-4879-96e4-0531ba7f5ed0",
   "metadata": {
    "execution": {
     "iopub.execute_input": "2025-06-10T19:32:43.523816Z",
     "iopub.status.busy": "2025-06-10T19:32:43.523647Z",
     "iopub.status.idle": "2025-06-10T19:32:43.528299Z",
     "shell.execute_reply": "2025-06-10T19:32:43.527553Z"
    }
   },
   "outputs": [
    {
     "name": "stdout",
     "output_type": "stream",
     "text": [
      "False\n",
      "True\n",
      "True\n",
      "True\n"
     ]
    }
   ],
   "source": [
    "print( edis.HasProperty(\"integerValued\") )\n",
    "print( edis.HasProperty(\"continuous\"))\n",
    "print( uddis.HasProperty(\"integerValued\") )\n",
    "print( uddis.HasProperty(\"compactSupport\") )"
   ]
  },
  {
   "cell_type": "markdown",
   "id": "06e56c7d-e5db-490c-a324-b3ebe6ea71b0",
   "metadata": {},
   "source": [
    "### Sampling"
   ]
  },
  {
   "cell_type": "markdown",
   "id": "7ff1d74e-8adf-4e81-9f92-8f53d541bb87",
   "metadata": {},
   "source": [
    "Distributions can be sampled."
   ]
  },
  {
   "cell_type": "code",
   "execution_count": 6,
   "id": "47cf53d2-7e6e-4310-9ac2-4bbe1ae0ad49",
   "metadata": {
    "execution": {
     "iopub.execute_input": "2025-06-10T19:32:43.530208Z",
     "iopub.status.busy": "2025-06-10T19:32:43.530031Z",
     "iopub.status.idle": "2025-06-10T19:32:43.533859Z",
     "shell.execute_reply": "2025-06-10T19:32:43.533117Z"
    }
   },
   "outputs": [
    {
     "name": "stdout",
     "output_type": "stream",
     "text": [
      "6.7478234724747015\n",
      "0.2836608852383009\n",
      "0.21473993099798133\n",
      "2.8964953963664555\n",
      "\n",
      "5.923218618268661\n",
      "4.926560053597672\n",
      "8.193176136172351\n",
      "4.719703264002601\n",
      "\n",
      "7.0\n",
      "8.0\n",
      "9.0\n",
      "8.0\n"
     ]
    }
   ],
   "source": [
    "for i in range(4):\n",
    "    print( edis.Sample() )\n",
    "print()\n",
    "for i in range(4):\n",
    "    print( udis.Sample() )\n",
    "print()\n",
    "for i in range(4):\n",
    "    print( uddis.Sample() )"
   ]
  },
  {
   "cell_type": "markdown",
   "id": "81d5fd21-ce66-4d3f-81b3-1271a0c55484",
   "metadata": {},
   "source": [
    "## Some distributions can be manipulated"
   ]
  },
  {
   "cell_type": "markdown",
   "id": "20ae7368-b6b9-431a-8d41-349378986202",
   "metadata": {},
   "source": [
    "Rescaling is possible for some families of distributions."
   ]
  },
  {
   "cell_type": "code",
   "execution_count": 7,
   "id": "78894d44-32e4-490a-a4c5-24a14b2cf9f8",
   "metadata": {
    "execution": {
     "iopub.execute_input": "2025-06-10T19:32:43.535703Z",
     "iopub.status.busy": "2025-06-10T19:32:43.535530Z",
     "iopub.status.idle": "2025-06-10T19:32:43.539565Z",
     "shell.execute_reply": "2025-06-10T19:32:43.538640Z"
    }
   },
   "outputs": [
    {
     "name": "stdout",
     "output_type": "stream",
     "text": [
      "Uniform distribution on [4,10]\n",
      "Uniform distribution on [2,5]\n"
     ]
    }
   ],
   "source": [
    "print( udis )\n",
    "print( udis.Rescale( 0.5 ) )"
   ]
  },
  {
   "cell_type": "code",
   "execution_count": 8,
   "id": "772a1a18-9da5-4b33-879e-33ecf05ad363",
   "metadata": {
    "execution": {
     "iopub.execute_input": "2025-06-10T19:32:43.541707Z",
     "iopub.status.busy": "2025-06-10T19:32:43.541531Z",
     "iopub.status.idle": "2025-06-10T19:32:43.546514Z",
     "shell.execute_reply": "2025-06-10T19:32:43.545552Z"
    }
   },
   "outputs": [
    {
     "name": "stdout",
     "output_type": "stream",
     "text": [
      "Exponential distribution with mean 4\n",
      "Exponential distribution with mean 20\n"
     ]
    }
   ],
   "source": [
    "print( edis )\n",
    "print( edis.Rescale( 5.0 ) )"
   ]
  },
  {
   "cell_type": "code",
   "execution_count": 9,
   "id": "c2369e61-9877-4b14-91d0-887b96010df7",
   "metadata": {
    "execution": {
     "iopub.execute_input": "2025-06-10T19:32:43.548478Z",
     "iopub.status.busy": "2025-06-10T19:32:43.548311Z",
     "iopub.status.idle": "2025-06-10T19:32:43.553024Z",
     "shell.execute_reply": "2025-06-10T19:32:43.552279Z"
    }
   },
   "outputs": [
    {
     "name": "stdout",
     "output_type": "stream",
     "text": [
      "Discrete distribution values { 3.4 4.5 6.7 8.9 } probas {      0.1      0.2      0.3      0.4 }\n",
      "Discrete distribution values { 34 45 67 89 } probas {      0.1      0.2      0.3      0.4 }\n"
     ]
    }
   ],
   "source": [
    "didis = marmotecore.DiscreteDistribution( [ 3.4, 4.5, 6.7, 8.9 ], [ 0.1, 0.2, 0.3, 0.4 ] )\n",
    "print( didis )\n",
    "print( didis.Rescale(10.0) )"
   ]
  },
  {
   "cell_type": "markdown",
   "id": "cc4646f2-b5f1-4446-a506-290c857edd68",
   "metadata": {},
   "source": [
    "But rescaling does not work for all distributions..."
   ]
  },
  {
   "cell_type": "code",
   "execution_count": 10,
   "id": "702a1e7f-4018-419d-846d-c35d6f36af59",
   "metadata": {
    "execution": {
     "iopub.execute_input": "2025-06-10T19:32:43.554928Z",
     "iopub.status.busy": "2025-06-10T19:32:43.554747Z",
     "iopub.status.idle": "2025-06-10T19:32:43.559473Z",
     "shell.execute_reply": "2025-06-10T19:32:43.558600Z"
    }
   },
   "outputs": [
    {
     "name": "stdout",
     "output_type": "stream",
     "text": [
      "Discrete uniform distribution on [4..10]\n",
      "Discrete uniform distribution on [4..10]\n"
     ]
    },
    {
     "name": "stderr",
     "output_type": "stream",
     "text": [
      "Warning in UniformDiscreteDistribution::Rescale() cannot be rescaled by factor 0.5 <> 1.0. Just copied.\n"
     ]
    }
   ],
   "source": [
    "print( uddis )\n",
    "try:\n",
    "    print( uddis.Rescale( 0.5 ) )\n",
    "except:\n",
    "    pass"
   ]
  },
  {
   "cell_type": "markdown",
   "id": "67bf3db1-82ef-4bd5-8a60-327d9cc5a2e7",
   "metadata": {},
   "source": [
    "## Comparison of distributions"
   ]
  },
  {
   "cell_type": "markdown",
   "id": "ce4eae23-ef45-4d95-a38d-8e6d7e49574b",
   "metadata": {},
   "source": [
    "The distance between some of the classes of distributions can be computed.\n",
    "Available distances are:\n",
    "\n",
    "* L1 distance\n",
    "* L2 distance\n",
    "* L-infinity distance\n",
    "* Total variation distance"
   ]
  },
  {
   "cell_type": "code",
   "execution_count": 11,
   "id": "b1613af7-37a8-4e30-8d21-6fa5685d8472",
   "metadata": {
    "execution": {
     "iopub.execute_input": "2025-06-10T19:32:43.561449Z",
     "iopub.status.busy": "2025-06-10T19:32:43.561285Z",
     "iopub.status.idle": "2025-06-10T19:32:43.565100Z",
     "shell.execute_reply": "2025-06-10T19:32:43.564227Z"
    }
   },
   "outputs": [],
   "source": [
    "d1 = marmotecore.UniformDiscreteDistribution( 0, 19 )\n",
    "d2 = marmotecore.GeometricDistribution( 0.5 )\n",
    "d3 = marmotecore.UniformDiscreteDistribution( 0, 24 )\n",
    "d4 = marmotecore.GeometricDistribution( 0.55 )"
   ]
  },
  {
   "cell_type": "code",
   "execution_count": 12,
   "id": "2fe4de73-d0ca-442d-94d7-4779506ad911",
   "metadata": {
    "execution": {
     "iopub.execute_input": "2025-06-10T19:32:43.567514Z",
     "iopub.status.busy": "2025-06-10T19:32:43.567002Z",
     "iopub.status.idle": "2025-06-10T19:32:43.572605Z",
     "shell.execute_reply": "2025-06-10T19:32:43.571547Z"
    }
   },
   "outputs": [
    {
     "name": "stdout",
     "output_type": "stream",
     "text": [
      "L1 =  1.4750019073486333\n",
      "L2 =  0.532290737004473\n",
      "Linf =  0.45\n",
      "TV =  0.7375009536743167\n"
     ]
    }
   ],
   "source": [
    "print( \"L1 = \", marmotecore.Distribution.DistanceL1( d1, d2 ) )\n",
    "print( \"L2 = \", marmotecore.Distribution.DistanceL2( d1, d2 ) )\n",
    "print( \"Linf = \", marmotecore.Distribution.DistanceLInfinity( d1, d2 ) )\n",
    "print( \"TV = \", marmotecore.Distribution.DistanceTV( d1, d2 ) )"
   ]
  },
  {
   "cell_type": "code",
   "execution_count": 13,
   "id": "6d7122d8-6af8-479e-bc93-11f287b62fde",
   "metadata": {
    "execution": {
     "iopub.execute_input": "2025-06-10T19:32:43.575961Z",
     "iopub.status.busy": "2025-06-10T19:32:43.575154Z",
     "iopub.status.idle": "2025-06-10T19:32:43.580502Z",
     "shell.execute_reply": "2025-06-10T19:32:43.579639Z"
    }
   },
   "outputs": [
    {
     "name": "stdout",
     "output_type": "stream",
     "text": [
      "Computable L-infinity distance: 0.04\n",
      "Not computable distance: 0.0\n"
     ]
    },
    {
     "name": "stderr",
     "output_type": "stream",
     "text": [
      "Warning in GeometricDistribution::Distance(): don't know how to compute this distance.\n"
     ]
    }
   ],
   "source": [
    "print( \"Computable L-infinity distance:\", marmotecore.Distribution.DistanceLInfinity( d1, d3 ) )\n",
    "try:\n",
    "    print( \"Not computable distance:\", marmotecore.Distribution.DistanceLInfinity( d2, d4 ) )\n",
    "except:\n",
    "    pass"
   ]
  },
  {
   "cell_type": "markdown",
   "id": "6066fd04-c5d7-45d9-a12a-01a2533bb01b",
   "metadata": {},
   "source": [
    "## Markov Chain operations which return distributions"
   ]
  },
  {
   "cell_type": "markdown",
   "id": "10355556-840c-4e73-a091-b8277cd5919f",
   "metadata": {},
   "source": [
    "### State distributions in Markov Chains"
   ]
  },
  {
   "cell_type": "markdown",
   "id": "9b804485-346c-4b46-84a2-f5d35309f251",
   "metadata": {},
   "source": [
    "Example: with a 4-state continuous birth-death Markov Chain"
   ]
  },
  {
   "cell_type": "code",
   "execution_count": 14,
   "id": "aece287d-ad31-4b7a-af7d-ebda316fd297",
   "metadata": {
    "execution": {
     "iopub.execute_input": "2025-06-10T19:32:43.582850Z",
     "iopub.status.busy": "2025-06-10T19:32:43.582586Z",
     "iopub.status.idle": "2025-06-10T19:32:43.586954Z",
     "shell.execute_reply": "2025-06-10T19:32:43.585930Z"
    }
   },
   "outputs": [],
   "source": [
    "four = mmc.Homogeneous1DBirthDeath( 4, 3.0, 1.0 )"
   ]
  },
  {
   "cell_type": "markdown",
   "id": "8620f050-4a87-4e3c-8ea3-92edeba8b9a7",
   "metadata": {},
   "source": [
    "Distributions of one-step transitions"
   ]
  },
  {
   "cell_type": "code",
   "execution_count": 15,
   "id": "1a7fc331-cbca-4436-933f-2b4c318d9ddb",
   "metadata": {
    "execution": {
     "iopub.execute_input": "2025-06-10T19:32:43.589746Z",
     "iopub.status.busy": "2025-06-10T19:32:43.589224Z",
     "iopub.status.idle": "2025-06-10T19:32:43.594035Z",
     "shell.execute_reply": "2025-06-10T19:32:43.593178Z"
    }
   },
   "outputs": [
    {
     "name": "stdout",
     "output_type": "stream",
     "text": [
      "Discrete distribution values { 1 } probas {        1 }\n",
      "Discrete distribution values { 0 2 } probas {     0.25     0.75 }\n",
      "Discrete distribution values { 1 3 } probas {     0.25     0.75 }\n",
      "Discrete distribution values { 2 } probas {        1 }\n"
     ]
    }
   ],
   "source": [
    "print( four.generator().TransDistrib(0) )\n",
    "print( four.generator().TransDistrib(1) )\n",
    "print( four.generator().TransDistrib(2) )\n",
    "print( four.generator().TransDistrib(3) )"
   ]
  },
  {
   "cell_type": "markdown",
   "id": "fb090da0-3b70-49f4-b392-552d33de4560",
   "metadata": {},
   "source": [
    "Transient and stationary distributions"
   ]
  },
  {
   "cell_type": "code",
   "execution_count": 16,
   "id": "eab21707-1426-4427-a296-6966ba2e7208",
   "metadata": {
    "execution": {
     "iopub.execute_input": "2025-06-10T19:32:43.596371Z",
     "iopub.status.busy": "2025-06-10T19:32:43.596143Z",
     "iopub.status.idle": "2025-06-10T19:32:43.606451Z",
     "shell.execute_reply": "2025-06-10T19:32:43.605619Z"
    }
   },
   "outputs": [
    {
     "name": "stdout",
     "output_type": "stream",
     "text": [
      "Discrete distribution values { 0  1  2  3  } probas {  0.02598  0.07642   0.2255   0.6721 }\n",
      "Discrete distribution values { 0  1  2  3  } probas {    0.025    0.075    0.225    0.675 }\n"
     ]
    }
   ],
   "source": [
    "print( four.TransientDistribution(4) )\n",
    "print( four.StationaryDistribution() )"
   ]
  },
  {
   "cell_type": "markdown",
   "id": "3cf84d29-0f9f-4edb-b494-525f966ff2c9",
   "metadata": {},
   "source": [
    "Empirical state distributions through simulation"
   ]
  },
  {
   "cell_type": "code",
   "execution_count": 17,
   "id": "ff816946-3457-4fa5-8812-26ceee24310e",
   "metadata": {
    "execution": {
     "iopub.execute_input": "2025-06-10T19:32:43.608600Z",
     "iopub.status.busy": "2025-06-10T19:32:43.608366Z",
     "iopub.status.idle": "2025-06-10T19:32:43.613061Z",
     "shell.execute_reply": "2025-06-10T19:32:43.612030Z"
    }
   },
   "outputs": [
    {
     "name": "stdout",
     "output_type": "stream",
     "text": [
      "Discrete distribution values { 0  1  2  3  } probas {  0.06264    0.134   0.2516   0.5518 }\n"
     ]
    }
   ],
   "source": [
    "simres = four.SimulateChain( 20, True, False, False, False )\n",
    "print( simres.Distribution() )"
   ]
  },
  {
   "cell_type": "markdown",
   "id": "0aef46a1-e580-41f5-ae1d-e21a319dcc41",
   "metadata": {},
   "source": [
    "### Hitting time distributions"
   ]
  },
  {
   "cell_type": "markdown",
   "id": "692b6778-d191-452a-af3b-db25cb155023",
   "metadata": {},
   "source": [
    "For some Markov chains, hitting time distributions are avaliable.\n",
    "\n",
    "More on these special Markov chains in Lesson5."
   ]
  },
  {
   "cell_type": "code",
   "execution_count": 18,
   "id": "d365bf37-5248-4674-a8df-01f803547516",
   "metadata": {
    "execution": {
     "iopub.execute_input": "2025-06-10T19:32:43.615246Z",
     "iopub.status.busy": "2025-06-10T19:32:43.615036Z",
     "iopub.status.idle": "2025-06-10T19:32:43.618650Z",
     "shell.execute_reply": "2025-06-10T19:32:43.617833Z"
    }
   },
   "outputs": [],
   "source": [
    "two = mmc.TwoStateContinuous( 5.0, 1.0 )"
   ]
  },
  {
   "cell_type": "code",
   "execution_count": 19,
   "id": "0fceb174-323f-48f2-9741-7079aecf3ed9",
   "metadata": {
    "execution": {
     "iopub.execute_input": "2025-06-10T19:32:43.620573Z",
     "iopub.status.busy": "2025-06-10T19:32:43.620383Z",
     "iopub.status.idle": "2025-06-10T19:32:43.624284Z",
     "shell.execute_reply": "2025-06-10T19:32:43.623436Z"
    }
   },
   "outputs": [],
   "source": [
    "hitset = np.array( [ 0, 1 ], dtype=bool )\n",
    "hd = two.HittingTimeDistribution( hitset )"
   ]
  },
  {
   "cell_type": "code",
   "execution_count": 20,
   "id": "6fb6093a-9b26-4f00-a9c7-dbb9eeb741e0",
   "metadata": {
    "execution": {
     "iopub.execute_input": "2025-06-10T19:32:43.626397Z",
     "iopub.status.busy": "2025-06-10T19:32:43.626225Z",
     "iopub.status.idle": "2025-06-10T19:32:43.630447Z",
     "shell.execute_reply": "2025-06-10T19:32:43.629649Z"
    }
   },
   "outputs": [
    {
     "name": "stdout",
     "output_type": "stream",
     "text": [
      "Exponential distribution with mean 0.2\n",
      "Dirac distribution at 0\n"
     ]
    }
   ],
   "source": [
    "print( hd[0] )\n",
    "print( hd[1] )"
   ]
  },
  {
   "cell_type": "code",
   "execution_count": 21,
   "id": "1e4c1045-dd3e-4e88-9023-c518acc3bafe",
   "metadata": {
    "execution": {
     "iopub.execute_input": "2025-06-10T19:32:43.632952Z",
     "iopub.status.busy": "2025-06-10T19:32:43.632360Z",
     "iopub.status.idle": "2025-06-10T19:32:43.635965Z",
     "shell.execute_reply": "2025-06-10T19:32:43.635193Z"
    }
   },
   "outputs": [],
   "source": [
    "f81 = mmc.Felsenstein81( [ 0.1, 0.2, 0.3, 0.4 ], 1.0 )"
   ]
  },
  {
   "cell_type": "code",
   "execution_count": 22,
   "id": "13cbf1df-ead6-410e-b4c0-fbe4337c8b9a",
   "metadata": {
    "execution": {
     "iopub.execute_input": "2025-06-10T19:32:43.638127Z",
     "iopub.status.busy": "2025-06-10T19:32:43.637932Z",
     "iopub.status.idle": "2025-06-10T19:32:43.643076Z",
     "shell.execute_reply": "2025-06-10T19:32:43.642316Z"
    }
   },
   "outputs": [
    {
     "name": "stdout",
     "output_type": "stream",
     "text": [
      "Exponential distribution with mean 3.33333\n",
      "Exponential distribution with mean 3.33333\n",
      "Dirac distribution at 0\n",
      "Exponential distribution with mean 3.33333\n"
     ]
    }
   ],
   "source": [
    "hitset = np.array( [ False, False, True, False ], dtype=bool )\n",
    "hd = f81.HittingTimeDistribution( hitset )\n",
    "print( hd[0] )\n",
    "print( hd[1] )\n",
    "print( hd[2] )\n",
    "print( hd[3] )"
   ]
  }
 ],
 "metadata": {
  "kernelspec": {
   "display_name": "Python 3 (ipykernel)",
   "language": "python",
   "name": "python3"
  },
  "language_info": {
   "codemirror_mode": {
    "name": "ipython",
    "version": 3
   },
   "file_extension": ".py",
   "mimetype": "text/x-python",
   "name": "python",
   "nbconvert_exporter": "python",
   "pygments_lexer": "ipython3",
   "version": "3.11.11"
  }
 },
 "nbformat": 4,
 "nbformat_minor": 5
}
