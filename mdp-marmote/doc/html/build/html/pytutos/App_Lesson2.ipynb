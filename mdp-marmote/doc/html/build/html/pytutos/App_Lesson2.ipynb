{
 "cells": [
  {
   "cell_type": "markdown",
   "id": "6ffb6eb4",
   "metadata": {},
   "source": [
    "# Application Lesson 2: Application to the control of a tandem  multi server system"
   ]
  },
  {
   "cell_type": "code",
   "execution_count": 1,
   "id": "84479bba",
   "metadata": {
    "execution": {
     "iopub.execute_input": "2025-06-10T19:32:33.306896Z",
     "iopub.status.busy": "2025-06-10T19:32:33.306709Z",
     "iopub.status.idle": "2025-06-10T19:32:33.616370Z",
     "shell.execute_reply": "2025-06-10T19:32:33.615459Z"
    }
   },
   "outputs": [],
   "source": [
    "import marmote.core as mco\n",
    "import marmote.markovchain as mch\n",
    "import marmote.mdp as md\n",
    "import numpy as np"
   ]
  },
  {
   "cell_type": "markdown",
   "id": "219d3d3a",
   "metadata": {},
   "source": [
    "## The model"
   ]
  },
  {
   "cell_type": "markdown",
   "id": "882be200",
   "metadata": {},
   "source": [
    "We consider the tandem multi server queue model (below) (credit of the picture  [Tournaire 2021]) presented also in [Ohno and  Ichiki, 1987], or [Tournaire 2023]."
   ]
  },
  {
   "cell_type": "markdown",
   "id": "b16325ee",
   "metadata": {},
   "source": [
    "<img src=\"./tandemQueue.png\">"
   ]
  },
  {
   "cell_type": "markdown",
   "id": "233989ca",
   "metadata": {},
   "source": [
    "**Parameters**\n",
    "\n",
    "Size of the systems: B1 and B2 with B1=B2=B\n",
    "\n",
    "Number of servers: K1 and K2 with K1=K2=K\n",
    "\n",
    "Statistics:  \n",
    "arrival  Poisson with rate lambda  \n",
    "service homogeneous with rate mu1 and mu2  \n",
    "\n",
    "Costs:  \n",
    "Instantaneous costs:  \n",
    "activation cost: *Ca*, deactivation cost: *Cd*, reject cost: *Cr*.   \n",
    "Rates costs (also called accumulated cost):    \n",
    "cost per time unit of using a VM: *Cs*, cost per time unit of holding a request in the system *Ch*.\n",
    "\n",
    "**Numerical values**\n",
    "\n",
    "B=10  \n",
    "K=5  \n",
    "lam=5  \n",
    "mu1=1  \n",
    "mu2=1   \n",
    "Ca=1  \n",
    "Cd=1  \n",
    "Cr=10  \n",
    "Cs=2  \n",
    "Ch=2"
   ]
  },
  {
   "cell_type": "markdown",
   "id": "97bd1383",
   "metadata": {},
   "source": [
    "Build the model with a python dictionary"
   ]
  },
  {
   "cell_type": "code",
   "execution_count": 2,
   "id": "c49528a3",
   "metadata": {
    "execution": {
     "iopub.execute_input": "2025-06-10T19:32:33.619103Z",
     "iopub.status.busy": "2025-06-10T19:32:33.618859Z",
     "iopub.status.idle": "2025-06-10T19:32:33.623913Z",
     "shell.execute_reply": "2025-06-10T19:32:33.623149Z"
    }
   },
   "outputs": [
    {
     "name": "stdout",
     "output_type": "stream",
     "text": [
      "{'B1': 3, 'B2': 3, 'K1': 2, 'K2': 2, 'lam': 5.0, 'mu1': 1.0, 'mu2': 1.0, 'Ca': 1, 'Cd': 1, 'Cr': 10, 'Cs': 2, 'Ch': 2, 'beta': 1}\n"
     ]
    }
   ],
   "source": [
    "model=dict()\n",
    "model['B1']=3 #10\n",
    "model['B2']=3 #10\n",
    "model['K1']=2 #5\n",
    "model['K2']=2 #5\n",
    "model['lam']=5.0\n",
    "model['mu1']=1.0\n",
    "model['mu2']=1.0\n",
    "model['Ca']=1  \n",
    "model['Cd']=1 \n",
    "model['Cr']=10 \n",
    "model['Cs']=2 \n",
    "model['Ch']=2\n",
    "model['beta']=1\n",
    "\n",
    "print(model)"
   ]
  },
  {
   "cell_type": "markdown",
   "id": "f3a8005e",
   "metadata": {},
   "source": [
    "## Build a discrete time discounted MDP"
   ]
  },
  {
   "cell_type": "markdown",
   "id": "3e0618f6",
   "metadata": {},
   "source": [
    "### Build the states"
   ]
  },
  {
   "cell_type": "markdown",
   "id": "03e93f46-c183-4a87-9fdc-7102457235f9",
   "metadata": {},
   "source": [
    "The state is *(m1,k1,m2,k2)* with m from 0 to B-1 and  k from 0 to K-1. \n",
    "An action is *(k1,k2)* with k from 0 to K-1."
   ]
  },
  {
   "cell_type": "code",
   "execution_count": 3,
   "id": "316b4ef5",
   "metadata": {
    "execution": {
     "iopub.execute_input": "2025-06-10T19:32:33.626272Z",
     "iopub.status.busy": "2025-06-10T19:32:33.625701Z",
     "iopub.status.idle": "2025-06-10T19:32:33.631651Z",
     "shell.execute_reply": "2025-06-10T19:32:33.631020Z"
    }
   },
   "outputs": [
    {
     "name": "stdout",
     "output_type": "stream",
     "text": [
      "[3 2 3 2]\n",
      "Number of states 36\n",
      "Box( [ 0..2 ] x [ 0..1 ] x [ 0..2 ] x [ 0..1 ] )\n",
      "Number of actions 4\n",
      "actions Box( [ 0..1 ] x [ 0..1 ] )\n"
     ]
    }
   ],
   "source": [
    "dims=np.array([model['B1'],model['K1'],model['B2'],model['K2']])\n",
    "print(dims) \n",
    "states= mco.MarmoteBox(dims)\n",
    "#\n",
    "actions=mco.MarmoteBox([model['K1'],model['K2']])\n",
    "\n",
    "print(\"Number of states\",states.Cardinal())\n",
    "print(states)\n",
    "print(\"Number of actions\",actions.Cardinal())\n",
    "print(\"actions\",actions)"
   ]
  },
  {
   "cell_type": "markdown",
   "id": "96200430",
   "metadata": {},
   "source": [
    "### Build matrices"
   ]
  },
  {
   "cell_type": "markdown",
   "id": "8adc60e3",
   "metadata": {},
   "source": [
    "#### Transitions matrices"
   ]
  },
  {
   "cell_type": "markdown",
   "id": "7ab696ba-10d5-4feb-8a75-7fade9bf6746",
   "metadata": {},
   "source": [
    "We begin by defining a function which computes the transition matrix associated with an action such that the action index is: index_action.\n",
    "\n",
    "In a state, there is three types of event: arrival in the system, departure of the system, departure of the system 1 and arrival in system 2."
   ]
  },
  {
   "cell_type": "code",
   "execution_count": 4,
   "id": "db211472",
   "metadata": {
    "execution": {
     "iopub.execute_input": "2025-06-10T19:32:33.633789Z",
     "iopub.status.busy": "2025-06-10T19:32:33.633495Z",
     "iopub.status.idle": "2025-06-10T19:32:33.641642Z",
     "shell.execute_reply": "2025-06-10T19:32:33.640816Z"
    }
   },
   "outputs": [],
   "source": [
    "def fill_in_matrix(index_action,modele,ssp,asp):\n",
    "    # retrieve the action asscoiated with index\n",
    "    action_buf = asp.DecodeState(index_action)\n",
    "    #*#print(\"index action\",index_action,\"action\",action_buf)\n",
    "    #define the states\n",
    "    etat=np.array([0,0,0,0])\n",
    "    afteraction=np.array([0,0,0,0])\n",
    "    jump=np.array([0,0,0,0])\n",
    "    # define transition matrix\n",
    "    P=mco.SparseMatrix(ssp.Cardinal()) \n",
    "    #browsing state space\n",
    "    ssp.FirstState(etat)\n",
    "    for k in range(ssp.Cardinal()):\n",
    "        # compute the index of the state\n",
    "        indexL=ssp.Index(etat)\n",
    "        # compute the state after the action\n",
    "        afteraction[0]=etat[0]\n",
    "        afteraction[1]=action_buf[0]\n",
    "        afteraction[2]=etat[2]\n",
    "        afteraction[3]=action_buf[1]\n",
    "        #*# print(\"####index State=\",k,\"State\",etat,\"State after action\",afteraction)\n",
    "        # then detail all the possible transitions\n",
    "        ## Arrival (increases the number of customer in first coordinate with rate lambda)\n",
    "        if (afteraction[0]<modele['B1']-1) :\n",
    "            jump[0]=afteraction[0]+1\n",
    "            jump[1]=afteraction[1]\n",
    "            jump[2]=afteraction[2]\n",
    "            jump[3]=afteraction[3]\n",
    "        else: \n",
    "            jump[0]=afteraction[0]\n",
    "            jump[1]=afteraction[1]\n",
    "            jump[2]=afteraction[2]\n",
    "            jump[3]=afteraction[3]\n",
    "        #compute the index of the jump\n",
    "        indexC=ssp.Index(jump)\n",
    "        #fill in the entry\n",
    "        #*# print(\"*Event: Arrival. Index=\",indexC,\"Jump State=\",jump,\"rate=\",modele['lam'])\n",
    "        P.setEntry(indexL,indexC,modele['lam'])\n",
    "        #\n",
    "        ## departure of the first system entry in the second one\n",
    "        if (afteraction[2]<modele['B2']-1) :\n",
    "            jump[0]=max(0,afteraction[0]-1)\n",
    "            jump[1]=afteraction[1]\n",
    "            jump[2]=afteraction[2]+1\n",
    "            jump[3]=afteraction[3]\n",
    "        else: \n",
    "            jump[0]=max(0,afteraction[0]-1)\n",
    "            jump[1]=afteraction[1]\n",
    "            jump[2]=afteraction[2]\n",
    "            jump[3]=afteraction[3]\n",
    "        #index of the jump\n",
    "        indexC=ssp.Index(jump)\n",
    "        # rate of the transition\n",
    "        rate=min(afteraction[1],afteraction[0])*modele['mu1']\n",
    "        #fill in the entry\n",
    "        #*# print(\"*Event: Departure s1 entry s2. Index=\",indexC,\"Jump State=\",jump,\"rate=\",rate)\n",
    "        P.setEntry(indexL,indexC,rate)\n",
    "        #\n",
    "        ##departure of the second  system\n",
    "        jump[0]=afteraction[0]\n",
    "        jump[1]=afteraction[1]\n",
    "        jump[2]=max(0,afteraction[2]-1)\n",
    "        jump[3]=afteraction[3]\n",
    "        #compute the index of the jump\n",
    "        indexC=ssp.Index(jump)\n",
    "        # compute the rate\n",
    "        rate=min(afteraction[2],afteraction[3])*modele['mu2']\n",
    "        #fill in the entry\n",
    "        #*# print(\"*Event: Departure s2. Index=\",indexC,\"Jump State=\",jump,\"rate=\",rate)\n",
    "        P.setEntry(indexL,indexC,rate)\n",
    "        #change state\n",
    "        ssp.NextState(etat)\n",
    "    return P\n"
   ]
  },
  {
   "cell_type": "markdown",
   "id": "4969371b",
   "metadata": {},
   "source": [
    "#### Cost Matrix"
   ]
  },
  {
   "cell_type": "markdown",
   "id": "3294845e",
   "metadata": {},
   "source": [
    "We define now a function to fill in the cost matrix. \n",
    "\n",
    "Instantaneous Costs are:   \n",
    "Costs of activations = *max(action1-k1,0) \\* Ca + max(action2-k2,0) \\* Ca*  \n",
    "Costs of deactivations = *max(K1-action1,0) \\* Cd + max(K2-action2,0) \\* Cd*  \n",
    "rejection cost= *Cr \\* lambda/Lambda(s,a)* in states where *m1=B* added by  *Cr \\* action1 mu/Lambda(s,a)* in states where *m2=B*.  \n",
    "*Lambda(s,a)* is the total rate. It is equal to *lambda + action1 \\* mu + action2 \\* mu* .\n",
    "\n",
    "Accumulated Costs are:  \n",
    "(number of customers in the system)Ch = *(m1+m2)\\*Ch*   \n",
    "(number of activated VM) = *(action1+action2)\\*Cs*  "
   ]
  },
  {
   "cell_type": "code",
   "execution_count": 5,
   "id": "ae92b932",
   "metadata": {
    "execution": {
     "iopub.execute_input": "2025-06-10T19:32:33.644198Z",
     "iopub.status.busy": "2025-06-10T19:32:33.643500Z",
     "iopub.status.idle": "2025-06-10T19:32:33.649535Z",
     "shell.execute_reply": "2025-06-10T19:32:33.648967Z"
    }
   },
   "outputs": [],
   "source": [
    "def fill_in_cost(modele,ssp,asp):\n",
    "    R= mco.FullMatrix(ssp.Cardinal(),asp.Cardinal())\n",
    "    #define the states\n",
    "    etat=np.array([0,0,0,0])\n",
    "    #define the actions\n",
    "    acb=asp.StateBuffer()\n",
    "    ssp.FirstState(etat)\n",
    "    for k in range(ssp.Cardinal()):\n",
    "        # compute the index of the state\n",
    "        indexL=ssp.Index(etat)\n",
    "        #*#print(\"##State\",etat)\n",
    "        asp.FirstState(acb)\n",
    "        for j in range(asp.Cardinal()):\n",
    "            #*#print(\"---Action\",acb,end='  ')\n",
    "            action1=acb[0]\n",
    "            action2=acb[1]\n",
    "            totalrate=modele['lam']+action1*modele['mu1']+ action2*modele['mu2']\n",
    "            activationcosts=modele['Ca']*(max(0,action1-etat[1])+max(0,action2-etat[3])) \n",
    "            deactivationcosts=modele['Cd']*(max(0,etat[1]-action1)+max(0,action2-etat[3]))\n",
    "            rejectioncosts=0.0\n",
    "            if ((modele['B1']-1)==etat[0]):\n",
    "                rejectioncosts+=(modele['lam']*modele['Cr']) / totalrate\n",
    "            if ((modele['B2']-1)==etat[2]):\n",
    "                rejectioncosts+=( min(etat[0],action1)*modele['mu1']*modele['Cr']) / totalrate\n",
    "            instantaneouscosts=activationcosts+deactivationcosts+rejectioncosts\n",
    "            accumulatedcosts=(etat[0]+etat[2])*modele['Ch'] + (action1 +action2)*modele['Cs']\n",
    "            accumulatedcosts/=(totalrate+model['beta'])\n",
    "            #*#print(\"Instantaneous=\",instantaneouscosts,\" Rejection=\",rejectioncosts,end= ' ')\n",
    "            #*#print(\"Accumulatedcosts=\",accumulatedcosts)\n",
    "            R.setEntry(indexL,j,accumulatedcosts+instantaneouscosts)\n",
    "            asp.NextState(acb)\n",
    "        ssp.NextState(etat)\n",
    "    return R;"
   ]
  },
  {
   "cell_type": "markdown",
   "id": "86a75df8",
   "metadata": {},
   "source": [
    "### Build the continuous time MDP"
   ]
  },
  {
   "cell_type": "markdown",
   "id": "801af4ef-cf96-4c9f-bba7-e199981872a8",
   "metadata": {},
   "source": [
    "Build all the transition matrices"
   ]
  },
  {
   "cell_type": "code",
   "execution_count": 6,
   "id": "f63f0022",
   "metadata": {
    "execution": {
     "iopub.execute_input": "2025-06-10T19:32:33.651325Z",
     "iopub.status.busy": "2025-06-10T19:32:33.651148Z",
     "iopub.status.idle": "2025-06-10T19:32:33.658378Z",
     "shell.execute_reply": "2025-06-10T19:32:33.657604Z"
    }
   },
   "outputs": [
    {
     "name": "stdout",
     "output_type": "stream",
     "text": [
      "---Matrix kth= 0 filled in\n",
      "---Matrix kth= 1 filled in\n",
      "---Matrix kth= 2 filled in\n",
      "---Matrix kth= 3 filled in\n"
     ]
    }
   ],
   "source": [
    "trans=list()\n",
    "\n",
    "action_buf = actions.StateBuffer()\n",
    "actions.FirstState(action_buf)\n",
    "for k in range(actions.Cardinal()):\n",
    "    trans.append(fill_in_matrix(k,model,states,actions))\n",
    "    print(\"---Matrix kth=\",k, \"filled in\")"
   ]
  },
  {
   "cell_type": "markdown",
   "id": "8ba6de1c-1165-457e-a2fb-8ad052b5c5e5",
   "metadata": {},
   "source": [
    "Fill in the costs"
   ]
  },
  {
   "cell_type": "code",
   "execution_count": 7,
   "id": "864a3520-3e0c-466c-b755-60f000ca8c48",
   "metadata": {
    "execution": {
     "iopub.execute_input": "2025-06-10T19:32:33.660054Z",
     "iopub.status.busy": "2025-06-10T19:32:33.659881Z",
     "iopub.status.idle": "2025-06-10T19:32:33.665504Z",
     "shell.execute_reply": "2025-06-10T19:32:33.664788Z"
    }
   },
   "outputs": [
    {
     "name": "stdout",
     "output_type": "stream",
     "text": [
      "Matrice of Costs\n"
     ]
    }
   ],
   "source": [
    "print(\"Matrice of Costs\")\n",
    "Costs=fill_in_cost(model,states,actions)"
   ]
  },
  {
   "cell_type": "markdown",
   "id": "b9b62dd7-0dd9-48d6-9fe4-3212222216b0",
   "metadata": {},
   "source": [
    "Build the MDP"
   ]
  },
  {
   "cell_type": "code",
   "execution_count": 8,
   "id": "14c78774-1264-4baf-b1d0-5c3f8ab8e551",
   "metadata": {
    "execution": {
     "iopub.execute_input": "2025-06-10T19:32:33.667294Z",
     "iopub.status.busy": "2025-06-10T19:32:33.667137Z",
     "iopub.status.idle": "2025-06-10T19:32:33.671839Z",
     "shell.execute_reply": "2025-06-10T19:32:33.671071Z"
    }
   },
   "outputs": [
    {
     "name": "stdout",
     "output_type": "stream",
     "text": [
      "Begining of Building MDP\n",
      "#############################################\n",
      "Model: Infinite Horizon Discounted MDP\n",
      "MDP Criteria : infinite horizon discounted\n",
      "Discount factor:1\n",
      "#############################################\n",
      "MDP type (discrete,continuous): continuous\n",
      "MDP rule (min,max): min\n",
      "State space size: 36\n",
      "Action space size: 4\n",
      "State  dimension: 4\n",
      "Action dimension: 2\n",
      "#############################################\n",
      "Transition matrix per action:\n",
      "action: 0\n",
      "         0         12 5.000000e+00\n",
      "         1         12 5.000000e+00\n",
      "         2         14 5.000000e+00\n",
      "         3         14 5.000000e+00\n",
      "         4         16 5.000000e+00\n",
      "         5         16 5.000000e+00\n",
      "         6         12 5.000000e+00\n",
      "         7         12 5.000000e+00\n",
      "         8         14 5.000000e+00\n",
      "         9         14 5.000000e+00\n",
      "        10         16 5.000000e+00\n",
      "        11         16 5.000000e+00\n",
      "        12         24 5.000000e+00\n",
      "        13         24 5.000000e+00\n",
      "        14         26 5.000000e+00\n",
      "        15         26 5.000000e+00\n",
      "        16         28 5.000000e+00\n",
      "        17         28 5.000000e+00\n",
      "        18         24 5.000000e+00\n",
      "        19         24 5.000000e+00\n",
      "        20         26 5.000000e+00\n",
      "        21         26 5.000000e+00\n",
      "        22         28 5.000000e+00\n",
      "        23         28 5.000000e+00\n",
      "        24         24 5.000000e+00\n",
      "        25         24 5.000000e+00\n",
      "        26         26 5.000000e+00\n",
      "        27         26 5.000000e+00\n",
      "        28         28 5.000000e+00\n",
      "        29         28 5.000000e+00\n",
      "        30         24 5.000000e+00\n",
      "        31         24 5.000000e+00\n",
      "        32         26 5.000000e+00\n",
      "        33         26 5.000000e+00\n",
      "        34         28 5.000000e+00\n",
      "        35         28 5.000000e+00\n",
      "\n",
      "action: 1\n",
      "         0         13 5.000000e+00\n",
      "         1         13 5.000000e+00\n",
      "         2         15 5.000000e+00\n",
      "         2          1 1.000000e+00\n",
      "         3         15 5.000000e+00\n",
      "         3          1 1.000000e+00\n",
      "         4         17 5.000000e+00\n",
      "         4          3 1.000000e+00\n",
      "         5         17 5.000000e+00\n",
      "         5          3 1.000000e+00\n",
      "         6         13 5.000000e+00\n",
      "         7         13 5.000000e+00\n",
      "         8         15 5.000000e+00\n",
      "         8          1 1.000000e+00\n",
      "         9         15 5.000000e+00\n",
      "         9          1 1.000000e+00\n",
      "        10         17 5.000000e+00\n",
      "        10          3 1.000000e+00\n",
      "        11         17 5.000000e+00\n",
      "        11          3 1.000000e+00\n",
      "        12         25 5.000000e+00\n",
      "        13         25 5.000000e+00\n",
      "        14         27 5.000000e+00\n",
      "        14         13 1.000000e+00\n",
      "        15         27 5.000000e+00\n",
      "        15         13 1.000000e+00\n",
      "        16         29 5.000000e+00\n",
      "        16         15 1.000000e+00\n",
      "        17         29 5.000000e+00\n",
      "        17         15 1.000000e+00\n",
      "        18         25 5.000000e+00\n",
      "        19         25 5.000000e+00\n",
      "        20         27 5.000000e+00\n",
      "        20         13 1.000000e+00\n",
      "        21         27 5.000000e+00\n",
      "        21         13 1.000000e+00\n",
      "        22         29 5.000000e+00\n",
      "        22         15 1.000000e+00\n",
      "        23         29 5.000000e+00\n",
      "        23         15 1.000000e+00\n",
      "        24         25 5.000000e+00\n",
      "        25         25 5.000000e+00\n",
      "        26         27 5.000000e+00\n",
      "        26         25 1.000000e+00\n",
      "        27         27 5.000000e+00\n",
      "        27         25 1.000000e+00\n",
      "        28         29 5.000000e+00\n",
      "        28         27 1.000000e+00\n",
      "        29         29 5.000000e+00\n",
      "        29         27 1.000000e+00\n",
      "        30         25 5.000000e+00\n",
      "        31         25 5.000000e+00\n",
      "        32         27 5.000000e+00\n",
      "        32         25 1.000000e+00\n",
      "        33         27 5.000000e+00\n",
      "        33         25 1.000000e+00\n",
      "        34         29 5.000000e+00\n",
      "        34         27 1.000000e+00\n",
      "        35         29 5.000000e+00\n",
      "        35         27 1.000000e+00\n",
      "\n",
      "action: 2\n",
      "         0         18 5.000000e+00\n",
      "         1         18 5.000000e+00\n",
      "         2         20 5.000000e+00\n",
      "         3         20 5.000000e+00\n",
      "         4         22 5.000000e+00\n",
      "         5         22 5.000000e+00\n",
      "         6         18 5.000000e+00\n",
      "         7         18 5.000000e+00\n",
      "         8         20 5.000000e+00\n",
      "         9         20 5.000000e+00\n",
      "        10         22 5.000000e+00\n",
      "        11         22 5.000000e+00\n",
      "        12         30 5.000000e+00\n",
      "        12          8 1.000000e+00\n",
      "        13         30 5.000000e+00\n",
      "        13          8 1.000000e+00\n",
      "        14         32 5.000000e+00\n",
      "        14         10 1.000000e+00\n",
      "        15         32 5.000000e+00\n",
      "        15         10 1.000000e+00\n",
      "        16         34 5.000000e+00\n",
      "        16         10 1.000000e+00\n",
      "        17         34 5.000000e+00\n",
      "        17         10 1.000000e+00\n",
      "        18         30 5.000000e+00\n",
      "        18          8 1.000000e+00\n",
      "        19         30 5.000000e+00\n",
      "        19          8 1.000000e+00\n",
      "        20         32 5.000000e+00\n",
      "        20         10 1.000000e+00\n",
      "        21         32 5.000000e+00\n",
      "        21         10 1.000000e+00\n",
      "        22         34 5.000000e+00\n",
      "        22         10 1.000000e+00\n",
      "        23         34 5.000000e+00\n",
      "        23         10 1.000000e+00\n",
      "        24         30 5.000000e+00\n",
      "        24         20 1.000000e+00\n",
      "        25         30 5.000000e+00\n",
      "        25         20 1.000000e+00\n",
      "        26         32 5.000000e+00\n",
      "        26         22 1.000000e+00\n",
      "        27         32 5.000000e+00\n",
      "        27         22 1.000000e+00\n",
      "        28         34 5.000000e+00\n",
      "        28         22 1.000000e+00\n",
      "        29         34 5.000000e+00\n",
      "        29         22 1.000000e+00\n",
      "        30         30 5.000000e+00\n",
      "        30         20 1.000000e+00\n",
      "        31         30 5.000000e+00\n",
      "        31         20 1.000000e+00\n",
      "        32         32 5.000000e+00\n",
      "        32         22 1.000000e+00\n",
      "        33         32 5.000000e+00\n",
      "        33         22 1.000000e+00\n",
      "        34         34 5.000000e+00\n",
      "        34         22 1.000000e+00\n",
      "        35         34 5.000000e+00\n",
      "        35         22 1.000000e+00\n",
      "\n",
      "action: 3\n",
      "         0         19 5.000000e+00\n",
      "         1         19 5.000000e+00\n",
      "         2         21 5.000000e+00\n",
      "         2          7 1.000000e+00\n",
      "         3         21 5.000000e+00\n",
      "         3          7 1.000000e+00\n",
      "         4         23 5.000000e+00\n",
      "         4          9 1.000000e+00\n",
      "         5         23 5.000000e+00\n",
      "         5          9 1.000000e+00\n",
      "         6         19 5.000000e+00\n",
      "         7         19 5.000000e+00\n",
      "         8         21 5.000000e+00\n",
      "         8          7 1.000000e+00\n",
      "         9         21 5.000000e+00\n",
      "         9          7 1.000000e+00\n",
      "        10         23 5.000000e+00\n",
      "        10          9 1.000000e+00\n",
      "        11         23 5.000000e+00\n",
      "        11          9 1.000000e+00\n",
      "        12         31 5.000000e+00\n",
      "        12          9 1.000000e+00\n",
      "        13         31 5.000000e+00\n",
      "        13          9 1.000000e+00\n",
      "        14         33 5.000000e+00\n",
      "        14         11 1.000000e+00\n",
      "        14         19 1.000000e+00\n",
      "        15         33 5.000000e+00\n",
      "        15         11 1.000000e+00\n",
      "        15         19 1.000000e+00\n",
      "        16         35 5.000000e+00\n",
      "        16         11 1.000000e+00\n",
      "        16         21 1.000000e+00\n",
      "        17         35 5.000000e+00\n",
      "        17         11 1.000000e+00\n",
      "        17         21 1.000000e+00\n",
      "        18         31 5.000000e+00\n",
      "        18          9 1.000000e+00\n",
      "        19         31 5.000000e+00\n",
      "        19          9 1.000000e+00\n",
      "        20         33 5.000000e+00\n",
      "        20         11 1.000000e+00\n",
      "        20         19 1.000000e+00\n",
      "        21         33 5.000000e+00\n",
      "        21         11 1.000000e+00\n",
      "        21         19 1.000000e+00\n",
      "        22         35 5.000000e+00\n",
      "        22         11 1.000000e+00\n",
      "        22         21 1.000000e+00\n",
      "        23         35 5.000000e+00\n",
      "        23         11 1.000000e+00\n",
      "        23         21 1.000000e+00\n",
      "        24         31 5.000000e+00\n",
      "        24         21 1.000000e+00\n",
      "        25         31 5.000000e+00\n",
      "        25         21 1.000000e+00\n",
      "        26         33 5.000000e+00\n",
      "        26         23 1.000000e+00\n",
      "        26         31 1.000000e+00\n",
      "        27         33 5.000000e+00\n",
      "        27         23 1.000000e+00\n",
      "        27         31 1.000000e+00\n",
      "        28         35 5.000000e+00\n",
      "        28         23 1.000000e+00\n",
      "        28         33 1.000000e+00\n",
      "        29         35 5.000000e+00\n",
      "        29         23 1.000000e+00\n",
      "        29         33 1.000000e+00\n",
      "        30         31 5.000000e+00\n",
      "        30         21 1.000000e+00\n",
      "        31         31 5.000000e+00\n",
      "        31         21 1.000000e+00\n",
      "        32         33 5.000000e+00\n",
      "        32         23 1.000000e+00\n",
      "        32         31 1.000000e+00\n",
      "        33         33 5.000000e+00\n",
      "        33         23 1.000000e+00\n",
      "        33         31 1.000000e+00\n",
      "        34         35 5.000000e+00\n",
      "        34         23 1.000000e+00\n",
      "        34         33 1.000000e+00\n",
      "        35         35 5.000000e+00\n",
      "        35         23 1.000000e+00\n",
      "        35         33 1.000000e+00\n",
      "\n",
      "#############################################\n",
      "Reward Matrix (state,action):\n",
      "         0          0 0.000000e+00\n",
      "         0          1 2.285714e+00\n",
      "         0          2 1.285714e+00\n",
      "         0          3 3.500000e+00\n",
      "         1          0 0.000000e+00\n",
      "         1          1 2.857143e-01\n",
      "         1          2 1.285714e+00\n",
      "         1          3 1.500000e+00\n",
      "         2          0 3.333333e-01\n",
      "         2          1 2.571429e+00\n",
      "         2          2 1.571429e+00\n",
      "         2          3 3.750000e+00\n",
      "         3          0 3.333333e-01\n",
      "         3          1 5.714286e-01\n",
      "         3          2 1.571429e+00\n",
      "         3          3 1.750000e+00\n",
      "         4          0 6.666667e-01\n",
      "         4          1 2.857143e+00\n",
      "         4          2 1.857143e+00\n",
      "         4          3 4.000000e+00\n",
      "         5          0 6.666667e-01\n",
      "         5          1 8.571429e-01\n",
      "         5          2 1.857143e+00\n",
      "         5          3 2.000000e+00\n",
      "         6          0 1.000000e+00\n",
      "         6          1 3.285714e+00\n",
      "         6          2 2.857143e-01\n",
      "         6          3 2.500000e+00\n",
      "         7          0 1.000000e+00\n",
      "         7          1 1.285714e+00\n",
      "         7          2 2.857143e-01\n",
      "         7          3 5.000000e-01\n",
      "         8          0 1.333333e+00\n",
      "         8          1 3.571429e+00\n",
      "         8          2 5.714286e-01\n",
      "         8          3 2.750000e+00\n",
      "         9          0 1.333333e+00\n",
      "         9          1 1.571429e+00\n",
      "         9          2 5.714286e-01\n",
      "         9          3 7.500000e-01\n",
      "        10          0 1.666667e+00\n",
      "        10          1 3.857143e+00\n",
      "        10          2 8.571429e-01\n",
      "        10          3 3.000000e+00\n",
      "        11          0 1.666667e+00\n",
      "        11          1 1.857143e+00\n",
      "        11          2 8.571429e-01\n",
      "        11          3 1.000000e+00\n",
      "        12          0 3.333333e-01\n",
      "        12          1 2.571429e+00\n",
      "        12          2 1.571429e+00\n",
      "        12          3 3.750000e+00\n",
      "        13          0 3.333333e-01\n",
      "        13          1 5.714286e-01\n",
      "        13          2 1.571429e+00\n",
      "        13          3 1.750000e+00\n",
      "        14          0 6.666667e-01\n",
      "        14          1 2.857143e+00\n",
      "        14          2 1.857143e+00\n",
      "        14          3 4.000000e+00\n",
      "        15          0 6.666667e-01\n",
      "        15          1 8.571429e-01\n",
      "        15          2 1.857143e+00\n",
      "        15          3 2.000000e+00\n",
      "        16          0 1.000000e+00\n",
      "        16          1 3.142857e+00\n",
      "        16          2 3.809524e+00\n",
      "        16          3 5.678571e+00\n",
      "        17          0 1.000000e+00\n",
      "        17          1 1.142857e+00\n",
      "        17          2 3.809524e+00\n",
      "        17          3 3.678571e+00\n",
      "        18          0 1.333333e+00\n",
      "        18          1 3.571429e+00\n",
      "        18          2 5.714286e-01\n",
      "        18          3 2.750000e+00\n",
      "        19          0 1.333333e+00\n",
      "        19          1 1.571429e+00\n",
      "        19          2 5.714286e-01\n",
      "        19          3 7.500000e-01\n",
      "        20          0 1.666667e+00\n",
      "        20          1 3.857143e+00\n",
      "        20          2 8.571429e-01\n",
      "        20          3 3.000000e+00\n",
      "        21          0 1.666667e+00\n",
      "        21          1 1.857143e+00\n",
      "        21          2 8.571429e-01\n",
      "        21          3 1.000000e+00\n",
      "        22          0 2.000000e+00\n",
      "        22          1 4.142857e+00\n",
      "        22          2 2.809524e+00\n",
      "        22          3 4.678571e+00\n",
      "        23          0 2.000000e+00\n",
      "        23          1 2.142857e+00\n",
      "        23          2 2.809524e+00\n",
      "        23          3 2.678571e+00\n",
      "        24          0 1.066667e+01\n",
      "        24          1 1.119048e+01\n",
      "        24          2 1.019048e+01\n",
      "        24          3 1.114286e+01\n",
      "        25          0 1.066667e+01\n",
      "        25          1 9.190476e+00\n",
      "        25          2 1.019048e+01\n",
      "        25          3 9.142857e+00\n",
      "        26          0 1.100000e+01\n",
      "        26          1 1.147619e+01\n",
      "        26          2 1.047619e+01\n",
      "        26          3 1.139286e+01\n",
      "        27          0 1.100000e+01\n",
      "        27          1 9.476190e+00\n",
      "        27          2 1.047619e+01\n",
      "        27          3 9.392857e+00\n",
      "        28          0 1.133333e+01\n",
      "        28          1 1.176190e+01\n",
      "        28          2 1.242857e+01\n",
      "        28          3 1.307143e+01\n",
      "        29          0 1.133333e+01\n",
      "        29          1 9.761905e+00\n",
      "        29          2 1.242857e+01\n",
      "        29          3 1.107143e+01\n",
      "        30          0 1.166667e+01\n",
      "        30          1 1.219048e+01\n",
      "        30          2 9.190476e+00\n",
      "        30          3 1.014286e+01\n",
      "        31          0 1.166667e+01\n",
      "        31          1 1.019048e+01\n",
      "        31          2 9.190476e+00\n",
      "        31          3 8.142857e+00\n",
      "        32          0 1.200000e+01\n",
      "        32          1 1.247619e+01\n",
      "        32          2 9.476190e+00\n",
      "        32          3 1.039286e+01\n",
      "        33          0 1.200000e+01\n",
      "        33          1 1.047619e+01\n",
      "        33          2 9.476190e+00\n",
      "        33          3 8.392857e+00\n",
      "        34          0 1.233333e+01\n",
      "        34          1 1.276190e+01\n",
      "        34          2 1.142857e+01\n",
      "        34          3 1.207143e+01\n",
      "        35          0 1.233333e+01\n",
      "        35          1 1.076190e+01\n",
      "        35          2 1.142857e+01\n",
      "        35          3 1.007143e+01\n",
      "\n",
      "#############################################\n",
      "\n",
      "\n"
     ]
    }
   ],
   "source": [
    "print(\"Begining of Building MDP\")\n",
    "ctmdp=md.ContinuousTimeDiscountedMDP(\"min\",states,actions,trans,Costs,model['beta'])\n",
    "print(ctmdp)"
   ]
  },
  {
   "cell_type": "markdown",
   "id": "6218a4eb",
   "metadata": {},
   "source": [
    "Uniformization of the MDP. After uniformization the MDP is a discrete time discounted MDP."
   ]
  },
  {
   "cell_type": "code",
   "execution_count": 9,
   "id": "a72f61be-475e-42e1-82da-5a88a4cb35f6",
   "metadata": {
    "execution": {
     "iopub.execute_input": "2025-06-10T19:32:33.673883Z",
     "iopub.status.busy": "2025-06-10T19:32:33.673713Z",
     "iopub.status.idle": "2025-06-10T19:32:33.677764Z",
     "shell.execute_reply": "2025-06-10T19:32:33.676980Z"
    }
   },
   "outputs": [
    {
     "name": "stdout",
     "output_type": "stream",
     "text": [
      "Rate of Uniformization 7.0\n"
     ]
    }
   ],
   "source": [
    "ctmdp.UniformizeMDP()\n",
    "print(\"Rate of Uniformization\",ctmdp.getMaximumRate())\n",
    "#*# print(ctmdp)"
   ]
  },
  {
   "cell_type": "markdown",
   "id": "6f18987b",
   "metadata": {},
   "source": [
    "### Solve the MDP"
   ]
  },
  {
   "cell_type": "code",
   "execution_count": 10,
   "id": "3dad852d-499a-46bd-a64d-2958c6d8709b",
   "metadata": {
    "execution": {
     "iopub.execute_input": "2025-06-10T19:32:33.679587Z",
     "iopub.status.busy": "2025-06-10T19:32:33.679423Z",
     "iopub.status.idle": "2025-06-10T19:32:33.683731Z",
     "shell.execute_reply": "2025-06-10T19:32:33.682970Z"
    }
   },
   "outputs": [
    {
     "name": "stdout",
     "output_type": "stream",
     "text": [
      "#############################################\n",
      "Solution of MDP problem\n",
      "Size of the state space: 36\n",
      "#############################################\n",
      "Solution model: Feedback Stationary Policy\n",
      "- column 1: index of the state\n",
      "- column 2: Value function \n",
      "- column 3: Optimal action \n",
      "\n",
      "  0         0.0547792   0\n",
      "  1         0.0547792   0\n",
      "  2          0.241898   0\n",
      "  3          0.241898   0\n",
      "  4          0.414941   0\n",
      "  5          0.414941   0\n",
      "  6           0.15414   2\n",
      "  7           0.15414   2\n",
      "  8          0.352924   2\n",
      "  9          0.352924   2\n",
      " 10          0.555138   2\n",
      " 11          0.555138   2\n",
      " 12          0.600903   0\n",
      " 13          0.600903   0\n",
      " 14           1.01751   0\n",
      " 15           1.01751   0\n",
      " 16           1.28234   0\n",
      " 17           1.26689   1\n",
      " 18          0.660929   2\n",
      " 19          0.660929   2\n",
      " 20            1.0673   2\n",
      " 21            1.0673   2\n",
      " 22           1.87782   0\n",
      " 23           1.85155   1\n",
      " 24           4.89178   2\n",
      " 25           4.38653   3\n",
      " 26           6.71516   2\n",
      " 27           5.97864   3\n",
      " 28           7.43568   0\n",
      " 29           6.39632   1\n",
      " 30           4.45328   2\n",
      " 31           3.94804   3\n",
      " 32            6.1305   2\n",
      " 33           5.40442   3\n",
      " 34           7.38596   2\n",
      " 35           6.49118   3\n",
      "#############################################\n",
      "\n",
      "\n"
     ]
    }
   ],
   "source": [
    "optimum=ctmdp.ValueIteration(0.01,75)\n",
    "print(optimum)"
   ]
  },
  {
   "cell_type": "markdown",
   "id": "eb1465bb",
   "metadata": {},
   "source": [
    "## Structural Analysis"
   ]
  },
  {
   "cell_type": "markdown",
   "id": "2446b067",
   "metadata": {},
   "source": [
    "The structural analysis is mainly related to the policy handling. In what follow we :\n",
    "\n",
    "1. Check property of the MDP by building a Markov Chain Associated with a policy\n",
    "2. Check property of the value function "
   ]
  },
  {
   "cell_type": "markdown",
   "id": "d684922b",
   "metadata": {},
   "source": [
    "### Check property using Markov Chain analysis"
   ]
  },
  {
   "cell_type": "markdown",
   "id": "d4bda8aa",
   "metadata": {},
   "source": [
    "#### Check if the MDP is \"multichain\""
   ]
  },
  {
   "cell_type": "markdown",
   "id": "f386b77c",
   "metadata": {},
   "source": [
    "Actually the multichain property is useless for discounted criteria and is solely valid for average multichain criteria. This is presented here for an example purpose. \n",
    "\n",
    "To assess the property, we build a special policy"
   ]
  },
  {
   "cell_type": "code",
   "execution_count": 11,
   "id": "bfad3d83",
   "metadata": {
    "execution": {
     "iopub.execute_input": "2025-06-10T19:32:33.685572Z",
     "iopub.status.busy": "2025-06-10T19:32:33.685413Z",
     "iopub.status.idle": "2025-06-10T19:32:33.688740Z",
     "shell.execute_reply": "2025-06-10T19:32:33.688044Z"
    }
   },
   "outputs": [],
   "source": [
    "policy=md.FeedbackSolutionMDP(states.Cardinal())"
   ]
  },
  {
   "cell_type": "markdown",
   "id": "977107ab",
   "metadata": {},
   "source": [
    "Now we fill-in policy. The policy is defined as foolows: in any states such that the number of customer is less than 2 the server si activated and deactivated otherwise. "
   ]
  },
  {
   "cell_type": "code",
   "execution_count": 12,
   "id": "b9294f2e",
   "metadata": {
    "execution": {
     "iopub.execute_input": "2025-06-10T19:32:33.690405Z",
     "iopub.status.busy": "2025-06-10T19:32:33.690253Z",
     "iopub.status.idle": "2025-06-10T19:32:33.694906Z",
     "shell.execute_reply": "2025-06-10T19:32:33.694099Z"
    }
   },
   "outputs": [
    {
     "name": "stdout",
     "output_type": "stream",
     "text": [
      "#############################################\n",
      "Solution of MDP problem\n",
      "Size of the state space: 36\n",
      "#############################################\n",
      "Solution model: Feedback Stationary Policy\n",
      "- column 1: index of the state\n",
      "- column 2: Value function \n",
      "- column 3: Optimal action \n",
      "\n",
      "  0                 0   1\n",
      "  1                 0   1\n",
      "  2                 0   1\n",
      "  3                 0   1\n",
      "  4                 0   0\n",
      "  5                 0   0\n",
      "  6                 0   1\n",
      "  7                 0   1\n",
      "  8                 0   1\n",
      "  9                 0   1\n",
      " 10                 0   0\n",
      " 11                 0   0\n",
      " 12                 0   1\n",
      " 13                 0   1\n",
      " 14                 0   1\n",
      " 15                 0   1\n",
      " 16                 0   0\n",
      " 17                 0   0\n",
      " 18                 0   1\n",
      " 19                 0   1\n",
      " 20                 0   1\n",
      " 21                 0   1\n",
      " 22                 0   0\n",
      " 23                 0   0\n",
      " 24                 0   0\n",
      " 25                 0   0\n",
      " 26                 0   0\n",
      " 27                 0   0\n",
      " 28                 0   0\n",
      " 29                 0   0\n",
      " 30                 0   0\n",
      " 31                 0   0\n",
      " 32                 0   0\n",
      " 33                 0   0\n",
      " 34                 0   0\n",
      " 35                 0   0\n",
      "#############################################\n",
      "\n",
      "\n"
     ]
    }
   ],
   "source": [
    "etat=states.StateBuffer()\n",
    "states.FirstState(etat)\n",
    "for k in range(states.Cardinal()):\n",
    "    if(etat[0]==(model['B1']-1) or etat[2]==(model['B2']-1) ):\n",
    "        policy.setActionIndex(k,0)\n",
    "    else :\n",
    "        policy.setActionIndex(k,1)\n",
    "    states.NextState(etat)\n",
    "print(policy)"
   ]
  },
  {
   "cell_type": "markdown",
   "id": "8870e7aa",
   "metadata": {},
   "source": [
    "**Build a Markov Chain from a policy**"
   ]
  },
  {
   "cell_type": "code",
   "execution_count": 13,
   "id": "71757496",
   "metadata": {
    "execution": {
     "iopub.execute_input": "2025-06-10T19:32:33.696594Z",
     "iopub.status.busy": "2025-06-10T19:32:33.696423Z",
     "iopub.status.idle": "2025-06-10T19:32:33.700324Z",
     "shell.execute_reply": "2025-06-10T19:32:33.699602Z"
    }
   },
   "outputs": [],
   "source": [
    "Mat=ctmdp.GetChain(optimum)\n",
    "Mat.set_type(mco.DISCRETE)\n",
    "#*# print(Mat)\n",
    "\n",
    "initial = mco.UniformDiscreteDistribution(0,states.Cardinal()-1)"
   ]
  },
  {
   "cell_type": "markdown",
   "id": "e4231536",
   "metadata": {},
   "source": [
    "Making the chain"
   ]
  },
  {
   "cell_type": "code",
   "execution_count": 14,
   "id": "777d63e4",
   "metadata": {
    "execution": {
     "iopub.execute_input": "2025-06-10T19:32:33.702363Z",
     "iopub.status.busy": "2025-06-10T19:32:33.702201Z",
     "iopub.status.idle": "2025-06-10T19:32:33.705878Z",
     "shell.execute_reply": "2025-06-10T19:32:33.705109Z"
    }
   },
   "outputs": [],
   "source": [
    "chaine = mch.MarkovChain( Mat )\n",
    "chaine.set_init_distribution(initial)\n",
    "chaine.set_model_name( \"Chain issued from the MDP\")"
   ]
  },
  {
   "cell_type": "markdown",
   "id": "039d1006",
   "metadata": {},
   "source": [
    "**Analysis of the transition matrix**"
   ]
  },
  {
   "cell_type": "code",
   "execution_count": 15,
   "id": "8ec38c18",
   "metadata": {
    "execution": {
     "iopub.execute_input": "2025-06-10T19:32:33.707698Z",
     "iopub.status.busy": "2025-06-10T19:32:33.707537Z",
     "iopub.status.idle": "2025-06-10T19:32:33.773993Z",
     "shell.execute_reply": "2025-06-10T19:32:33.773145Z"
    }
   },
   "outputs": [
    {
     "name": "stdout",
     "output_type": "stream",
     "text": [
      "# Generator general diagnostic:\n",
      "Diagnostic for SparseMatrix structure:\n",
      "- generator type:        discrete\n",
      "- number of origin states:      36\n",
      "- number of destination states: 36\n",
      "- number of transitions: 83\n",
      "- number of empty rows:  0\n",
      "- maximum outdegree:     3\n",
      "- minimum outdegree:     1\n",
      "- maximum indegree:      5\n",
      "- minimum indegree:      0\n",
      "- maximum value:                    1\n",
      "- minimum value:             0.142857\n",
      "- maximum row sum:                  1\n",
      "- minimum row sum:                  1\n",
      "- row sum mismatch:                 0\n",
      "# Communicating classes:\n",
      "number = 33\n",
      "list = ( [ 0 ] [ 1 ] [ 2 ] [ 3 ] [ 4 ] [ 5 ] [ 6 ] [ 7 ] [ 8 ] [ 9 ] [ 10 ] [ 11 ] [ 12 ] [ 13 ] [ 14 ] [ 15 ] [ 16 ] [ 17 ] [ 18 ] [ 19 ] [ 20 ] [ 21 ] [ 22 ] [ 23 27 29 33 ] [ 24 ] [ 25 ] [ 26 ] [ 28 ] [ 30 ] [ 31 ] [ 32 ] [ 34 ] [ 35 ] )\n",
      "# connectivity:\n",
      "0.00000000 0.00000000 0.00000000 0.00000000 0.00000000 0.00000000 0.00000000 0.00000000 0.00000000 0.00000000 0.00000000 0.00000000 1.00000000 0.00000000 0.00000000 0.00000000 0.00000000 0.00000000 0.00000000 0.00000000 0.00000000 0.00000000 0.00000000 0.00000000 0.00000000 0.00000000 0.00000000 0.00000000 0.00000000 0.00000000 0.00000000 0.00000000 0.00000000 \n",
      "0.00000000 0.00000000 0.00000000 0.00000000 0.00000000 0.00000000 0.00000000 0.00000000 0.00000000 0.00000000 0.00000000 0.00000000 1.00000000 0.00000000 0.00000000 0.00000000 0.00000000 0.00000000 0.00000000 0.00000000 0.00000000 0.00000000 0.00000000 0.00000000 0.00000000 0.00000000 0.00000000 0.00000000 0.00000000 0.00000000 0.00000000 0.00000000 0.00000000 \n",
      "0.00000000 0.00000000 0.00000000 0.00000000 0.00000000 0.00000000 0.00000000 0.00000000 0.00000000 0.00000000 0.00000000 0.00000000 0.00000000 0.00000000 1.00000000 0.00000000 0.00000000 0.00000000 0.00000000 0.00000000 0.00000000 0.00000000 0.00000000 0.00000000 0.00000000 0.00000000 0.00000000 0.00000000 0.00000000 0.00000000 0.00000000 0.00000000 0.00000000 \n",
      "0.00000000 0.00000000 0.00000000 0.00000000 0.00000000 0.00000000 0.00000000 0.00000000 0.00000000 0.00000000 0.00000000 0.00000000 0.00000000 0.00000000 1.00000000 0.00000000 0.00000000 0.00000000 0.00000000 0.00000000 0.00000000 0.00000000 0.00000000 0.00000000 0.00000000 0.00000000 0.00000000 0.00000000 0.00000000 0.00000000 0.00000000 0.00000000 0.00000000 \n",
      "0.00000000 0.00000000 0.00000000 0.00000000 0.00000000 0.00000000 0.00000000 0.00000000 0.00000000 0.00000000 0.00000000 0.00000000 0.00000000 0.00000000 0.00000000 0.00000000 1.00000000 0.00000000 0.00000000 0.00000000 0.00000000 0.00000000 0.00000000 0.00000000 0.00000000 0.00000000 0.00000000 0.00000000 0.00000000 0.00000000 0.00000000 0.00000000 0.00000000 \n",
      "0.00000000 0.00000000 0.00000000 0.00000000 0.00000000 0.00000000 0.00000000 0.00000000 0.00000000 0.00000000 0.00000000 0.00000000 0.00000000 0.00000000 0.00000000 0.00000000 1.00000000 0.00000000 0.00000000 0.00000000 0.00000000 0.00000000 0.00000000 0.00000000 0.00000000 0.00000000 0.00000000 0.00000000 0.00000000 0.00000000 0.00000000 0.00000000 0.00000000 \n",
      "0.00000000 0.00000000 0.00000000 0.00000000 0.00000000 0.00000000 0.00000000 0.00000000 0.00000000 0.00000000 0.00000000 0.00000000 0.00000000 0.00000000 0.00000000 0.00000000 0.00000000 0.00000000 1.00000000 0.00000000 0.00000000 0.00000000 0.00000000 0.00000000 0.00000000 0.00000000 0.00000000 0.00000000 0.00000000 0.00000000 0.00000000 0.00000000 0.00000000 \n",
      "0.00000000 0.00000000 0.00000000 0.00000000 0.00000000 0.00000000 0.00000000 0.00000000 0.00000000 0.00000000 0.00000000 0.00000000 0.00000000 0.00000000 0.00000000 0.00000000 0.00000000 0.000000"
     ]
    },
    {
     "name": "stdout",
     "output_type": "stream",
     "text": [
      "00 1.00000000 0.00000000 0.00000000 0.00000000 0.00000000 0.00000000 0.00000000 0.00000000 0.00000000 0.00000000 0.00000000 0.00000000 0.00000000 0.00000000 0.00000000 \n",
      "0.00000000 0.00000000 0.00000000 0.00000000 0.00000000 0.00000000 0.00000000 0.00000000 0.00000000 0.00000000 0.00000000 0.00000000 0.00000000 0.00000000 0.00000000 0.00000000 0.00000000 0.00000000 0.00000000 0.00000000 1.00000000 0.00000000 0.00000000 0.00000000 0.00000000 0.00000000 0.00000000 0.00000000 0.00000000 0.00000000 0.00000000 0.00000000 0.00000000 \n",
      "0.00000000 0.00000000 0.00000000 0.00000000 0.00000000 0.00000000 0.00000000 0.00000000 0.00000000 0.00000000 0.00000000 0.00000000 0.00000000 0.00000000 0.00000000 0.00000000 0.00000000 0.00000000 0.00000000 0.00000000 1.00000000 0.00000000 0.00000000 0.00000000 0.00000000 0.00000000 0.00000000 0.00000000 0.00000000 0.00000000 0.00000000 0.00000000 0.00000000 \n",
      "0.00000000 0.00000000 0.00000000 0.00000000 0.00000000 0.00000000 0.00000000 0.00000000 0.00000000 0.00000000 0.00000000 0.00000000 0.00000000 0.00000000 0.00000000 0.00000000 0.00000000 0.00000000 0.00000000 0.00000000 0.00000000 0.00000000 1.00000000 0.00000000 0.00000000 0.00000000 0.00000000 0.00000000 0.00000000 0.00000000 0.00000000 0.00000000 0.00000000 \n",
      "0.00000000 0.00000000 0.00000000 0.00000000 0.00000000 0.00000000 0.00000000 0.00000000 0.00000000 0.00000000 0.00000000 0.00000000 0.00000000 0.00000000 0.00000000 0.00000000 0.00000000 0.00000000 0.00000000 0.00000000 0.00000000 0.00000000 1.00000000 0.00000000 0.00000000 0.00000000 0.00000000 0.00000000 0.00000000 0.00000000 0.00000000 0.00000000 0.00000000 \n",
      "0.00000000 0.00000000 0.00000000 0.00000000 0.00000000 0.00000000 0.00000000 0.00000000 0.00000000 0.00000000 0.00000000 0.00000000 0.00000000 0.00000000 0.00000000 0.00000000 0.00000000 0.00000000 0.00000000 0.00000000 0.00000000 0.00000000 0.00000000 0.00000000 1.00000000 0.00000000 0.00000000 0.00000000 0.00000000 0.00000000 0.00000000 0.00000000 0.00000000 \n",
      "0.00000000 0.00000000 0.00000000 0.00000000 0.00000000 0.00000000 0.00000000 0.00000000 0.00000000 0.00000000 0.00000000 0.00000000 0.00000000 0.00000000 0.00000000 0.00000000 0.00000000 0.00000000 0.00000000 0.00000000 0.00000000 0.00000000 0.00000000 0.00000000 1.00000000 0.00000000 0.00000000 0.00000000 0.00000000 0.00000000 0.00000000 0.00000000 0.00000000 \n",
      "0.00000000 0.00000000 0.00000000 0.00000000 0.00000000 0.00000000 0.00000000 0.00000000 0.00000000 0.00000000 0.00000000 0.00000000 0.00000000 0.00000000 0.00000000 0.00000000 0.00000000 0.00000000 0.00000000 0.00000000 0.00000000 0.00000000 0.00000000 0.00000000 0.00000000 0.00000000 1.00000000 0.00000000 0.00000000 0.00000000 0.00000000 0.00000000 0.00000000 \n",
      "0.00000000 0.00000000 0.00000000 0.00000000 0.00000000 0.00000000 0.00000000 0.00000000 0.00000000 0.00000000 0.00000000 0.00000000 0.00000000 0.00000000 0.00000000 0.00000000 0.00000000 0.00000000 0.00000000 0.00000000 0.00000000 0.00000000 0.00000000 0.00000000 0.00000000 0.00000000 1.00000000 0.00000000 0.00000000 0.00000000 0.00000000 0.00000000 0.00000000 \n",
      "0.00000000 0.00000000 0.00000000 0.00000000 0.00000000 0.00000000 0.00000000 0.00000000 0.00000000 0.00000000 0.00000000 0.00000000 0.00000000 0.00000000 0.00000000 0.00000000 0.00000000 0.00000000 0.00000000 0.00000000 0.00000000 0.00000000 0.00000000 0.00000000 0.00000000 0.00000000 0.00000000 1.00000000 0.00000000 0.00000000 0.00000000 0.00000000 0.00000000 \n",
      "0.00000000 0.00000000 0.00000000 0.00000000 0.00000000 0.00000000 0.00000000 0.00000000 0.00000000 0.00000000 0.00000000 0.00000000 0.00000000 0.00000000 0.00000000 1.00000000 0.00000000 0.00000000 0.00000000 0.00000000 0.00000000 0.00000000 0.00000000 1.00000000 0.00000000 0.00000000 0.00000000 0.00000000 0.00000000 0.00000000 0.00000000 0.00000000 0.00000000 \n",
      "0.00000000 0.00000000 0.00000000 0.00000000 0.00000000 0.00000000 0.00000000 0.00000000 1.00000000 0.00000000 0.00000000 0.00000000 0.00000000 0.00000000 0.00000000 0.00000000 0.00000000 0.00000000 0.00000000 0.00000000 0.00000000 0.00000000 0.00000000 0.00000000 0.00000000 0.00000000 0.00000000 0.00000000 1.00000000 0.00000000 0.00000000 0.00000000 0.00000000 \n",
      "0.00000000 0.00000000 0.00000000 0.00000000 0.00000000 0.00000000 0.00000000 0.00000000 1.00000000 0.00000000 0.00000000 0.00000000 0.00000000 0.00000000 0.00000000 0.00000000 0.00000000 0.00000000 0.00000000 0.00000000 0.00000000 0.00000000 0.00000000 0.00000000 0.00000000 0.00000000 0.00000000 0.00000000 1.00000000 0.00000000 0.00000000 0.00000000 0.00000000 \n",
      "0.00000000 0.00000000 0.00000000 0.00000000 0.00000000 0.00000000 0.00000000 0.00000000 0.00000000 0.00000000 1.00000000 0.00000000 0.00000000 0.00000000 0.00000000 0.00000000 0.00000000 0.00000000 0.00000000 0.00000000 0.00000000 0.00000000 0.00000000 0.00000000 0.00000000 0.00000000 0.00000000 0.00000000 0.00000000 0.00000000 1.00000000 0.00000000 0.00000000 \n",
      "0.00000000 0.00000000 0.00000000 0.00000000 0.00000000 0.00000000 0.00000000 0.00000000 0.00000000 0.00000000 1.00000000 0.00000000 0.00000000 0.00000000 0.00000000 0.00000000 0.00000000 0.00000000 0.00000000 0.00000000 0.00000000 0.00000000 0.00000000 0.00000000 0.00000000 0.00000000 0.00000000 0.00000000 0.00000000 0.00000000 1.00000000 0.00000000 0.00000000 \n",
      "0.00000000 0.00000000 0.00000000 0.00000000 0.00000000 0.00000000 0.00000000 0.00000000 0.00000000 0.00000000 0.00000000 0.00000000 0.00000000 0.00000000 0.00000000 0.00000000 0.00000000 0.00000000 0.00000000 0.00000000 0.00000000 0.00000000 0.00000000 0.00000000 0.00000000 0.00000000 0.00000000 1.00000000 0.00000000 0.00000000 0.00000000 0.00000000 0.00000000 \n",
      "0.00000000 0.00000000 0.00000000 0.00000000 0.00000000 0.00000000 0.00000000 0.00000000 0.00000000 0.00000000 0.00000000 0.00000000 0.00000000 0.00000000 0.00000000 1.00000000 0.00000000 0.00000000 0.00000000 0.00000000 0.00000000 0.00000000 0.00000000 0.00000000 0.00000000 0.00000000 0.00000000 0.00000000 0.00000000 1.00000000 0.00000000 0.00000000 0.00000000 \n",
      "0.00000000 0.00000000 0.00000000 0.00000000 0.00000000 0.00000000 0.00000000 0.00000000 0.00000000 0.00000000 0.00000000 0.00000000 0.00000000 0.00000000 0.00000000 0.00000000 0.00000000 0.00000000 0.00000000 0.00000000 1.00000000 0.00000000 0.00000000 0.00000000 0.00000000 0.00000000 0.00000000 0.00000000 1.00000000 0.00000000 0.00000000 0.00000000 0.00000000 \n",
      "0.00000000 0.00000000 0.00000000 0.00000000 0.00000000 0.00000000 0.00000000 0.00000000 0.00000000 0.00000000 0.00000000 0.00000000 0.00000000 0.00000000 0.00000000 0.00000000 0.00000000 0.00000000 0.00000000 0.00000000 0.00000000 1.00000000 0.00000000 0.00000000 0.00000000 0.00000000 0.00000000 0.00000000 0.00000000 1.00000000 0.00000000 0.00000000 0.00000000 \n",
      "0.00000000 0.00000000 0.00000000 0.00000000 0.00000000 0.00000000 0.00000000 0.00000000 0.00000000 0.00000000 0.00000000 0.00000000 0.00000000 0.00000000 0.00000000 0.00000000 0.00000000 0.00000000 0.00000000 0.00000000 0.00000000 0.00000000 1.00000000 0.00000000 0.00000000 0.00000000 0.00000000 0.00000000 0.00000000 0.00000000 1.00000000 0.00000000 0.00000000 \n",
      "0.00000000 0.00000000 0.00000000 0.00000000 0.00000000 0.00000000 0.00000000 0.00000000 0.00000000 0.00000000 0.00000000 0.00000000 0.00000000 0.00000000 0.00000000 0.00000000 0.00000000 0.00000000 0.00000000 0.00000000 0.00000000 0.00000000 0.00000000 0.00000000 0.00000000 0.00000000 0.00000000 0.00000000 0.00000000 0.00000000 0.00000000 0.00000000 0.00000000 \n",
      "0.00000000 0.00000000 0.00000000 0.00000000 0.00000000 0.00000000 0.00000000 0.00000000 0.00000000 0.00000000 0.00000000 0.00000000 0.00000000 0.00000000 0.00000000 0.00000000 0.00000000 0.00000000 0.00000000 0.00000000 1.00000000 0.00000000 0.00000000 0.00000000 0.00000000 0.00000000 0.00000000 0.00000000 0.00000000 0.00000000 0.00000000 0.00000000 0.00000000 \n",
      "0.00000000 0.00000000 0.00000000 0.00000000 0.00000000 0.00000000 0.00000000 0.00000000 0.00000000 0.00000000 0.00000000 0.00000000 0.00000000 0.00000000 0.00000000 0.00000000 0.00000000 0.00000000 0.00000000 0.00000000 0.00000000 1.00000000 0.00000000 0.00000000 0.00000000 0.00000000 0.00000000 0.00000000 0.00000000 0.00000000 0.00000000 0.00000000 0.00000000 \n",
      "0.00000000 0.00000000 0.00000000 0.00000000 0.00000000 0.00000000 0.00000000 0.00000000 0.00000000 0.00000000 0.00000000 0.00000000 0.00000000 0.00000000 0.00000000 0.00000000 0.00000000 0.00000000 0.00000000 0.00000000 0.00000000 0.00000000 1.00000000 0.00000000 0.00000000 0.00000000 0.00000000 0.00000000 0.00000000 0.00000000 0.00000000 0.00000000 0.00000000 \n",
      "0.00000000 0.00000000 0.00000000 0.00000000 0.00000000 0.00000000 0.00000000 0.00000000 0.00000000 0.00000000 0.00000000 0.00000000 0.00000000 0.00000000 0.00000000 0.00000000 0.00000000 0.00000000 0.00000000 0.00000000 0.00000000 0.00000000 1.00000000 0.00000000 0.00000000 0.00000000 0.00000000 0.00000000 0.00000000 0.00000000 0.00000000 0.00000000 0.00000000 \n",
      "0.00000000 0.00000000 0.00000000 0.00000000 0.00000000 0.00000000 0.00000000 0.00000000 0.00000000 0.00000000 0.00000000 0.00000000 0.00000000 0.00000000 0.00000000 0.00000000 0.00000000 0.00000000 0.00000000 0.00000000 0.00000000 0.00000000 0.00000000 1.00000000 0.00000000 0.00000000 0.00000000 0.00000000 0.00000000 0.00000000 0.00000000 0.00000000 0.00000000 \n",
      "# Recurrent classes:\n",
      "number = 1\n",
      "list = ( [ 28 ] )\n",
      "# Absorbing states:\n",
      "number = 1\n",
      "list = [ 28 ]\n",
      "# Period: 1\n"
     ]
    }
   ],
   "source": [
    "Mat.FullDiagnose()"
   ]
  },
  {
   "cell_type": "markdown",
   "id": "040a429d",
   "metadata": {},
   "source": [
    "**Evaluate the policy**\n",
    "\n",
    "Now we can evaluate the policy by the way of the `PolicyCost` method"
   ]
  },
  {
   "cell_type": "code",
   "execution_count": 16,
   "id": "d9b10156",
   "metadata": {
    "execution": {
     "iopub.execute_input": "2025-06-10T19:32:33.775996Z",
     "iopub.status.busy": "2025-06-10T19:32:33.775799Z",
     "iopub.status.idle": "2025-06-10T19:32:33.780090Z",
     "shell.execute_reply": "2025-06-10T19:32:33.779185Z"
    }
   },
   "outputs": [
    {
     "name": "stdout",
     "output_type": "stream",
     "text": [
      "#############################################\n",
      "Solution of MDP problem\n",
      "Size of the state space: 36\n",
      "#############################################\n",
      "Solution model: Feedback Stationary Policy\n",
      "- column 1: index of the state\n",
      "- column 2: Value function \n",
      "- column 3: Optimal action \n",
      "\n",
      "  0          0.817848   1\n",
      "  1          0.161599   1\n",
      "  2           1.23627   1\n",
      "  3           0.35928   1\n",
      "  4          0.414941   0\n",
      "  5          0.414941   0\n",
      "  6           1.14597   1\n",
      "  7          0.489724   1\n",
      "  8           1.67476   1\n",
      "  9          0.797774   1\n",
      " 10          0.861555   0\n",
      " 11          0.861555   0\n",
      " 12           1.63417   1\n",
      " 13          0.740944   1\n",
      " 14           2.33983   1\n",
      " 15           1.17051   1\n",
      " 16           1.28234   0\n",
      " 17           1.28234   0\n",
      " 18           2.08079   1\n",
      " 19           1.18756   1\n",
      " 20           2.92449   1\n",
      " 21           1.75517   1\n",
      " 22           1.87782   0\n",
      " 23           1.87782   0\n",
      " 24           5.24872   0\n",
      " 25           5.24981   0\n",
      " 26           7.21699   0\n",
      " 27           7.21849   0\n",
      " 28           7.43568   0\n",
      " 29           7.43724   0\n",
      " 30           5.69643   0\n",
      " 31           5.69643   0\n",
      " 32           7.81398   0\n",
      " 33           7.81398   0\n",
      " 34           8.03272   0\n",
      " 35           8.03272   0\n",
      "#############################################\n",
      "\n",
      "\n"
     ]
    }
   ],
   "source": [
    "ctmdp.PolicyCost(policy,0.01,75)\n",
    "print(policy)"
   ]
  },
  {
   "cell_type": "markdown",
   "id": "e54e4860",
   "metadata": {},
   "source": [
    "### Check if the value function has structural property (convex,monotone)"
   ]
  },
  {
   "cell_type": "markdown",
   "id": "f8dda597",
   "metadata": {},
   "source": [
    "This is done by building a specific object `PropertiesValue`."
   ]
  },
  {
   "cell_type": "code",
   "execution_count": 17,
   "id": "a1ac0d67",
   "metadata": {
    "execution": {
     "iopub.execute_input": "2025-06-10T19:32:33.782295Z",
     "iopub.status.busy": "2025-06-10T19:32:33.782079Z",
     "iopub.status.idle": "2025-06-10T19:32:33.788819Z",
     "shell.execute_reply": "2025-06-10T19:32:33.787844Z"
    }
   },
   "outputs": [
    {
     "name": "stdout",
     "output_type": "stream",
     "text": [
      "Printing monotonicity property of value function (1 if increasing -1 if decreasing 0 otherwise) : 0\n",
      "Checking convexity\n",
      "Printing convexity property of value function (1 if convex -1 concave 0 otherwise) : 0\n"
     ]
    }
   ],
   "source": [
    "checkValue =  md.PropertiesValue(states)\n",
    "checkValue.avoidDetail()\n",
    "monotonicity=checkValue.Monotonicity(optimum)\n",
    "print(\"Printing monotonicity property of value function (1 if increasing -1 if decreasing 0 otherwise) : \"\\\n",
    "      + str(monotonicity) )\n",
    "\n",
    "print(\"Checking convexity\")\n",
    "convexity=checkValue.Convexity(optimum)\n",
    "print(\"Printing convexity property of value function (1 if convex -1 concave 0 otherwise) : \" + \\\n",
    "      str(convexity))"
   ]
  },
  {
   "cell_type": "markdown",
   "id": "3f4e812b",
   "metadata": {},
   "source": [
    "The analysis can be made dimension by dimension. Now we check the monotonicty of the first dimension by letting vary the entries with index 0 and keeping the other dimensions fixed."
   ]
  },
  {
   "cell_type": "code",
   "execution_count": 18,
   "id": "e5b33527",
   "metadata": {
    "execution": {
     "iopub.execute_input": "2025-06-10T19:32:33.791620Z",
     "iopub.status.busy": "2025-06-10T19:32:33.791366Z",
     "iopub.status.idle": "2025-06-10T19:32:33.795802Z",
     "shell.execute_reply": "2025-06-10T19:32:33.794987Z"
    }
   },
   "outputs": [
    {
     "name": "stdout",
     "output_type": "stream",
     "text": [
      "Following dimension 0 monotonicity is 1\n"
     ]
    }
   ],
   "source": [
    "monotonicity=checkValue.MonotonicityByDim(optimum,0)\n",
    "print(\"Following dimension 0 monotonicity is\",str(monotonicity))"
   ]
  },
  {
   "cell_type": "markdown",
   "id": "e3c8d0c7",
   "metadata": {},
   "source": [
    "### Check if the optimal policy has structural property"
   ]
  },
  {
   "cell_type": "markdown",
   "id": "708ad103",
   "metadata": {},
   "source": [
    "The structural analysis of a policy property is carried out using a `PropertiesValue` object."
   ]
  },
  {
   "cell_type": "code",
   "execution_count": 19,
   "id": "7fe7f261",
   "metadata": {
    "execution": {
     "iopub.execute_input": "2025-06-10T19:32:33.797821Z",
     "iopub.status.busy": "2025-06-10T19:32:33.797596Z",
     "iopub.status.idle": "2025-06-10T19:32:33.802335Z",
     "shell.execute_reply": "2025-06-10T19:32:33.801645Z"
    }
   },
   "outputs": [
    {
     "name": "stdout",
     "output_type": "stream",
     "text": [
      "Checking Structural Properties of value\n",
      "PropertiesPolicy::MonotonicityOptimalPolicy=0\n"
     ]
    }
   ],
   "source": [
    "print(\"Checking Structural Properties of value\")\n",
    "checkPolicy =  md.PropertiesPolicy(states)\n",
    "\n",
    "monotonicity=checkPolicy.Monotonicity(optimum)\n",
    "print(\"PropertiesPolicy::MonotonicityOptimalPolicy=\"+str(monotonicity))"
   ]
  },
  {
   "cell_type": "markdown",
   "id": "331d64f8",
   "metadata": {},
   "source": [
    "End"
   ]
  }
 ],
 "metadata": {
  "kernelspec": {
   "display_name": "marmote-use",
   "language": "python",
   "name": "python3"
  },
  "language_info": {
   "codemirror_mode": {
    "name": "ipython",
    "version": 3
   },
   "file_extension": ".py",
   "mimetype": "text/x-python",
   "name": "python",
   "nbconvert_exporter": "python",
   "pygments_lexer": "ipython3",
   "version": "3.11.11"
  }
 },
 "nbformat": 4,
 "nbformat_minor": 5
}
