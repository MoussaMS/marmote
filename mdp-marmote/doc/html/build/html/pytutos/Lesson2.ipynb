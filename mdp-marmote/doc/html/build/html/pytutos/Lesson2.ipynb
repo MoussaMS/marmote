{
 "cells": [
  {
   "cell_type": "markdown",
   "id": "8bcca824-dcd6-4638-a425-cd703944de86",
   "metadata": {},
   "source": [
    "# Lesson 2: solving Markov chains"
   ]
  },
  {
   "cell_type": "code",
   "execution_count": 1,
   "id": "ad3c00f8-dc44-4bfb-8677-95bb5cfcb38c",
   "metadata": {
    "editable": true,
    "execution": {
     "iopub.execute_input": "2025-05-19T21:45:21.637933Z",
     "iopub.status.busy": "2025-05-19T21:45:21.637653Z",
     "iopub.status.idle": "2025-05-19T21:45:21.728800Z",
     "shell.execute_reply": "2025-05-19T21:45:21.728297Z"
    },
    "slideshow": {
     "slide_type": ""
    },
    "tags": []
   },
   "outputs": [],
   "source": [
    "import marmote.core as mc\n",
    "import marmote.markovchain as mmc\n",
    "import numpy as np"
   ]
  },
  {
   "cell_type": "markdown",
   "id": "e57eb194-a334-4634-9bc7-0814e74bdd5f",
   "metadata": {
    "editable": true,
    "slideshow": {
     "slide_type": ""
    },
    "tags": []
   },
   "source": [
    "In Lesson1, we have seen how to create and inspect Markov chains. We now illustrates the different metrics that can be computed on them\n",
    "(what is called \"the solution\")."
   ]
  },
  {
   "cell_type": "markdown",
   "id": "32cd92b0-afcf-4ce7-bd0c-908cd777698e",
   "metadata": {},
   "source": [
    "## First example: solving discrete-time Markov chains"
   ]
  },
  {
   "cell_type": "markdown",
   "id": "483fc25d-0809-473e-acf1-826a7978ef72",
   "metadata": {
    "editable": true,
    "slideshow": {
     "slide_type": ""
    },
    "tags": []
   },
   "source": [
    "We first (re)create the 3-state discrete-time Markov chain of Lesson 1"
   ]
  },
  {
   "cell_type": "code",
   "execution_count": 2,
   "id": "516e49a9-82ff-420a-ace3-d3d6f403f0fc",
   "metadata": {
    "editable": true,
    "execution": {
     "iopub.execute_input": "2025-05-19T21:45:21.732230Z",
     "iopub.status.busy": "2025-05-19T21:45:21.731295Z",
     "iopub.status.idle": "2025-05-19T21:45:21.737223Z",
     "shell.execute_reply": "2025-05-19T21:45:21.736783Z"
    },
    "slideshow": {
     "slide_type": ""
    },
    "tags": []
   },
   "outputs": [],
   "source": [
    "states = np.array( [0, 1, 2] )\n",
    "n = states.shape[0]\n",
    "P = mc.FullMatrix(n)\n",
    "P.set_type(mc.DISCRETE)\n",
    "P.setEntry(0,0,0.25)\n",
    "P.setEntry(0,1,0.5)\n",
    "P.setEntry(0,2,0.25)\n",
    "P.setEntry(1,0,0.4)\n",
    "P.setEntry(1,1,0.2)\n",
    "P.setEntry(1,2,0.4)\n",
    "P.setEntry(2,0,0.4)\n",
    "P.setEntry(2,1,0.3)\n",
    "P.setEntry(2,2,0.3)\n",
    "initial_prob = np.array( [0.2, 0.2, 0.6] )\n",
    "initial = mc.DiscreteDistribution(states, initial_prob)"
   ]
  },
  {
   "cell_type": "code",
   "execution_count": 3,
   "id": "41755ed1-d813-4747-acde-48da054c1591",
   "metadata": {
    "editable": true,
    "execution": {
     "iopub.execute_input": "2025-05-19T21:45:21.739791Z",
     "iopub.status.busy": "2025-05-19T21:45:21.739161Z",
     "iopub.status.idle": "2025-05-19T21:45:21.742753Z",
     "shell.execute_reply": "2025-05-19T21:45:21.742391Z"
    },
    "slideshow": {
     "slide_type": ""
    },
    "tags": []
   },
   "outputs": [],
   "source": [
    "c1 = mmc.MarkovChain( P )\n",
    "c1.set_init_distribution(initial)\n",
    "c1.set_model_name( \"Demo\" )"
   ]
  },
  {
   "cell_type": "markdown",
   "id": "a7c05384-0e09-4558-860b-8a5d33331181",
   "metadata": {},
   "source": [
    "### Transient distributions"
   ]
  },
  {
   "cell_type": "markdown",
   "id": "827a21e6-2600-43d2-a160-819357f6f7b1",
   "metadata": {},
   "source": [
    "To compute transient distributions, the method to be called is `TransientDistributionDT` with argument the 'time' or number of steps."
   ]
  },
  {
   "cell_type": "code",
   "execution_count": 4,
   "id": "5a4d67a5-000f-4ea0-afa5-f2f32dfce67d",
   "metadata": {
    "execution": {
     "iopub.execute_input": "2025-05-19T21:45:21.744895Z",
     "iopub.status.busy": "2025-05-19T21:45:21.744380Z",
     "iopub.status.idle": "2025-05-19T21:45:21.747351Z",
     "shell.execute_reply": "2025-05-19T21:45:21.747044Z"
    }
   },
   "outputs": [],
   "source": [
    "pi1 = c1.TransientDistributionDT( 1 )\n",
    "pi2 = c1.TransientDistributionDT( 2 )\n",
    "pi3 = c1.TransientDistributionDT( 3 )"
   ]
  },
  {
   "cell_type": "code",
   "execution_count": 5,
   "id": "2cb5ee18-1005-43a4-b1a3-a6f4a3cca5cd",
   "metadata": {
    "execution": {
     "iopub.execute_input": "2025-05-19T21:45:21.749221Z",
     "iopub.status.busy": "2025-05-19T21:45:21.748750Z",
     "iopub.status.idle": "2025-05-19T21:45:21.752183Z",
     "shell.execute_reply": "2025-05-19T21:45:21.751883Z"
    }
   },
   "outputs": [
    {
     "name": "stdout",
     "output_type": "stream",
     "text": [
      "Discrete distribution values { 0  1  2  } probas {     0.37     0.32     0.31 }\n",
      "Discrete distribution values { 0  1  2  } probas {   0.3445    0.342   0.3135 }\n",
      "Discrete distribution values { 0  1  2  } probas {   0.3483   0.3347    0.317 }\n"
     ]
    }
   ],
   "source": [
    "print( pi1 )\n",
    "print( pi2 )\n",
    "print( pi3 )"
   ]
  },
  {
   "cell_type": "markdown",
   "id": "ebbb9b1b-a913-4343-aa26-a2a63c9fdac3",
   "metadata": {},
   "source": [
    "It is of course possible to change the initial distribution. Other distributions of the `DiscreteDistribution` family can be used.<br>\n",
    "A typical one is `DiracDistribution`."
   ]
  },
  {
   "cell_type": "code",
   "execution_count": 6,
   "id": "a3e7435c-dc55-4170-865e-e64cbeb69f01",
   "metadata": {
    "execution": {
     "iopub.execute_input": "2025-05-19T21:45:21.754078Z",
     "iopub.status.busy": "2025-05-19T21:45:21.753560Z",
     "iopub.status.idle": "2025-05-19T21:45:21.757916Z",
     "shell.execute_reply": "2025-05-19T21:45:21.757555Z"
    }
   },
   "outputs": [
    {
     "name": "stdout",
     "output_type": "stream",
     "text": [
      "Dirac distribution at 0\n",
      "Discrete distribution values { 0 1 2 } probas {     0.25      0.5     0.25 }\n",
      "Discrete distribution values { 0  1  2  } probas {   0.3625      0.3   0.3375 }\n",
      "Discrete distribution values { 0  1  2  } probas {   0.3456   0.3425   0.3119 }\n"
     ]
    }
   ],
   "source": [
    "pi0 = mc.DiracDistribution(0)\n",
    "c1.set_init_distribution(pi0)\n",
    "pi1 = c1.TransientDistributionDT( 1 )\n",
    "pi2 = c1.TransientDistributionDT( 2 )\n",
    "pi3 = c1.TransientDistributionDT( 3 )\n",
    "print( pi0 )\n",
    "print( pi1 )\n",
    "print( pi2 )\n",
    "print( pi3 )"
   ]
  },
  {
   "cell_type": "markdown",
   "id": "91c3a8f0-637e-4c65-854b-4ef382629b04",
   "metadata": {},
   "source": [
    "Another possibility is `UniformDiscreteDistribution`."
   ]
  },
  {
   "cell_type": "code",
   "execution_count": 7,
   "id": "1e548819-5250-4228-90c9-6019f2bcfd9a",
   "metadata": {
    "execution": {
     "iopub.execute_input": "2025-05-19T21:45:21.759948Z",
     "iopub.status.busy": "2025-05-19T21:45:21.759436Z",
     "iopub.status.idle": "2025-05-19T21:45:21.764144Z",
     "shell.execute_reply": "2025-05-19T21:45:21.763216Z"
    }
   },
   "outputs": [
    {
     "name": "stdout",
     "output_type": "stream",
     "text": [
      "Discrete uniform distribution on [0..2]\n",
      "Discrete distribution values { 0  1  2  } probas {     0.35   0.3333   0.3167 }\n",
      "Discrete distribution values { 0  1  2  } probas {   0.3475   0.3367   0.3158 }\n",
      "Discrete distribution values { 0  1  2  } probas {   0.3479   0.3358   0.3163 }\n"
     ]
    }
   ],
   "source": [
    "pi0 = mc.UniformDiscreteDistribution(0,2)\n",
    "c1.set_init_distribution(pi0)\n",
    "pi1 = c1.TransientDistributionDT( 1 )\n",
    "pi2 = c1.TransientDistributionDT( 2 )\n",
    "pi3 = c1.TransientDistributionDT( 3 )\n",
    "print( pi0 )\n",
    "print( pi1 )\n",
    "print( pi2 )\n",
    "print( pi3 )"
   ]
  },
  {
   "cell_type": "markdown",
   "id": "1dcfacf8-1d3d-4d02-8ee3-17c505c7bb75",
   "metadata": {},
   "source": [
    "### Stationary distribution"
   ]
  },
  {
   "cell_type": "markdown",
   "id": "745ebd48-622a-4337-8538-058a3d01220c",
   "metadata": {},
   "source": [
    "Computing the stationary distribution of a Markov chain is a typical activity of the Markov modeler.\n",
    "`Marmote` provides several ways to perform this task."
   ]
  },
  {
   "cell_type": "markdown",
   "id": "1bace7b7-fe96-42d8-adc8-0ccfb33853f9",
   "metadata": {},
   "source": [
    "There exists a default method `StationaryDistribution()` for users who don't want to bother about details."
   ]
  },
  {
   "cell_type": "code",
   "execution_count": 8,
   "id": "d767b84f-ea5d-4b8d-95e7-9d0ca39ca637",
   "metadata": {
    "execution": {
     "iopub.execute_input": "2025-05-19T21:45:21.765924Z",
     "iopub.status.busy": "2025-05-19T21:45:21.765776Z",
     "iopub.status.idle": "2025-05-19T21:45:21.769020Z",
     "shell.execute_reply": "2025-05-19T21:45:21.768231Z"
    }
   },
   "outputs": [],
   "source": [
    "pista = c1.StationaryDistribution()"
   ]
  },
  {
   "cell_type": "code",
   "execution_count": 9,
   "id": "51dc5aeb-f88c-4308-89e9-eec68b595e52",
   "metadata": {
    "execution": {
     "iopub.execute_input": "2025-05-19T21:45:21.770683Z",
     "iopub.status.busy": "2025-05-19T21:45:21.770551Z",
     "iopub.status.idle": "2025-05-19T21:45:21.773404Z",
     "shell.execute_reply": "2025-05-19T21:45:21.772709Z"
    }
   },
   "outputs": [
    {
     "name": "stdout",
     "output_type": "stream",
     "text": [
      "Discrete distribution values { 0  1  2  } probas {   0.3478    0.336   0.3162 }\n"
     ]
    }
   ],
   "source": [
    "print(pista)"
   ]
  },
  {
   "cell_type": "markdown",
   "id": "14832146-70c3-4ffe-a0ab-eb3c8a2d91bd",
   "metadata": {},
   "source": [
    "This is an iterative and approximate method. To see that the result is not exact, use the `TransientDistribution()` method to perform one step of the transition matrix. Then compute the distance between the two distributions."
   ]
  },
  {
   "cell_type": "code",
   "execution_count": 10,
   "id": "cfb6f951-0170-4946-bd56-fda80a224484",
   "metadata": {
    "execution": {
     "iopub.execute_input": "2025-05-19T21:45:21.775063Z",
     "iopub.status.busy": "2025-05-19T21:45:21.774918Z",
     "iopub.status.idle": "2025-05-19T21:45:21.778596Z",
     "shell.execute_reply": "2025-05-19T21:45:21.777764Z"
    }
   },
   "outputs": [
    {
     "name": "stdout",
     "output_type": "stream",
     "text": [
      "Distance between pi and pi.P: 3.409902343820548e-08\n"
     ]
    }
   ],
   "source": [
    "c1.set_init_distribution( pista )\n",
    "dis = c1.TransientDistributionDT(1)\n",
    "print( \"Distance between pi and pi.P:\", mc.DiscreteDistribution.DistanceL1( pista, dis ) )"
   ]
  },
  {
   "cell_type": "markdown",
   "id": "e1a41059-b95e-4609-975d-9d49896290bc",
   "metadata": {},
   "source": [
    "`Marmote` provides an improved iterative method, the **red light green light** algorithm recently published by Brown, Avrachenkov and Nitvak."
   ]
  },
  {
   "cell_type": "code",
   "execution_count": 11,
   "id": "31bf9e7e-2ab0-4503-9037-a6dc78e00340",
   "metadata": {
    "execution": {
     "iopub.execute_input": "2025-05-19T21:45:21.780709Z",
     "iopub.status.busy": "2025-05-19T21:45:21.780118Z",
     "iopub.status.idle": "2025-05-19T21:45:21.783252Z",
     "shell.execute_reply": "2025-05-19T21:45:21.782678Z"
    }
   },
   "outputs": [],
   "source": [
    "pista2 = c1.StationaryDistributionRLGL( 100, 1e-10, mc.UniformDiscreteDistribution(0,2), False )"
   ]
  },
  {
   "cell_type": "code",
   "execution_count": 12,
   "id": "62cb31a2-d611-481e-8bf3-7d688702bed2",
   "metadata": {
    "execution": {
     "iopub.execute_input": "2025-05-19T21:45:21.785030Z",
     "iopub.status.busy": "2025-05-19T21:45:21.784663Z",
     "iopub.status.idle": "2025-05-19T21:45:21.789599Z",
     "shell.execute_reply": "2025-05-19T21:45:21.789009Z"
    }
   },
   "outputs": [
    {
     "data": {
      "text/plain": [
       "2.962278516926986e-08"
      ]
     },
     "execution_count": 12,
     "metadata": {},
     "output_type": "execute_result"
    }
   ],
   "source": [
    "mc.DiscreteDistribution.DistanceL1( pista, pista2 )"
   ]
  },
  {
   "cell_type": "markdown",
   "id": "dfa9f465-4116-4023-967e-86d2226eb130",
   "metadata": {},
   "source": [
    "Of course, for such a small example, the exact distribution can be computed.\n",
    "Compare the approximate solution with the exact one."
   ]
  },
  {
   "cell_type": "code",
   "execution_count": 13,
   "id": "8588b896-d1c0-4c5d-b3b4-5b190e0cd1a0",
   "metadata": {
    "execution": {
     "iopub.execute_input": "2025-05-19T21:45:21.791418Z",
     "iopub.status.busy": "2025-05-19T21:45:21.791024Z",
     "iopub.status.idle": "2025-05-19T21:45:21.794442Z",
     "shell.execute_reply": "2025-05-19T21:45:21.793862Z"
    }
   },
   "outputs": [
    {
     "name": "stdout",
     "output_type": "stream",
     "text": [
      "Discrete distribution values { 0 1 2 } probas {   0.3478    0.336   0.3162 }\n"
     ]
    }
   ],
   "source": [
    "prosta_ex = np.array( [ 8/23, 85/253, 80/253 ], dtype=float )\n",
    "pista_ex = mc.DiscreteDistribution( states, prosta_ex )\n",
    "print(pista_ex)"
   ]
  },
  {
   "cell_type": "code",
   "execution_count": 14,
   "id": "db86a0c2-80d6-4642-b03f-b6878df8e696",
   "metadata": {
    "execution": {
     "iopub.execute_input": "2025-05-19T21:45:21.796361Z",
     "iopub.status.busy": "2025-05-19T21:45:21.795728Z",
     "iopub.status.idle": "2025-05-19T21:45:21.799236Z",
     "shell.execute_reply": "2025-05-19T21:45:21.798611Z"
    }
   },
   "outputs": [
    {
     "name": "stdout",
     "output_type": "stream",
     "text": [
      "Distance between numerical pi (standard) and exact pi: 2.963156187085758e-08\n",
      "Distance between numerical pi (RLGL) and exact pi: 2.457783976339556e-11\n"
     ]
    }
   ],
   "source": [
    "print( \"Distance between numerical pi (standard) and exact pi:\", mc.DiscreteDistribution.DistanceL1( pista, pista_ex ) )\n",
    "print( \"Distance between numerical pi (RLGL) and exact pi:\", mc.DiscreteDistribution.DistanceL1( pista2, pista_ex ) )"
   ]
  },
  {
   "cell_type": "markdown",
   "id": "beb430dc-78fe-4b8e-8589-9c723f8c8d31",
   "metadata": {},
   "source": [
    "Finally, check that the exact stationary distribution is exact."
   ]
  },
  {
   "cell_type": "code",
   "execution_count": 15,
   "id": "185a09dc-c92c-4f04-b809-3b2abbb6ebca",
   "metadata": {
    "execution": {
     "iopub.execute_input": "2025-05-19T21:45:21.801018Z",
     "iopub.status.busy": "2025-05-19T21:45:21.800529Z",
     "iopub.status.idle": "2025-05-19T21:45:21.803450Z",
     "shell.execute_reply": "2025-05-19T21:45:21.802773Z"
    }
   },
   "outputs": [],
   "source": [
    "c1.set_init_distribution(pista_ex)\n",
    "didi = c1.TransientDistributionDT(1)"
   ]
  },
  {
   "cell_type": "code",
   "execution_count": 16,
   "id": "f109cda6-ca74-4c67-ab4c-12a09af82226",
   "metadata": {
    "execution": {
     "iopub.execute_input": "2025-05-19T21:45:21.805139Z",
     "iopub.status.busy": "2025-05-19T21:45:21.804719Z",
     "iopub.status.idle": "2025-05-19T21:45:21.808052Z",
     "shell.execute_reply": "2025-05-19T21:45:21.807622Z"
    }
   },
   "outputs": [
    {
     "data": {
      "text/plain": [
       "0.0"
      ]
     },
     "execution_count": 16,
     "metadata": {},
     "output_type": "execute_result"
    }
   ],
   "source": [
    "mc.DiscreteDistribution.DistanceL1( pista_ex, didi )"
   ]
  },
  {
   "cell_type": "markdown",
   "id": "54e9e2b9-fc6a-4fd9-86b9-8a43c2e6c883",
   "metadata": {},
   "source": [
    "### Simulation"
   ]
  },
  {
   "cell_type": "markdown",
   "id": "409ed7df-d23e-43da-b6b9-0cd4e1084a04",
   "metadata": {},
   "source": [
    "Simulation has plenty of controls. The basic syntax is `SimulateChain( nb_steps, stats, traj, trace )` where:\n",
    "\n",
    "* `nb_steps` is the number of time instants to simulate\n",
    "* `stats` is a boolean specifying if occupancy statistics are to be kept\n",
    "* `traj` is a boolean specifying if a trajectory is to be kept\n",
    "* `trace` is a boolean specifying if the trajectory is to be printed along the way."
   ]
  },
  {
   "cell_type": "markdown",
   "id": "2440743e-a895-4698-a135-e10382f80930",
   "metadata": {},
   "source": [
    "For instance, a simulation of 10 time steps, no statistics, a trajectory which is not printed."
   ]
  },
  {
   "cell_type": "code",
   "execution_count": 17,
   "id": "a7b9e343-68a5-4506-8366-870fad5f34ad",
   "metadata": {
    "execution": {
     "iopub.execute_input": "2025-05-19T21:45:21.809425Z",
     "iopub.status.busy": "2025-05-19T21:45:21.809192Z",
     "iopub.status.idle": "2025-05-19T21:45:21.811776Z",
     "shell.execute_reply": "2025-05-19T21:45:21.811315Z"
    }
   },
   "outputs": [],
   "source": [
    "simRes = c1.SimulateChainDT( 10, stats=False, traj=True, trace=False )"
   ]
  },
  {
   "cell_type": "markdown",
   "id": "f03ba729-9b86-4af1-bb3b-b707d5f32601",
   "metadata": {},
   "source": [
    "Inspecting the features of the simulation object: there is indeed a DT (discrete-time) trajectory, but no CT (continuous-time) trajectory."
   ]
  },
  {
   "cell_type": "code",
   "execution_count": 18,
   "id": "153b65c7-2beb-4389-9d04-1af92edd8de1",
   "metadata": {
    "execution": {
     "iopub.execute_input": "2025-05-19T21:45:21.813738Z",
     "iopub.status.busy": "2025-05-19T21:45:21.813238Z",
     "iopub.status.idle": "2025-05-19T21:45:21.816453Z",
     "shell.execute_reply": "2025-05-19T21:45:21.815951Z"
    }
   },
   "outputs": [
    {
     "name": "stdout",
     "output_type": "stream",
     "text": [
      "# Simulation result\n",
      "# Time type: discrete\n",
      "# Keeps a trajectory of size 11\n",
      "# DT trajectory size: 11\n",
      "# CT trajectory size: 0\n",
      "# Last state: 2\n",
      "# Last time:  10\n"
     ]
    }
   ],
   "source": [
    "simRes.Diagnose()"
   ]
  },
  {
   "cell_type": "markdown",
   "id": "56581552-7f78-41ba-a93b-1060fc085ff7",
   "metadata": {},
   "source": [
    "Listing the details."
   ]
  },
  {
   "cell_type": "code",
   "execution_count": 19,
   "id": "0b61568c-1478-4467-b7c9-55b07f03f754",
   "metadata": {
    "execution": {
     "iopub.execute_input": "2025-05-19T21:45:21.818044Z",
     "iopub.status.busy": "2025-05-19T21:45:21.817708Z",
     "iopub.status.idle": "2025-05-19T21:45:21.821081Z",
     "shell.execute_reply": "2025-05-19T21:45:21.820351Z"
    }
   },
   "outputs": [
    {
     "name": "stdout",
     "output_type": "stream",
     "text": [
      "[ 0  1  2  3  4  5  6  7  8  9 10]\n",
      "[0 2 2 1 0 0 1 0 1 2 2]\n",
      "10\n",
      "2\n"
     ]
    }
   ],
   "source": [
    "print( simRes.DT_dates() )\n",
    "print( simRes.states() )\n",
    "print( simRes.lastDate() )\n",
    "print( simRes.lastState() )"
   ]
  },
  {
   "cell_type": "markdown",
   "id": "4fe065ee-2ded-449c-89a5-743ce883e2d2",
   "metadata": {},
   "source": [
    "Running again with trajectory printed but not kept, and stats.\n",
    "\n",
    "Observe the repeated last columns with states. More explanations on this below."
   ]
  },
  {
   "cell_type": "code",
   "execution_count": 20,
   "id": "b6bbc881-2c2f-4984-91cb-67b66711081c",
   "metadata": {
    "execution": {
     "iopub.execute_input": "2025-05-19T21:45:21.823079Z",
     "iopub.status.busy": "2025-05-19T21:45:21.822579Z",
     "iopub.status.idle": "2025-05-19T21:45:21.826439Z",
     "shell.execute_reply": "2025-05-19T21:45:21.825644Z"
    }
   },
   "outputs": [
    {
     "name": "stdout",
     "output_type": "stream",
     "text": [
      "         0        1 1\n",
      "         1        1 1\n",
      "         2        1 1\n",
      "         3        2 2\n",
      "         4        0 0\n",
      "         5        1 1\n",
      "         6        1 1\n",
      "         7        0 0\n",
      "         8        2 2\n",
      "         9        0 0\n",
      "        10        1 1\n"
     ]
    }
   ],
   "source": [
    "simRes = c1.SimulateChainDT( 10, True, False, True )"
   ]
  },
  {
   "cell_type": "markdown",
   "id": "bdfacb96-dacc-48b5-bc2a-5c04d348ad17",
   "metadata": {},
   "source": [
    "The empirical distribution can be extracted from the `SimulationResult` object via its method `Distribution()`.\n",
    "This produces some information on the output and stores the result in a `DiscreteDistribution` object."
   ]
  },
  {
   "cell_type": "code",
   "execution_count": 21,
   "id": "076e913b-623b-4bc3-ace6-317625cdbe6b",
   "metadata": {
    "execution": {
     "iopub.execute_input": "2025-05-19T21:45:21.829083Z",
     "iopub.status.busy": "2025-05-19T21:45:21.828765Z",
     "iopub.status.idle": "2025-05-19T21:45:21.832716Z",
     "shell.execute_reply": "2025-05-19T21:45:21.831850Z"
    }
   },
   "outputs": [
    {
     "name": "stdout",
     "output_type": "stream",
     "text": [
      "# State   0:   cum time =        3   (30%)\n",
      "# State   1:   cum time =        5   (50%)\n",
      "# State   2:   cum time =        2   (20%)\n"
     ]
    }
   ],
   "source": [
    "trDis = simRes.Distribution()"
   ]
  },
  {
   "cell_type": "code",
   "execution_count": 22,
   "id": "b705f4cf-c4cd-449f-8a67-31427d751eb7",
   "metadata": {
    "execution": {
     "iopub.execute_input": "2025-05-19T21:45:21.834961Z",
     "iopub.status.busy": "2025-05-19T21:45:21.834396Z",
     "iopub.status.idle": "2025-05-19T21:45:21.837473Z",
     "shell.execute_reply": "2025-05-19T21:45:21.836990Z"
    }
   },
   "outputs": [
    {
     "name": "stdout",
     "output_type": "stream",
     "text": [
      "Discrete distribution values { 0  1  2  } probas {      0.3      0.5      0.2 }\n"
     ]
    }
   ],
   "source": [
    "print( trDis )"
   ]
  },
  {
   "cell_type": "markdown",
   "id": "8f0bfa5b-66c1-4a92-a88e-db0fd1ec70e9",
   "metadata": {},
   "source": [
    "## Second example: solving continuous-time Markov chains"
   ]
  },
  {
   "cell_type": "markdown",
   "id": "4a03f966-d32f-4a5b-9cc7-39b2f268da8a",
   "metadata": {},
   "source": [
    "We first recreate the continuous-time Markov chain of Lesson 1"
   ]
  },
  {
   "cell_type": "code",
   "execution_count": 23,
   "id": "07b8c756-d527-470b-af2d-b595969c20a1",
   "metadata": {
    "execution": {
     "iopub.execute_input": "2025-05-19T21:45:21.839107Z",
     "iopub.status.busy": "2025-05-19T21:45:21.838743Z",
     "iopub.status.idle": "2025-05-19T21:45:21.842355Z",
     "shell.execute_reply": "2025-05-19T21:45:21.841798Z"
    }
   },
   "outputs": [],
   "source": [
    "Q = mc.SparseMatrix(6)\n",
    "Q.set_type(mc.CONTINUOUS)\n",
    "Q.setEntry(0,1,1.0)\n",
    "Q.setEntry(0,0,-1.0)\n",
    "for i in range(1,6):\n",
    "    if i > 0:\n",
    "        Q.setEntry(i,0,1.0)\n",
    "        Q.addToEntry(i,i,-1.0)\n",
    "    if i < 5:\n",
    "        Q.setEntry(i,i+1,1.0)\n",
    "        Q.addToEntry(i,i,-1.0)"
   ]
  },
  {
   "cell_type": "code",
   "execution_count": 24,
   "id": "5e13090c-d9e3-48e3-a654-23d1592c6a09",
   "metadata": {
    "execution": {
     "iopub.execute_input": "2025-05-19T21:45:21.844019Z",
     "iopub.status.busy": "2025-05-19T21:45:21.843723Z",
     "iopub.status.idle": "2025-05-19T21:45:21.847233Z",
     "shell.execute_reply": "2025-05-19T21:45:21.846640Z"
    }
   },
   "outputs": [],
   "source": [
    "c2 = mmc.MarkovChain( Q )\n",
    "c2.set_init_distribution(initial)\n",
    "c2.set_model_name( \"Demo_Continuous\" )"
   ]
  },
  {
   "cell_type": "markdown",
   "id": "13e32629-e0cb-408f-ba8e-5329928fc724",
   "metadata": {},
   "source": [
    "### State distributions"
   ]
  },
  {
   "cell_type": "markdown",
   "id": "f0b6ed62-f2e6-4854-b253-9e26e2dbaa1e",
   "metadata": {},
   "source": [
    "Standard call to stationary distribution method"
   ]
  },
  {
   "cell_type": "code",
   "execution_count": 25,
   "id": "42c06a4d-d7df-4e81-a069-45cb76a24d8d",
   "metadata": {
    "execution": {
     "iopub.execute_input": "2025-05-19T21:45:21.849112Z",
     "iopub.status.busy": "2025-05-19T21:45:21.848724Z",
     "iopub.status.idle": "2025-05-19T21:45:21.852033Z",
     "shell.execute_reply": "2025-05-19T21:45:21.851552Z"
    }
   },
   "outputs": [
    {
     "name": "stdout",
     "output_type": "stream",
     "text": [
      "Discrete distribution values { 0  1  2  3  4  5  } probas {      0.5     0.25    0.125   0.0625  0.03125  0.03125 }\n"
     ]
    }
   ],
   "source": [
    "stadis = c2.StationaryDistribution()\n",
    "print(stadis)"
   ]
  },
  {
   "cell_type": "markdown",
   "id": "559a4244-6be2-4682-9f43-b956faea530e",
   "metadata": {},
   "source": [
    "### Simulation"
   ]
  },
  {
   "cell_type": "markdown",
   "id": "5b0046df-44f6-4507-9041-8824284f5679",
   "metadata": {},
   "source": [
    "Simulation is as for discrete-time chains, but there is an additional control:\n",
    "`withIncrements` specifies whether time increments (sojourn time in each state) should be printed\n",
    "when tracing is enabled."
   ]
  },
  {
   "cell_type": "markdown",
   "id": "a49a26fe-1240-4be7-bb68-b75e7960ae30",
   "metadata": {},
   "source": [
    "Example of a simulation of 10 time units, with all details printed. \n",
    "Each line of the output contains:\n",
    "\n",
    "* the sequence number of the transition event inside square brackets\n",
    "* the time at which this event occured\n",
    "* the state *index* that *results* from the transition\n",
    "* the time increment between is event and the previous one\n",
    "* the state again, but now in full representation (in this example this is the same as the index)."
   ]
  },
  {
   "cell_type": "code",
   "execution_count": 26,
   "id": "5012c5e2-edcf-4cf1-b8d8-37a49a1e2f44",
   "metadata": {
    "execution": {
     "iopub.execute_input": "2025-05-19T21:45:21.853622Z",
     "iopub.status.busy": "2025-05-19T21:45:21.853323Z",
     "iopub.status.idle": "2025-05-19T21:45:21.856522Z",
     "shell.execute_reply": "2025-05-19T21:45:21.856022Z"
    }
   },
   "outputs": [
    {
     "name": "stdout",
     "output_type": "stream",
     "text": [
      "[   0]     0.000000        0   0.000000 0\n",
      "[   1]     0.704633        1   0.704633 1\n",
      "[   2]     1.457544        2   0.752910 2\n",
      "[   3]     1.732233        3   0.274690 3\n",
      "[   4]     2.232788        0   0.500555 0\n",
      "[   5]     2.657029        1   0.424241 1\n",
      "[   6]     2.862473        2   0.205444 2\n",
      "[   7]     2.867068        3   0.004595 3\n",
      "[   8]     3.820435        0   0.953367 0\n",
      "[   9]     4.494710        1   0.674275 1\n",
      "[  10]     4.498088        0   0.003378 0\n",
      "[  11]     5.850046        1   1.351958 1\n",
      "[  12]     6.369734        2   0.519688 2\n",
      "[  13]     7.016731        0   0.646998 0\n",
      "[  14]     7.222356        1   0.205625 1\n",
      "[  15]     7.319826        2   0.097470 2\n",
      "[  16]     8.074626        3   0.754800 3\n",
      "[  17]     8.494826        4   0.420200 4\n",
      "[  18]     8.525130        5   0.030303 5\n",
      "[  19]     8.878892        0   0.353762 0\n",
      "[  20]     9.610734        1   0.731843 1\n",
      "[  21]    10.000000        2   0.389266 2\n"
     ]
    }
   ],
   "source": [
    "simres = c2.SimulateChainCT( 10.0, stats=False, traj=True, withIncrements=True, trace=True )"
   ]
  },
  {
   "cell_type": "markdown",
   "id": "9d923342-c951-4e05-be79-c2bddf39a13c",
   "metadata": {},
   "source": [
    "Observe the following conventions:\n",
    "\n",
    "* the first event (#0) is always at time 0 and it results in a transition to the initial state;\n",
    "* the last date is exactly the simulation time specified;\n",
    "* the sojourn time in the state resulting from event #n is to be read in the following line: that of event #n+1."
   ]
  },
  {
   "cell_type": "markdown",
   "id": "7a2f76a9-52ba-4299-a738-efce394c3564",
   "metadata": {},
   "source": [
    "The trajectory has been kept. It can be accessed e.g. for post-processing."
   ]
  },
  {
   "cell_type": "code",
   "execution_count": 27,
   "id": "bc79905d-6d70-4222-bfb2-0b84d258386a",
   "metadata": {
    "execution": {
     "iopub.execute_input": "2025-05-19T21:45:21.858153Z",
     "iopub.status.busy": "2025-05-19T21:45:21.857889Z",
     "iopub.status.idle": "2025-05-19T21:45:21.861335Z",
     "shell.execute_reply": "2025-05-19T21:45:21.860653Z"
    }
   },
   "outputs": [
    {
     "name": "stdout",
     "output_type": "stream",
     "text": [
      "[ 0.          0.70463336  1.45754369  1.73223331  2.23278824  2.65702925\n",
      "  2.86247279  2.86706784  3.82043494  4.49470957  4.49808781  5.85004578\n",
      "  6.36973369  7.01673122  7.2223561   7.31982573  8.0746262   8.49482632\n",
      "  8.52512969  8.87889168  9.61073446 10.        ]\n",
      "[0 1 2 3 0 1 2 3 0 1 0 1 2 0 1 2 3 4 5 0 1 2]\n"
     ]
    }
   ],
   "source": [
    "print( simres.CT_dates() )\n",
    "print( simres.states() )"
   ]
  },
  {
   "cell_type": "markdown",
   "id": "158474a2-dfb6-463b-a23b-8df277e66ade",
   "metadata": {},
   "source": [
    "### Hitting time distributions"
   ]
  },
  {
   "cell_type": "markdown",
   "id": "b414c6c8-4ed8-4086-b446-b85bf575763e",
   "metadata": {},
   "source": [
    "For general Markov chains, hitting time distributions can be simulated.\n",
    "Hitting time methods all require as argument a *hit set indicator* which is an array of booleans where `True` marks the states belonging to the hitting set."
   ]
  },
  {
   "cell_type": "markdown",
   "id": "e78a6819-979f-4034-a68f-ebabc4fc1b91",
   "metadata": {},
   "source": [
    "Here, the hitting set contains just the last state (index 5)."
   ]
  },
  {
   "cell_type": "code",
   "execution_count": 28,
   "id": "9d0c7f05-3052-4257-ab97-c03427e4b9e2",
   "metadata": {
    "execution": {
     "iopub.execute_input": "2025-05-19T21:45:21.864271Z",
     "iopub.status.busy": "2025-05-19T21:45:21.863668Z",
     "iopub.status.idle": "2025-05-19T21:45:21.866756Z",
     "shell.execute_reply": "2025-05-19T21:45:21.866183Z"
    }
   },
   "outputs": [],
   "source": [
    "hitset = np.array( [ False, False, False, False, False, True ], dtype=bool )\n"
   ]
  },
  {
   "cell_type": "markdown",
   "id": "ac12e898-2c41-421e-87c8-61a77e626a44",
   "metadata": {},
   "source": [
    "Hitting time simulation methods have several controls.\n",
    "The basic syntax is `SimulateHittingTime( init, hitset, sample_nb, max_time )` where:\n",
    "\n",
    "* `init` specifies the initial distribution: either a state number or a `DiscreteDistribution` object\n",
    "* `hitset` is the hitting set indicator\n",
    "* `sample_nb` is the number of samples to be drawn\n",
    "* `max_time` is a time limit for simulations: hitting times larger than this value will not be found."
   ]
  },
  {
   "cell_type": "markdown",
   "id": "caf4188d-0919-46da-9eff-7592056033e1",
   "metadata": {},
   "source": [
    "Example: simulating 25 values of the hitting time from state 0."
   ]
  },
  {
   "cell_type": "code",
   "execution_count": 29,
   "id": "17951cde-76a0-4b54-b73a-e8e5087240db",
   "metadata": {
    "execution": {
     "iopub.execute_input": "2025-05-19T21:45:21.868382Z",
     "iopub.status.busy": "2025-05-19T21:45:21.868155Z",
     "iopub.status.idle": "2025-05-19T21:45:21.870618Z",
     "shell.execute_reply": "2025-05-19T21:45:21.870169Z"
    }
   },
   "outputs": [],
   "source": [
    "simres = c2.SimulateHittingTime( 0, hitset, 25, 100  )"
   ]
  },
  {
   "cell_type": "markdown",
   "id": "7b0ce8f7-46b0-441e-976a-b106cc657f11",
   "metadata": {},
   "source": [
    "The samples of the simulation are stored in the attribute `CT_dates` of the simulation object."
   ]
  },
  {
   "cell_type": "code",
   "execution_count": 30,
   "id": "e08898fe-8b57-4173-825a-219954f0bf94",
   "metadata": {
    "execution": {
     "iopub.execute_input": "2025-05-19T21:45:21.872008Z",
     "iopub.status.busy": "2025-05-19T21:45:21.871698Z",
     "iopub.status.idle": "2025-05-19T21:45:21.874739Z",
     "shell.execute_reply": "2025-05-19T21:45:21.874193Z"
    }
   },
   "outputs": [
    {
     "name": "stdout",
     "output_type": "stream",
     "text": [
      "[  2.25621908  47.82934132  55.49530805   8.71000108  92.30982759\n",
      "  22.83794963   7.090968    17.65960161  91.43554553  49.56252067\n",
      "   4.75619739  63.09539908  19.70872092  58.51844151  48.71590588\n",
      "  67.90897413  21.00038601  57.54621086  28.2246774    2.77211519\n",
      "  57.39968514 100.4853776   45.52337486   5.31724674  40.08304546]\n"
     ]
    }
   ],
   "source": [
    "print( simres.CT_dates() )"
   ]
  },
  {
   "cell_type": "markdown",
   "id": "d7d3e8b2-6933-48be-bd62-06cda6d6d3e7",
   "metadata": {},
   "source": [
    "It is also possible to compute average hitting times, starting from all states.\n",
    "The method for this is `AverageHittingTime`. It takes the hitting set as unique argument."
   ]
  },
  {
   "cell_type": "code",
   "execution_count": 31,
   "id": "9590156f-f6af-4dca-9bc9-d7db3e8c37d3",
   "metadata": {
    "execution": {
     "iopub.execute_input": "2025-05-19T21:45:21.876398Z",
     "iopub.status.busy": "2025-05-19T21:45:21.876093Z",
     "iopub.status.idle": "2025-05-19T21:45:21.880009Z",
     "shell.execute_reply": "2025-05-19T21:45:21.878676Z"
    }
   },
   "outputs": [
    {
     "name": "stdout",
     "output_type": "stream",
     "text": [
      "[31. 30. 28. 24. 16.  0.]\n"
     ]
    }
   ],
   "source": [
    "avghit = c2.AverageHittingTime( hitset )\n",
    "print( avghit )"
   ]
  },
  {
   "cell_type": "markdown",
   "id": "7d11808a-228e-4d8f-9906-ea6b31e66393",
   "metadata": {},
   "source": [
    "Comparing with the empirical average of the simulation."
   ]
  },
  {
   "cell_type": "code",
   "execution_count": 32,
   "id": "6e2d80e7-cef9-4ea5-ac34-8b38059e1386",
   "metadata": {
    "execution": {
     "iopub.execute_input": "2025-05-19T21:45:21.882321Z",
     "iopub.status.busy": "2025-05-19T21:45:21.881899Z",
     "iopub.status.idle": "2025-05-19T21:45:21.885332Z",
     "shell.execute_reply": "2025-05-19T21:45:21.884838Z"
    }
   },
   "outputs": [
    {
     "name": "stdout",
     "output_type": "stream",
     "text": [
      "Empirical average of hitting time from state 0 = 40.649721629688365\n"
     ]
    }
   ],
   "source": [
    "avg = 0\n",
    "for i in range(25):\n",
    "    avg = avg + simres.CT_dates()[i]\n",
    "print( \"Empirical average of hitting time from state 0 =\", avg/25 )"
   ]
  }
 ],
 "metadata": {
  "kernelspec": {
   "display_name": "Python 3 (ipykernel)",
   "language": "python",
   "name": "python3"
  },
  "language_info": {
   "codemirror_mode": {
    "name": "ipython",
    "version": 3
   },
   "file_extension": ".py",
   "mimetype": "text/x-python",
   "name": "python",
   "nbconvert_exporter": "python",
   "pygments_lexer": "ipython3",
   "version": "3.11.11"
  }
 },
 "nbformat": 4,
 "nbformat_minor": 5
}
